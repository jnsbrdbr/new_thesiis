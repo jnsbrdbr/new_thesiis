{
  "nbformat": 4,
  "nbformat_minor": 0,
  "metadata": {
    "colab": {
      "name": "gaussian13214.ipynb",
      "provenance": [],
      "collapsed_sections": [],
      "authorship_tag": "ABX9TyNePzqLaR9SDBvwN3GSi13Z",
      "include_colab_link": true
    },
    "kernelspec": {
      "name": "python3",
      "display_name": "Python 3"
    },
    "language_info": {
      "name": "python"
    }
  },
  "cells": [
    {
      "cell_type": "markdown",
      "metadata": {
        "id": "view-in-github",
        "colab_type": "text"
      },
      "source": [
        "<a href=\"https://colab.research.google.com/github/jnsbrdbr/new_thesiis/blob/main/9.6_gaussian13214.ipynb\" target=\"_parent\"><img src=\"https://colab.research.google.com/assets/colab-badge.svg\" alt=\"Open In Colab\"/></a>"
      ]
    },
    {
      "cell_type": "code",
      "execution_count": null,
      "metadata": {
        "id": "9KBtVESwFfz7"
      },
      "outputs": [],
      "source": [
        "import numpy as np\n",
        "import pandas as pd\n",
        "import seaborn as sns\n",
        "import matplotlib.pyplot as plt\n",
        "import copy\n",
        "from sklearn.model_selection import train_test_split\n",
        "from sklearn.svm import SVC\n",
        "from sklearn import svm\n",
        "from sklearn.gaussian_process.kernels import RBF\n",
        "from sklearn import metrics\n",
        "from sklearn.metrics import confusion_matrix\n",
        "from numpy import mean\n",
        "from numpy import std\n",
        "from sklearn.model_selection import KFold\n",
        "from sklearn.model_selection import cross_val_score,cross_val_predict\n",
        "from sklearn.metrics import auc\n",
        "from sklearn.metrics import RocCurveDisplay\n",
        "from sklearn.model_selection import StratifiedKFold\n",
        "from sklearn.metrics import roc_auc_score\n",
        "from sklearn.metrics import roc_curve\n",
        "from matplotlib import pyplot\n",
        "from sklearn.metrics import accuracy_score"
      ]
    },
    {
      "cell_type": "code",
      "source": [
        "from google.colab import drive\n",
        "drive.mount('/content/drive') "
      ],
      "metadata": {
        "colab": {
          "base_uri": "https://localhost:8080/"
        },
        "id": "8kDtc0GcFhwr",
        "outputId": "4002c4ed-5234-467e-abc8-bdba741373e2"
      },
      "execution_count": null,
      "outputs": [
        {
          "output_type": "stream",
          "name": "stdout",
          "text": [
            "Drive already mounted at /content/drive; to attempt to forcibly remount, call drive.mount(\"/content/drive\", force_remount=True).\n"
          ]
        }
      ]
    },
    {
      "cell_type": "code",
      "source": [
        "!pip3 install pickle5\n",
        "import pickle5 as pickle"
      ],
      "metadata": {
        "colab": {
          "base_uri": "https://localhost:8080/"
        },
        "id": "gGR2dNtQFotz",
        "outputId": "6a85d511-46db-4802-dbdd-63a2cfd635ca"
      },
      "execution_count": null,
      "outputs": [
        {
          "output_type": "stream",
          "name": "stdout",
          "text": [
            "Requirement already satisfied: pickle5 in /usr/local/lib/python3.7/dist-packages (0.0.12)\n"
          ]
        }
      ]
    },
    {
      "cell_type": "code",
      "source": [
        "with open('/content/drive/MyDrive/10000/Tresult.pkl', \"rb\") as fh:\n",
        "  result = pickle.load(fh)"
      ],
      "metadata": {
        "id": "ssExWusgFqvY"
      },
      "execution_count": null,
      "outputs": []
    },
    {
      "cell_type": "code",
      "source": [
        "print(result)"
      ],
      "metadata": {
        "colab": {
          "base_uri": "https://localhost:8080/"
        },
        "id": "K9HXtiy8Fsh-",
        "outputId": "8947b854-f226-4582-dddd-5428836b030a"
      },
      "execution_count": null,
      "outputs": [
        {
          "output_type": "stream",
          "name": "stdout",
          "text": [
            "               0         1         2         3         4         5         6  \\\n",
            "0      -2.178515 -3.260148 -0.698552 -1.030417 -0.723180 -1.027433 -0.405889   \n",
            "1      -2.178515 -3.260148 -0.698552 -1.030417 -0.723180 -1.027433 -0.405889   \n",
            "2      -2.178515 -3.260148 -0.698552 -1.030417 -0.723180 -1.027433 -0.405889   \n",
            "3      -2.178515 -3.260148 -0.698552 -1.030417 -0.723180 -1.027433 -0.405889   \n",
            "4      -2.178710 -3.260547 -0.698874 -1.030967 -0.723695 -1.028303 -0.406622   \n",
            "...          ...       ...       ...       ...       ...       ...       ...   \n",
            "13209  -2.178515 -3.260148 -0.698552 -1.030417 -0.723180 -1.027433 -0.405889   \n",
            "13210  -2.178515 -3.260148 -0.698552 -1.030417 -0.723180 -1.027433 -0.405889   \n",
            "13211  -2.178515 -3.260148 -0.698552 -1.030417 -0.723180 -1.027433 -0.405889   \n",
            "13212  -2.178515 -3.260148 -0.698552 -1.030417 -0.723180 -1.027433 -0.405889   \n",
            "13213  27.606119  6.905609  0.154864  0.191890  0.097248  0.114301  0.021144   \n",
            "\n",
            "              7         8         9  ...          1         2         3  \\\n",
            "0     -0.059185 -0.526790 -0.190040  ...   0.452139 -1.203407 -0.183899   \n",
            "1     -0.059185 -0.526790 -0.190040  ...   0.452139 -1.203407 -0.183899   \n",
            "2     -0.059185 -0.526790 -0.190040  ...   0.452139 -1.203407 -0.183899   \n",
            "3     -0.059185 -0.526790 -0.190040  ...   0.452139 -1.203407 -0.183899   \n",
            "4     -0.059394 -0.528048 -0.191038  ...  -7.508892  7.994602  0.226101   \n",
            "...         ...       ...       ...  ...        ...       ...       ...   \n",
            "13209 -0.059185 -0.526790 -0.190040  ...   1.554089 -4.346298  9.404540   \n",
            "13210 -0.059185 -0.526790 -0.190040  ...   0.599942 -1.505019 -0.218230   \n",
            "13211 -0.059185 -0.526790 -0.190040  ...  -8.533632  9.178701  0.278730   \n",
            "13212 -0.059185 -0.526790 -0.190040  ...  -8.533631  9.178698  0.278730   \n",
            "13213  0.002302  0.020160  0.004991  ... -11.890588  4.271539  0.100003   \n",
            "\n",
            "              4         5         6         7         8         9  label  \n",
            "0     -0.438911 -0.266164 -0.544673 -0.224884 -0.068575 -0.230930      1  \n",
            "1     -0.438911 -0.266164 -0.544673 -0.224884 -0.068575 -0.230930      1  \n",
            "2     -0.438911 -0.266164 -0.544673 -0.224884 -0.068575 -0.230930      1  \n",
            "3     -0.438911 -0.266164 -0.544673 -0.224884 -0.068575 -0.230930      1  \n",
            "4      0.991238  0.482262  0.829106  0.246306  0.048557  0.160622      1  \n",
            "...         ...       ...       ...       ...       ...       ...    ...  \n",
            "13209  4.676083  1.038614  1.272721  0.249463  0.046943  0.150109      0  \n",
            "13210 -0.586787 -0.370000 -0.787776 -0.380601 -0.129873 -0.451315      0  \n",
            "13211  1.177091  0.579516  1.007372  0.308708  0.063843  0.211098      0  \n",
            "13212  1.177090  0.579515  1.007370  0.308707  0.063843  0.211097      0  \n",
            "13213  0.324583  0.150424  0.249943  0.068055  0.013998  0.046459      0  \n",
            "\n",
            "[13214 rows x 101 columns]\n"
          ]
        }
      ]
    },
    {
      "cell_type": "code",
      "source": [
        "#divide data in to data_label and non_data label\n",
        "\n",
        "y=result.label\n",
        "pd.options.mode.chained_assignment = None  # default='warn'\n",
        "for i in range(len(y)):\n",
        "  if y[i]==1:\n",
        "    y[i]=0\n",
        "  else:\n",
        "    y[i]=1"
      ],
      "metadata": {
        "id": "fU14ZjiiFse6"
      },
      "execution_count": null,
      "outputs": []
    },
    {
      "cell_type": "code",
      "source": [
        "result_nonlabel=copy.deepcopy(result)\n",
        "del result_nonlabel['label']\n",
        "X=result_nonlabel"
      ],
      "metadata": {
        "id": "1bWPefc1FsaQ"
      },
      "execution_count": null,
      "outputs": []
    },
    {
      "cell_type": "code",
      "source": [
        "#The model\n",
        "\n",
        "model=svm.SVC(kernel=\"rbf\",gamma=0.1, C=0.1, probability=True)"
      ],
      "metadata": {
        "id": "QgvCrSgKFsY7"
      },
      "execution_count": null,
      "outputs": []
    },
    {
      "cell_type": "code",
      "source": [
        "#FPR\n",
        "from sklearn.metrics import confusion_matrix\n",
        "import sys\n",
        "import numpy\n",
        "\n",
        "kf = KFold(n_splits=10,shuffle=True)#, random_state=None\n",
        "res_fpr = list()\n",
        "res_probas_=list()\n",
        "Y_test_lst=list()\n",
        "pred_values_lst=list()\n",
        "\n",
        "for train_index , test_index in kf.split(X,y):\n",
        "    i=0\n",
        "    X_train , X_test = X.iloc[train_index,:],X.iloc[test_index,:]\n",
        "    Y_train , Y_test = y[train_index] , y[test_index]\n",
        "\n",
        "    final_model=model.fit(X_train,Y_train) #model\n",
        "    \n",
        "    probas_ = final_model.predict_proba(X_test)#prediction based on probabilities    \n",
        "    Y_test_lst.append(Y_test)\n",
        "    res_probas_.append(probas_)\n",
        "    #print('res_probas_:',res_probas_)\n",
        "\n",
        "    #res_probas_[i][:, [0, 1]] = res_probas_[i][:, [1, 0]]#swapping columns 0f 0,1\n",
        "\n",
        "    #print('res_probas_swap:',res_probas_)\n",
        "    pred_values = final_model.predict(X_test)\n",
        "    pred_values_lst.append(pred_values)\n",
        "    tn, fp, fn, tp = confusion_matrix(Y_test, pred_values, labels=[0, 1]).ravel()\n",
        "    print(f'True Positives: {tp}')\n",
        "    print(f'False Positives: {fp}')\n",
        "    print(f'True Negatives: {tn}')\n",
        "    print(f'False Negatives: {fn}')\n",
        "    fpr=(np.divide(fp,(fp+tn)))\n",
        "    if fp==0:\n",
        "      fpr=0\n",
        "\n",
        "    y_test_arr=np.array(Y_test)\n",
        "    count=0\n",
        "    con=0\n",
        "    for i in range(0,len(y_test_arr)):\n",
        "       if y_test_arr[i]==1:\n",
        "          count+=1\n",
        "       else:\n",
        "         con+=1\n",
        "    print(\"number of fake:\",count)\n",
        "    print(\"number of real:\",con)\n",
        "\n",
        "    print('fpr=%.3f' % (mean(fpr)))#tpr=%.4f : mean(tpr), \n",
        "    res_fpr.append(mean(fpr))\n",
        "    print('---------------------')\n",
        "    i+=1\n",
        "    \n",
        "print('\\n\\n','total_fpr=%.3f' % mean(res_fpr))# total_tpr=%.4f :total_tpr,\n"
      ],
      "metadata": {
        "colab": {
          "base_uri": "https://localhost:8080/"
        },
        "id": "I8gcLsF-GRdc",
        "outputId": "f29a0092-a542-4a78-af01-5fcee9134eb2"
      },
      "execution_count": null,
      "outputs": [
        {
          "output_type": "stream",
          "name": "stdout",
          "text": [
            "True Positives: 332\n",
            "False Positives: 11\n",
            "True Negatives: 970\n",
            "False Negatives: 9\n",
            "number of fake: 341\n",
            "number of real: 981\n",
            "fpr=0.011\n",
            "---------------------\n",
            "True Positives: 334\n",
            "False Positives: 9\n",
            "True Negatives: 974\n",
            "False Negatives: 5\n",
            "number of fake: 339\n",
            "number of real: 983\n",
            "fpr=0.009\n",
            "---------------------\n",
            "True Positives: 311\n",
            "False Positives: 10\n",
            "True Negatives: 986\n",
            "False Negatives: 15\n",
            "number of fake: 326\n",
            "number of real: 996\n",
            "fpr=0.010\n",
            "---------------------\n",
            "True Positives: 307\n",
            "False Positives: 13\n",
            "True Negatives: 986\n",
            "False Negatives: 16\n",
            "number of fake: 323\n",
            "number of real: 999\n",
            "fpr=0.013\n",
            "---------------------\n",
            "True Positives: 318\n",
            "False Positives: 16\n",
            "True Negatives: 979\n",
            "False Negatives: 8\n",
            "number of fake: 326\n",
            "number of real: 995\n",
            "fpr=0.016\n",
            "---------------------\n",
            "True Positives: 324\n",
            "False Positives: 8\n",
            "True Negatives: 984\n",
            "False Negatives: 5\n",
            "number of fake: 329\n",
            "number of real: 992\n",
            "fpr=0.008\n",
            "---------------------\n",
            "True Positives: 332\n",
            "False Positives: 13\n",
            "True Negatives: 966\n",
            "False Negatives: 10\n",
            "number of fake: 342\n",
            "number of real: 979\n",
            "fpr=0.013\n",
            "---------------------\n",
            "True Positives: 320\n",
            "False Positives: 13\n",
            "True Negatives: 980\n",
            "False Negatives: 8\n",
            "number of fake: 328\n",
            "number of real: 993\n",
            "fpr=0.013\n",
            "---------------------\n",
            "True Positives: 299\n",
            "False Positives: 8\n",
            "True Negatives: 994\n",
            "False Negatives: 20\n",
            "number of fake: 319\n",
            "number of real: 1002\n",
            "fpr=0.008\n",
            "---------------------\n",
            "True Positives: 321\n",
            "False Positives: 11\n",
            "True Negatives: 979\n",
            "False Negatives: 10\n",
            "number of fake: 331\n",
            "number of real: 990\n",
            "fpr=0.011\n",
            "---------------------\n",
            "\n",
            "\n",
            " total_fpr=0.011\n"
          ]
        }
      ]
    },
    {
      "cell_type": "code",
      "source": [
        "#ROC_AUC\n",
        "import sys\n",
        "import numpy\n",
        "\n",
        "kf = KFold(n_splits=10,shuffle=True)\n",
        "tprs = []\n",
        "aucs = []\n",
        "fpr_lst=list()\n",
        "tpr_lst=list()\n",
        "mean_fpr = np.linspace(0, 1, 100)\n",
        "plt.figure(figsize=(6,5))\n",
        "i = 0\n",
        "for _ , _ in kf.split(X,y):\n",
        "    # Compute ROC curve and area the curve\n",
        "    fpr, tpr, thresholds = roc_curve(Y_test_lst[i],pred_values_lst[i] )\n",
        "    #fpr, tpr, thresholds = roc_curve(Y_test_lst[i],pred_values_lst[i])\n",
        "    fpr_lst.append(mean(fpr))\n",
        "    tpr_lst.append(mean(tpr))\n",
        "    tprs.append(np.interp(mean_fpr, fpr, tpr))\n",
        "    tprs[-1][0] = 0.0\n",
        "    roc_auc = auc(fpr, tpr)\n",
        "    aucs.append(roc_auc)\n",
        "    plt.plot(fpr, tpr, lw=1, alpha=0.3,\n",
        "             label='ROC fold %d (AUC = %0.2f)' % (i, roc_auc))\n",
        "    \n",
        "    i += 1\n",
        "    \n",
        "plt.plot([0, 1], [0, 1], linestyle='--', lw=2, color='r',\n",
        "         label='Chance', alpha=.8)\n",
        "\n",
        "mean_tpr = np.mean(tprs, axis=0)\n",
        "mean_tpr[-1] = 1.0\n",
        "mean_auc = auc(mean_fpr, mean_tpr)\n",
        "std_auc = np.std(aucs)\n",
        "plt.plot(mean_fpr, mean_tpr, color='b',\n",
        "         label=r'Mean ROC (AUC = %0.2f $\\pm$ %0.2f)' % (mean_auc, std_auc),\n",
        "         lw=2, alpha=.8)\n",
        "std_tpr = np.std(tprs, axis=0)\n",
        "tprs_upper = np.minimum(mean_tpr + std_tpr, 1)\n",
        "tprs_lower = np.maximum(mean_tpr - std_tpr, 0)\n",
        "plt.fill_between(mean_fpr, tprs_lower, tprs_upper, color='grey', alpha=.2,\n",
        "                 label=r'$\\pm$ 1 std. dev.')\n",
        "\n",
        "plt.xlim([-0.01, 1.01])\n",
        "plt.ylim([-0.01, 1.01])\n",
        "plt.xlabel('False Positive Rate',fontsize=18)\n",
        "plt.ylabel('True Positive Rate',fontsize=18)\n",
        "plt.title('Cross-Validation ROC of logistic regression',fontsize=8)\n",
        "plt.legend(loc=\"lower right\", prop={'size': 8})\n",
        "plt.show()"
      ],
      "metadata": {
        "id": "mY4Vnat5ILRY",
        "colab": {
          "base_uri": "https://localhost:8080/",
          "height": 355
        },
        "outputId": "11a6772c-6c3e-4718-dc91-201994d9033d"
      },
      "execution_count": null,
      "outputs": [
        {
          "output_type": "display_data",
          "data": {
            "text/plain": [
              "<Figure size 432x360 with 1 Axes>"
            ],
            "image/png": "[encoded data removed]"
          },
          "metadata": {
            "needs_background": "light"
          }
        }
      ]
    },
    {
      "cell_type": "code",
      "source": [
        "#recall/TPR\n",
        "\n",
        "cv = KFold(n_splits=10, shuffle=True)#, shuffle=True, random_state=42\n",
        "scores_recall = cross_val_score(model,X, y, scoring='recall', cv=cv)\n",
        "\n",
        "print('scores_recall: %.3f (%.3f)' % (mean(scores_recall), std(scores_recall)))"
      ],
      "metadata": {
        "colab": {
          "base_uri": "https://localhost:8080/"
        },
        "id": "WrFN8H9rZ7O7",
        "outputId": "fe2f3b51-2b84-4285-9dda-da02143383b8"
      },
      "execution_count": null,
      "outputs": [
        {
          "output_type": "stream",
          "name": "stdout",
          "text": [
            "scores_recall: 0.968 (0.009)\n"
          ]
        }
      ]
    },
    {
      "cell_type": "code",
      "source": [
        "# accracy\n",
        "\n",
        "cv = KFold(n_splits=10, shuffle=True)#, random_state=42\n",
        "scores = cross_val_score(model, X, y, scoring='accuracy', cv=cv)\n",
        "\n",
        "print('Accuracy: %.3f (%.3f)' % (mean(scores), std(scores)))"
      ],
      "metadata": {
        "colab": {
          "base_uri": "https://localhost:8080/"
        },
        "id": "okpYhwkqZ8pO",
        "outputId": "672c96a9-7877-4d9e-ac2f-52e2eec8c8d3"
      },
      "execution_count": null,
      "outputs": [
        {
          "output_type": "stream",
          "name": "stdout",
          "text": [
            "Accuracy: 0.984 (0.004)\n"
          ]
        }
      ]
    },
    {
      "cell_type": "code",
      "source": [
        "#precision\n",
        "\n",
        "cv = KFold(n_splits=10, shuffle=True)#, shuffle=True, random_state=42\n",
        "scores_precision = cross_val_score(model, X, y, scoring='precision', cv=cv)\n",
        "\n",
        "print('scores_precision: %.3f (%.3f)' % (mean(scores_precision), std(scores_precision)))"
      ],
      "metadata": {
        "colab": {
          "base_uri": "https://localhost:8080/"
        },
        "id": "vdxSQW8pZ-UZ",
        "outputId": "be1e57ef-cedd-4af6-a41f-afa827b8c107"
      },
      "execution_count": null,
      "outputs": [
        {
          "output_type": "stream",
          "name": "stdout",
          "text": [
            "scores_precision: 0.966 (0.008)\n"
          ]
        }
      ]
    }
  ]
}