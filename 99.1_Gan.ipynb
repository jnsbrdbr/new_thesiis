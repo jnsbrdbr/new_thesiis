{
  "nbformat": 4,
  "nbformat_minor": 0,
  "metadata": {
    "colab": {
      "name": "99.1_Gan.ipynb",
      "provenance": [],
      "authorship_tag": "ABX9TyOekDdQvBTj59n1+mygtcHN",
      "include_colab_link": true
    },
    "kernelspec": {
      "name": "python3",
      "display_name": "Python 3"
    },
    "language_info": {
      "name": "python"
    }
  },
  "cells": [
    {
      "cell_type": "markdown",
      "metadata": {
        "id": "view-in-github",
        "colab_type": "text"
      },
      "source": [
        "<a href=\"https://colab.research.google.com/github/jnsbrdbr/new_thesiis/blob/main/99.1_Gan.ipynb\" target=\"_parent\"><img src=\"https://colab.research.google.com/assets/colab-badge.svg\" alt=\"Open In Colab\"/></a>"
      ]
    },
    {
      "cell_type": "code",
      "execution_count": 1,
      "metadata": {
        "colab": {
          "base_uri": "https://localhost:8080/"
        },
        "id": "yxDlz0f99AA3",
        "outputId": "7c6668e7-2c00-40a2-e031-2b29f304a679"
      },
      "outputs": [
        {
          "output_type": "stream",
          "name": "stdout",
          "text": [
            "`%tensorflow_version` only switches the major version: 1.x or 2.x.\n",
            "You set: `2.x  # Colab only.`. This will be interpreted as: `2.x`.\n",
            "\n",
            "\n",
            "TensorFlow 2.x selected.\n",
            "2.8.0\n"
          ]
        }
      ],
      "source": [
        "# Install TensorFlow\n",
        "# !pip install -q tensorflow-gpu==2.0.0-rc0\n",
        "\n",
        "try:\n",
        "  %tensorflow_version 2.x  # Colab only.\n",
        "except Exception:\n",
        "  pass\n",
        "\n",
        "import tensorflow as tf\n",
        "print(tf.__version__)"
      ]
    },
    {
      "cell_type": "code",
      "source": [
        "import keras\n",
        "import numpy as np\n",
        "import pandas as pd\n",
        "import seaborn as sns\n",
        "import matplotlib.pyplot as plt\n",
        "import copy\n",
        "from keras.layers import Input, Dense, Activation, LeakyReLU, BatchNormalization\n",
        "from keras.models import Sequential\n",
        "from tensorflow.keras.optimizers import Adam\n",
        "from sklearn.model_selection import train_test_split\n",
        "from tensorflow.keras.models import Model\n",
        "import keras.backend as K\n",
        "import numpy as np\n",
        "import pandas as pd\n",
        "import matplotlib.pyplot as plt\n",
        "import sys, os\n",
        "\n",
        "%matplotlib inline"
      ],
      "metadata": {
        "id": "A_hoVr_P9HG7"
      },
      "execution_count": 2,
      "outputs": []
    },
    {
      "cell_type": "code",
      "source": [
        "from google.colab import drive\n",
        "drive.mount('/content/drive') "
      ],
      "metadata": {
        "colab": {
          "base_uri": "https://localhost:8080/"
        },
        "id": "BGEQJ7nc9KOO",
        "outputId": "8cb053e6-a530-4b8c-c4b9-4cddfe4b9891"
      },
      "execution_count": 3,
      "outputs": [
        {
          "output_type": "stream",
          "name": "stdout",
          "text": [
            "Drive already mounted at /content/drive; to attempt to forcibly remount, call drive.mount(\"/content/drive\", force_remount=True).\n"
          ]
        }
      ]
    },
    {
      "cell_type": "code",
      "source": [
        "!pip install --upgrade tables"
      ],
      "metadata": {
        "colab": {
          "base_uri": "https://localhost:8080/"
        },
        "id": "C9_JtGAQ9QfZ",
        "outputId": "2ddcaff7-1b9b-4970-c90f-c1579df7baa0"
      },
      "execution_count": 4,
      "outputs": [
        {
          "output_type": "stream",
          "name": "stdout",
          "text": [
            "Requirement already satisfied: tables in /usr/local/lib/python3.7/dist-packages (3.7.0)\n",
            "Requirement already satisfied: packaging in /usr/local/lib/python3.7/dist-packages (from tables) (21.3)\n",
            "Requirement already satisfied: numexpr>=2.6.2 in /usr/local/lib/python3.7/dist-packages (from tables) (2.8.1)\n",
            "Requirement already satisfied: numpy>=1.19.0 in /usr/local/lib/python3.7/dist-packages (from tables) (1.21.5)\n",
            "Requirement already satisfied: pyparsing!=3.0.5,>=2.0.2 in /usr/local/lib/python3.7/dist-packages (from packaging->tables) (3.0.7)\n"
          ]
        }
      ]
    },
    {
      "cell_type": "code",
      "source": [
        "with pd.HDFStore('/content/drive/MyDrive/1000/part2_result',  mode='r') as newstore:\n",
        "    result = newstore.select('result')"
      ],
      "metadata": {
        "id": "-1JPJJAm9TQ_"
      },
      "execution_count": 5,
      "outputs": []
    },
    {
      "cell_type": "code",
      "source": [
        "#final data\n",
        "print(result)"
      ],
      "metadata": {
        "colab": {
          "base_uri": "https://localhost:8080/"
        },
        "id": "nSg9yRXO9cG_",
        "outputId": "6425d420-3836-4ef3-b79a-ab27b14fa152"
      },
      "execution_count": 6,
      "outputs": [
        {
          "output_type": "stream",
          "name": "stdout",
          "text": [
            "             0         1         2             3             4         5  \\\n",
            "0    -1.468407 -3.098769 -0.040978  6.204485e-14  2.991009e-14  0.078341   \n",
            "1    -1.468407 -3.098769 -0.040978 -1.233238e-14  2.951113e-14  0.078341   \n",
            "2    -1.468407 -3.098769 -0.040978 -7.431131e-14  3.860443e-14  0.078341   \n",
            "3    -1.468407 -3.098769 -0.040978  1.650248e-14 -1.360452e-14  0.078341   \n",
            "4    -1.468407 -3.098769 -0.040978  8.579407e-15  2.671601e-14  0.078341   \n",
            "...        ...       ...       ...           ...           ...       ...   \n",
            "1315 -1.468407 -3.098769 -0.040978  1.269764e-14  2.287279e-14  0.078341   \n",
            "1316 -1.468407 -3.098769 -0.040978  1.269764e-14  2.287279e-14  0.078341   \n",
            "1317 -1.468407 -3.098769 -0.040978  1.269764e-14  2.287279e-14  0.078341   \n",
            "1318 -1.468407 -3.098769 -0.040978  1.269764e-14  2.287279e-14  0.078341   \n",
            "1319 -1.468407 -3.098769 -0.040978  1.269764e-14  2.287279e-14  0.078341   \n",
            "\n",
            "            6         7         8         9  ...         1         2  \\\n",
            "0     2.36865 -1.386898 -0.000551 -0.000425  ... -0.039493  0.002581   \n",
            "1     2.36865 -1.386898 -0.000551 -0.000425  ... -0.039493  0.002581   \n",
            "2     2.36865 -1.386898 -0.000551 -0.000425  ... -0.039493  0.002581   \n",
            "3     2.36865 -1.386898 -0.000551 -0.000425  ... -0.039493  0.002581   \n",
            "4     2.36865 -1.386898 -0.000551 -0.000425  ... -0.032130 -0.012159   \n",
            "...       ...       ...       ...       ...  ...       ...       ...   \n",
            "1315  2.36865 -1.386898 -0.000551 -0.000425  ...  0.032918  0.046306   \n",
            "1316  2.36865 -1.386898 -0.000551 -0.000425  ...  0.035148  0.062576   \n",
            "1317  2.36865 -1.386898 -0.000551 -0.000425  ...  0.099628 -0.083265   \n",
            "1318  2.36865 -1.386898 -0.000551 -0.000425  ...  0.023592 -0.050616   \n",
            "1319  2.36865 -1.386898 -0.000551 -0.000425  ...  0.101839 -0.125609   \n",
            "\n",
            "             3         4         5         6         7         8         9  \\\n",
            "0    -0.005026 -0.000115 -0.004540 -0.010420 -0.005894 -0.005817 -0.003177   \n",
            "1    -0.005026 -0.000115 -0.004540 -0.010420 -0.005894 -0.005817 -0.003177   \n",
            "2    -0.005026 -0.000115 -0.004540 -0.010420 -0.005894 -0.005817 -0.003176   \n",
            "3    -0.005026 -0.000115 -0.004540 -0.010420 -0.005894 -0.005817 -0.003177   \n",
            "4    -0.011785 -0.015593 -0.014991 -0.028055  0.006076  0.003190  0.002314   \n",
            "...        ...       ...       ...       ...       ...       ...       ...   \n",
            "1315  0.094631  0.124774  0.008972  0.001981 -0.052331  0.309602  0.009135   \n",
            "1316  0.099325  0.134425  0.015498  0.002026  0.311786  0.021678  0.006007   \n",
            "1317 -0.069888 -0.002082 -0.194672  0.297580  0.001217 -0.005709 -0.028393   \n",
            "1318 -0.007453 -0.021238  0.308253  0.150730 -0.027760 -0.031040  0.127378   \n",
            "1319 -0.142618  0.085227 -0.013546 -0.049724 -0.024447  0.240382  0.004047   \n",
            "\n",
            "      label  \n",
            "0         1  \n",
            "1         1  \n",
            "2         1  \n",
            "3         1  \n",
            "4         1  \n",
            "...     ...  \n",
            "1315      0  \n",
            "1316      0  \n",
            "1317      0  \n",
            "1318      0  \n",
            "1319      0  \n",
            "\n",
            "[1320 rows x 71 columns]\n"
          ]
        }
      ]
    },
    {
      "cell_type": "code",
      "source": [
        "#divide data in to data_label and non_data label\n",
        "\n",
        "y=result.label\n",
        "pd.options.mode.chained_assignment = None  # default='warn'\n",
        "for i in range(len(y)):\n",
        "  if y[i]==1:\n",
        "    y[i]=0\n",
        "  else:\n",
        "    y[i]=1"
      ],
      "metadata": {
        "id": "frfKEoCs9gIQ"
      },
      "execution_count": 7,
      "outputs": []
    },
    {
      "cell_type": "code",
      "source": [
        "result_nonlabel=copy.deepcopy(result)\n",
        "del result_nonlabel['label']\n",
        "X=result_nonlabel"
      ],
      "metadata": {
        "id": "HWM1vbBoUduS"
      },
      "execution_count": 8,
      "outputs": []
    },
    {
      "cell_type": "code",
      "source": [
        "#splitting data in to test and train...\n",
        "\n",
        "from sklearn.model_selection import train_test_split\n",
        "X_train, X_test, y_train, y_test = train_test_split(X, y ,shuffle=True,test_size=0.3)#random_state=42"
      ],
      "metadata": {
        "id": "2QXtZVM39hmh"
      },
      "execution_count": 9,
      "outputs": []
    },
    {
      "cell_type": "code",
      "source": [
        "print('shape of x_train is:',X_train.shape)\n",
        "print('shape of x_test is:',X_test.shape)"
      ],
      "metadata": {
        "colab": {
          "base_uri": "https://localhost:8080/"
        },
        "id": "-uTNI9nu927y",
        "outputId": "2819f199-45d3-402a-994e-dbb9133640d8"
      },
      "execution_count": 10,
      "outputs": [
        {
          "output_type": "stream",
          "name": "stdout",
          "text": [
            "shape of x_train is: (924, 70)\n",
            "shape of x_test is: (396, 70)\n"
          ]
        }
      ]
    },
    {
      "cell_type": "code",
      "source": [
        "def make_latent_samples(n_samples, sample_size):\n",
        "    #return np.random.uniform(-1, 1, size=(n_samples, sample_size))\n",
        "    return np.random.normal(loc=0, scale=1, size=(n_samples, sample_size))"
      ],
      "metadata": {
        "id": "pqrUBIrH95mS"
      },
      "execution_count": 11,
      "outputs": []
    },
    {
      "cell_type": "code",
      "source": [
        "make_latent_samples(1, 100) # generates one sample"
      ],
      "metadata": {
        "colab": {
          "base_uri": "https://localhost:8080/"
        },
        "id": "ULk7h_Go97uH",
        "outputId": "1a6f3f7c-9398-4d75-e561-cb031625b0b7"
      },
      "execution_count": 12,
      "outputs": [
        {
          "output_type": "execute_result",
          "data": {
            "text/plain": [
              "array([[-0.41624775, -0.04542306,  0.62821538,  1.12951346, -0.14667352,\n",
              "         0.526869  ,  1.10931579,  0.04427063, -0.24010434, -0.13266373,\n",
              "        -1.15393848, -0.77934715,  0.85124306,  0.46949753, -0.38182211,\n",
              "        -0.51065058,  0.08326891,  0.94282667, -0.83397527, -0.12454889,\n",
              "         0.42876736,  0.4741067 , -0.77275538,  2.16048692,  0.29882651,\n",
              "         0.72599053, -0.59356147, -0.97359647,  0.93308375,  1.52639176,\n",
              "        -0.93175009, -1.12634055, -0.07644673, -0.21293212, -0.4341997 ,\n",
              "        -0.4227737 , -1.42859771, -1.00558444,  1.80422331,  1.52517399,\n",
              "        -2.29740852,  0.55621641, -0.61147654, -1.00588376, -0.148442  ,\n",
              "         0.06505336,  2.54865755,  1.76606584, -0.37544905, -0.41626521,\n",
              "         1.46014513, -0.17086054,  0.24179565,  0.58336139,  0.64954401,\n",
              "        -1.5125581 , -0.09039874,  0.61216843,  0.44844184,  0.84178083,\n",
              "         0.00877083, -1.09527365,  0.68698151, -0.18581566,  1.20260111,\n",
              "        -1.15217023, -0.5143768 , -0.98316785, -0.19997925,  0.0470608 ,\n",
              "        -1.65838331,  0.71895478, -0.21945294, -0.47952812, -0.38314904,\n",
              "         0.74310031,  0.63423248,  1.02658013, -0.98379064,  0.50041661,\n",
              "        -0.63650371,  0.99714072, -1.7681393 ,  0.03835628, -0.65286301,\n",
              "        -0.31333042, -0.32309967, -1.53148539,  1.36376958,  1.03351326,\n",
              "        -1.43980833, -0.58220665,  0.28516863, -0.19890966, -1.70135628,\n",
              "        -0.22675203,  0.77548436, -1.39739251,  0.55937324,  0.75735324]])"
            ]
          },
          "metadata": {},
          "execution_count": 12
        }
      ]
    },
    {
      "cell_type": "code",
      "source": [
        "generator = Sequential([\n",
        "    Dense(128, input_shape=(100,)),\n",
        "    LeakyReLU(alpha=0.2),\n",
        "    BatchNormalization(momentum=0.7),\n",
        "\n",
        "    #Dense(100),\n",
        "    #LeakyReLU(alpha=0.2),\n",
        "    #BatchNormalization(momentum=0.7),\n",
        "\n",
        "    #Dense(1024),\n",
        "    #LeakyReLU(alpha=0.2),\n",
        "    #BatchNormalization(momentum=0.7),\n",
        "\n",
        "    #Dense(2048),\n",
        "    #LeakyReLU(alpha=0.2),\n",
        "    #BatchNormalization(momentum=0.7),\n",
        "\n",
        "    Dense(70),\n",
        "    Activation('tanh')\n",
        "], name='generator')\n",
        "\n",
        "generator.summary()"
      ],
      "metadata": {
        "colab": {
          "base_uri": "https://localhost:8080/"
        },
        "id": "NRQCCamw-Ec5",
        "outputId": "012a3a3b-7f01-4b2d-88e3-5c9f42fc8f4a"
      },
      "execution_count": 13,
      "outputs": [
        {
          "output_type": "stream",
          "name": "stdout",
          "text": [
            "Model: \"generator\"\n",
            "_________________________________________________________________\n",
            " Layer (type)                Output Shape              Param #   \n",
            "=================================================================\n",
            " dense (Dense)               (None, 128)               12928     \n",
            "                                                                 \n",
            " leaky_re_lu (LeakyReLU)     (None, 128)               0         \n",
            "                                                                 \n",
            " batch_normalization (BatchN  (None, 128)              512       \n",
            " ormalization)                                                   \n",
            "                                                                 \n",
            " dense_1 (Dense)             (None, 70)                9030      \n",
            "                                                                 \n",
            " activation (Activation)     (None, 70)                0         \n",
            "                                                                 \n",
            "=================================================================\n",
            "Total params: 22,470\n",
            "Trainable params: 22,214\n",
            "Non-trainable params: 256\n",
            "_________________________________________________________________\n"
          ]
        }
      ]
    },
    {
      "cell_type": "code",
      "source": [
        "discriminator = Sequential([\n",
        "    Dense(64, input_shape=(70,)),\n",
        "    LeakyReLU(alpha=0.2),\n",
        "    #BatchNormalization(momentum=0.7),\n",
        "\n",
        "    Dense(32),\n",
        "    LeakyReLU(alpha=0.2),\n",
        "    #BatchNormalization(momentum=0.7),\n",
        "\n",
        "    #Dense(128),\n",
        "    #LeakyReLU(alpha=0.2),\n",
        "    #BatchNormalization(momentum=0.7),\n",
        "    #Dense(64),\n",
        "    #LeakyReLU(alpha=0.2),\n",
        "    #BatchNormalization(momentum=0.7),\n",
        "\n",
        "    #Dense(32),\n",
        "    #LeakyReLU(alpha=0.2),\n",
        "    #BatchNormalization(momentum=0.7),\n",
        "\n",
        "    #Dense(16),\n",
        "    #LeakyReLU(alpha=0.2),\n",
        "    #BatchNormalization(momentum=0.7),\n",
        "\n",
        "    Dense(1),\n",
        "    Activation('sigmoid')\n",
        "], name='discriminator')\n",
        "\n",
        "discriminator.summary()"
      ],
      "metadata": {
        "colab": {
          "base_uri": "https://localhost:8080/"
        },
        "id": "JRnsIE5B-KKa",
        "outputId": "ff4b1e27-1645-417d-cb47-8e4f303b2250"
      },
      "execution_count": 14,
      "outputs": [
        {
          "output_type": "stream",
          "name": "stdout",
          "text": [
            "Model: \"discriminator\"\n",
            "_________________________________________________________________\n",
            " Layer (type)                Output Shape              Param #   \n",
            "=================================================================\n",
            " dense_2 (Dense)             (None, 64)                4544      \n",
            "                                                                 \n",
            " leaky_re_lu_1 (LeakyReLU)   (None, 64)                0         \n",
            "                                                                 \n",
            " dense_3 (Dense)             (None, 32)                2080      \n",
            "                                                                 \n",
            " leaky_re_lu_2 (LeakyReLU)   (None, 32)                0         \n",
            "                                                                 \n",
            " dense_4 (Dense)             (None, 1)                 33        \n",
            "                                                                 \n",
            " activation_1 (Activation)   (None, 1)                 0         \n",
            "                                                                 \n",
            "=================================================================\n",
            "Total params: 6,657\n",
            "Trainable params: 6,657\n",
            "Non-trainable params: 0\n",
            "_________________________________________________________________\n"
          ]
        }
      ]
    },
    {
      "cell_type": "code",
      "source": [
        "# maintain the same shared weights with the generator and the discriminator.\n",
        "gan = Sequential([\n",
        "    generator,\n",
        "    discriminator\n",
        "])\n",
        "\n",
        "gan.summary()"
      ],
      "metadata": {
        "colab": {
          "base_uri": "https://localhost:8080/"
        },
        "id": "MBUGC7Bb-SWv",
        "outputId": "f11c6a4e-4fb3-44b0-8961-8a6d0fabd16c"
      },
      "execution_count": 15,
      "outputs": [
        {
          "output_type": "stream",
          "name": "stdout",
          "text": [
            "Model: \"sequential\"\n",
            "_________________________________________________________________\n",
            " Layer (type)                Output Shape              Param #   \n",
            "=================================================================\n",
            " generator (Sequential)      (None, 70)                22470     \n",
            "                                                                 \n",
            " discriminator (Sequential)  (None, 1)                 6657      \n",
            "                                                                 \n",
            "=================================================================\n",
            "Total params: 29,127\n",
            "Trainable params: 28,871\n",
            "Non-trainable params: 256\n",
            "_________________________________________________________________\n"
          ]
        }
      ]
    },
    {
      "cell_type": "code",
      "source": [
        "def make_trainable(model, trainable):\n",
        "    for layer in model.layers:\n",
        "        layer.trainable = trainable"
      ],
      "metadata": {
        "id": "5icOTO6Z-V2f"
      },
      "execution_count": 16,
      "outputs": []
    },
    {
      "cell_type": "code",
      "source": [
        "make_trainable(discriminator, False)\n",
        "discriminator.summary()"
      ],
      "metadata": {
        "colab": {
          "base_uri": "https://localhost:8080/"
        },
        "id": "gZNa6ouG-XqZ",
        "outputId": "6ac4633d-177b-49e3-9465-578683ebf6e7"
      },
      "execution_count": 17,
      "outputs": [
        {
          "output_type": "stream",
          "name": "stdout",
          "text": [
            "Model: \"discriminator\"\n",
            "_________________________________________________________________\n",
            " Layer (type)                Output Shape              Param #   \n",
            "=================================================================\n",
            " dense_2 (Dense)             (None, 64)                4544      \n",
            "                                                                 \n",
            " leaky_re_lu_1 (LeakyReLU)   (None, 64)                0         \n",
            "                                                                 \n",
            " dense_3 (Dense)             (None, 32)                2080      \n",
            "                                                                 \n",
            " leaky_re_lu_2 (LeakyReLU)   (None, 32)                0         \n",
            "                                                                 \n",
            " dense_4 (Dense)             (None, 1)                 33        \n",
            "                                                                 \n",
            " activation_1 (Activation)   (None, 1)                 0         \n",
            "                                                                 \n",
            "=================================================================\n",
            "Total params: 6,657\n",
            "Trainable params: 0\n",
            "Non-trainable params: 6,657\n",
            "_________________________________________________________________\n"
          ]
        }
      ]
    },
    {
      "cell_type": "code",
      "source": [
        "make_trainable(discriminator, True)\n",
        "discriminator.summary()"
      ],
      "metadata": {
        "colab": {
          "base_uri": "https://localhost:8080/"
        },
        "id": "uL0eVORe-ahE",
        "outputId": "d7608ab9-fb1d-4914-f40a-d0a5e2c12a48"
      },
      "execution_count": 18,
      "outputs": [
        {
          "output_type": "stream",
          "name": "stdout",
          "text": [
            "Model: \"discriminator\"\n",
            "_________________________________________________________________\n",
            " Layer (type)                Output Shape              Param #   \n",
            "=================================================================\n",
            " dense_2 (Dense)             (None, 64)                4544      \n",
            "                                                                 \n",
            " leaky_re_lu_1 (LeakyReLU)   (None, 64)                0         \n",
            "                                                                 \n",
            " dense_3 (Dense)             (None, 32)                2080      \n",
            "                                                                 \n",
            " leaky_re_lu_2 (LeakyReLU)   (None, 32)                0         \n",
            "                                                                 \n",
            " dense_4 (Dense)             (None, 1)                 33        \n",
            "                                                                 \n",
            " activation_1 (Activation)   (None, 1)                 0         \n",
            "                                                                 \n",
            "=================================================================\n",
            "Total params: 6,657\n",
            "Trainable params: 6,657\n",
            "Non-trainable params: 0\n",
            "_________________________________________________________________\n"
          ]
        }
      ]
    },
    {
      "cell_type": "code",
      "source": [
        "def make_simple_GAN(sample_size, \n",
        "                    g_hidden_size_1,\n",
        "                    g_hidden_size_2,\n",
        "                    g_hidden_size_3,\n",
        "                    g_hidden_size_4,\n",
        "                    d_hidden_size_1,\n",
        "                    d_hidden_size_2, \n",
        "                    d_hidden_size_3,\n",
        "                    d_hidden_size_4,\n",
        "                    d_hidden_size_5,\n",
        "                    d_hidden_size_6,\n",
        "                    leaky_alpha, \n",
        "                    g_learning_rate,\n",
        "                    d_learning_rate):\n",
        "    K.clear_session()\n",
        "    \n",
        "    generator = Sequential([\n",
        "        Dense(g_hidden_size_1, input_shape=(sample_size,)),\n",
        "        LeakyReLU(alpha=leaky_alpha),\n",
        "        BatchNormalization(momentum=0.7),\n",
        "\n",
        "        #Dense(g_hidden_size_2),\n",
        "        #LeakyReLU(alpha=leaky_alpha),\n",
        "        #BatchNormalization(momentum=0.7),\n",
        "\n",
        "        #Dense(g_hidden_size_3),\n",
        "        #LeakyReLU(alpha=leaky_alpha),\n",
        "        #BatchNormalization(momentum=0.7),\n",
        "\n",
        "        #Dense(g_hidden_size_4),\n",
        "        #LeakyReLU(alpha=leaky_alpha),\n",
        "        #BatchNormalization(momentum=0.7),\n",
        "\n",
        "        Dense(70),        \n",
        "        Activation('tanh')\n",
        "    ], name='generator')    \n",
        "\n",
        "    discriminator = Sequential([\n",
        "        Dense(d_hidden_size_1, input_shape=(70,)),\n",
        "        LeakyReLU(alpha=leaky_alpha),\n",
        "        #BatchNormalization(momentum=0.7),\n",
        "\n",
        "        Dense(d_hidden_size_2),\n",
        "        LeakyReLU(alpha=leaky_alpha),\n",
        "        #BatchNormalization(momentum=0.7),\n",
        "\n",
        "        #Dense(d_hidden_size_3),\n",
        "        #LeakyReLU(alpha=leaky_alpha),\n",
        "        #BatchNormalization(momentum=0.7),\n",
        "\n",
        "        #Dense(d_hidden_size_4),\n",
        "        #LeakyReLU(alpha=leaky_alpha),\n",
        "        #BatchNormalization(momentum=0.7),\n",
        "\n",
        "        #Dense(d_hidden_size_5),\n",
        "        #LeakyReLU(alpha=leaky_alpha),\n",
        "        #BatchNormalization(momentum=0.7),\n",
        "\n",
        "        #Dense(d_hidden_size_6),\n",
        "        #LeakyReLU(alpha=leaky_alpha),\n",
        "        #BatchNormalization(momentum=0.7),\n",
        "\n",
        "        Dense(1),\n",
        "        Activation('sigmoid')\n",
        "    ], name='discriminator')    \n",
        "    \n",
        "    gan = Sequential([\n",
        "        generator,\n",
        "        discriminator\n",
        "    ])\n",
        "    \n",
        "    discriminator.compile(optimizer=Adam(learning_rate=d_learning_rate), loss='binary_crossentropy')\n",
        "    gan.compile(optimizer=Adam(learning_rate=g_learning_rate), loss='binary_crossentropy')\n",
        "    \n",
        "    return gan, generator, discriminator "
      ],
      "metadata": {
        "id": "rEp_1i09-dPu"
      },
      "execution_count": 19,
      "outputs": []
    },
    {
      "cell_type": "code",
      "source": [
        "from sklearn import preprocessing\n",
        "def preprocess(x):\n",
        "   x = preprocessing.scale(x)\n",
        "   return x"
      ],
      "metadata": {
        "id": "mI3nU-3_-lK-"
      },
      "execution_count": 20,
      "outputs": []
    },
    {
      "cell_type": "code",
      "source": [
        "X_train_real = np.array(preprocess(X_train))\n",
        "X_test_real  = np.array(preprocess(X_test))"
      ],
      "metadata": {
        "id": "SLCAacR--m1_"
      },
      "execution_count": 21,
      "outputs": []
    },
    {
      "cell_type": "code",
      "source": [
        "def make_labels(size):\n",
        "    return np.ones([size, 1]), np.zeros([size, 1])"
      ],
      "metadata": {
        "id": "WmJ4T1rT-pxE"
      },
      "execution_count": 22,
      "outputs": []
    },
    {
      "cell_type": "code",
      "source": [
        "y_real_10, y_fake_10 = make_labels(10)\n",
        "\n",
        "y_real_10, y_fake_10"
      ],
      "metadata": {
        "colab": {
          "base_uri": "https://localhost:8080/"
        },
        "id": "lO2LcRot-r8O",
        "outputId": "43d04e35-5238-459e-99e0-c516b88b64c9"
      },
      "execution_count": 23,
      "outputs": [
        {
          "output_type": "execute_result",
          "data": {
            "text/plain": [
              "(array([[1.],\n",
              "        [1.],\n",
              "        [1.],\n",
              "        [1.],\n",
              "        [1.],\n",
              "        [1.],\n",
              "        [1.],\n",
              "        [1.],\n",
              "        [1.],\n",
              "        [1.]]), array([[0.],\n",
              "        [0.],\n",
              "        [0.],\n",
              "        [0.],\n",
              "        [0.],\n",
              "        [0.],\n",
              "        [0.],\n",
              "        [0.],\n",
              "        [0.],\n",
              "        [0.]]))"
            ]
          },
          "metadata": {},
          "execution_count": 23
        }
      ]
    },
    {
      "cell_type": "code",
      "source": [
        "# hyperparameters\n",
        "sample_size     = 100     # latent sample size (i.e., 100 random numbers)\n",
        "g_hidden_size_1 = 128\n",
        "g_hidden_size_2 = 0\n",
        "g_hidden_size_3 = 0\n",
        "g_hidden_size_4 = 0\n",
        "d_hidden_size_1 = 64\n",
        "d_hidden_size_2 = 32\n",
        "d_hidden_size_3 = 0\n",
        "d_hidden_size_4 = 0\n",
        "d_hidden_size_5 = 0\n",
        "d_hidden_size_6 = 0\n",
        "leaky_alpha     = 0.2\n",
        "g_learning_rate = 0.0001  # learning rate for the generator\n",
        "d_learning_rate = 0.0001   # learning rate for the discriminator\n",
        "epochs          = 100\n",
        "batch_size      = 64      # train batch size\n",
        "eval_size       = 16      # evaluate size\n",
        "smooth          = 0.1\n"
      ],
      "metadata": {
        "id": "7N6BKZv3-vZS"
      },
      "execution_count": 24,
      "outputs": []
    },
    {
      "cell_type": "code",
      "source": [
        "## labels for the batch size and the test size\n",
        "y_train_real, y_train_fake = make_labels(batch_size)\n",
        "y_eval_real,  y_eval_fake  = make_labels(eval_size)\n",
        "\n",
        "# create a GAN, a generator and a discriminator\n",
        "gan, generator, discriminator = make_simple_GAN(\n",
        "    sample_size, \n",
        "    g_hidden_size_1, \n",
        "    g_hidden_size_2,\n",
        "    g_hidden_size_3,\n",
        "    g_hidden_size_4, \n",
        "    d_hidden_size_1, \n",
        "    d_hidden_size_2,\n",
        "    d_hidden_size_3,\n",
        "    d_hidden_size_4,\n",
        "    d_hidden_size_5,\n",
        "    d_hidden_size_6,\n",
        "    leaky_alpha, \n",
        "    g_learning_rate,\n",
        "    d_learning_rate)\n",
        "\n",
        "\n",
        "losses = []\n",
        "losses1 = []\n",
        "for e in range(epochs):\n",
        "    for i in range(len(X_train_real)//batch_size):\n",
        "        # real MNIST digit images\n",
        "        X_batch_real = X_train_real[i*batch_size:(i+1)*batch_size]\n",
        "        \n",
        "        # latent samples and the generated digit images\n",
        "        latent_samples = make_latent_samples(batch_size, sample_size)\n",
        "        X_batch_fake = generator.predict_on_batch(latent_samples)\n",
        "        \n",
        "        # train the discriminator to detect real and fake images\n",
        "        make_trainable(discriminator, True)\n",
        "        discriminator.train_on_batch(X_batch_real, y_train_real * (1 - smooth))\n",
        "        discriminator.train_on_batch(X_batch_fake, y_train_fake)\n",
        "\n",
        "        # train the generator via GAN\n",
        "        make_trainable(discriminator, False)\n",
        "        gan.train_on_batch(latent_samples, y_train_real)\n",
        "   # evaluate\n",
        "    X_eval_real = X_test_real[np.random.choice(len(X_test_real), eval_size, replace=False)]\n",
        "    \n",
        "    latent_samples = make_latent_samples(eval_size, sample_size)\n",
        "    X_eval_fake = generator.predict_on_batch(latent_samples)\n",
        "\n",
        "    d_loss  = discriminator.test_on_batch(X_eval_real, y_eval_real)\n",
        "    d_loss += discriminator.test_on_batch(X_eval_fake, y_eval_fake)\n",
        "    g_loss  = gan.test_on_batch(latent_samples, y_eval_real) # we want the fake to be realistic!\n",
        "    \n",
        "    losses.append((d_loss, g_loss))\n",
        "\n",
        "    d_acc_real = discriminator.train_on_batch(X_batch_real, y_train_real * (1 - smooth))\n",
        "    d_acc_fake = discriminator.train_on_batch(X_batch_fake, y_train_fake)\n",
        "    d_acc  = 0.5 * (d_acc_real + d_acc_fake)\n",
        "\n",
        "    #losses1.append(( d_acc))\n",
        "    print(\"Epoch: {:>3}/{} Discriminator Loss: {:>6.4f} Generator Loss: {:>6.4f} Discriminator acc:{:>6.4f}:\".format(\n",
        "        e+1, epochs, d_loss, g_loss,d_acc)) #Discriminator acc: {:>6.4f}:,d_acc"
      ],
      "metadata": {
        "colab": {
          "base_uri": "https://localhost:8080/"
        },
        "id": "9SYobm6e-3f0",
        "outputId": "13259e0a-a669-4696-95c1-258b39ea8a1d"
      },
      "execution_count": 25,
      "outputs": [
        {
          "output_type": "stream",
          "name": "stdout",
          "text": [
            "Epoch:   1/100 Discriminator Loss: 1.5634 Generator Loss: 0.6674 Discriminator acc:0.7041:\n",
            "Epoch:   2/100 Discriminator Loss: 1.3549 Generator Loss: 0.6869 Discriminator acc:0.6811:\n",
            "Epoch:   3/100 Discriminator Loss: 1.2207 Generator Loss: 0.6211 Discriminator acc:0.6654:\n",
            "Epoch:   4/100 Discriminator Loss: 1.2819 Generator Loss: 0.5528 Discriminator acc:0.6899:\n",
            "Epoch:   5/100 Discriminator Loss: 1.3184 Generator Loss: 0.5383 Discriminator acc:0.6949:\n",
            "Epoch:   6/100 Discriminator Loss: 1.3548 Generator Loss: 0.5256 Discriminator acc:0.6846:\n",
            "Epoch:   7/100 Discriminator Loss: 1.3497 Generator Loss: 0.5057 Discriminator acc:0.6977:\n",
            "Epoch:   8/100 Discriminator Loss: 1.3695 Generator Loss: 0.4664 Discriminator acc:0.7083:\n",
            "Epoch:   9/100 Discriminator Loss: 1.4173 Generator Loss: 0.4579 Discriminator acc:0.7277:\n",
            "Epoch:  10/100 Discriminator Loss: 1.4279 Generator Loss: 0.4198 Discriminator acc:0.7202:\n",
            "Epoch:  11/100 Discriminator Loss: 1.4490 Generator Loss: 0.4253 Discriminator acc:0.7400:\n",
            "Epoch:  12/100 Discriminator Loss: 1.3815 Generator Loss: 0.4305 Discriminator acc:0.7248:\n",
            "Epoch:  13/100 Discriminator Loss: 1.3466 Generator Loss: 0.4521 Discriminator acc:0.7214:\n",
            "Epoch:  14/100 Discriminator Loss: 1.5031 Generator Loss: 0.4166 Discriminator acc:0.7361:\n",
            "Epoch:  15/100 Discriminator Loss: 1.3128 Generator Loss: 0.4851 Discriminator acc:0.7476:\n",
            "Epoch:  16/100 Discriminator Loss: 1.3898 Generator Loss: 0.4368 Discriminator acc:0.7255:\n",
            "Epoch:  17/100 Discriminator Loss: 1.3682 Generator Loss: 0.4358 Discriminator acc:0.7505:\n",
            "Epoch:  18/100 Discriminator Loss: 1.4924 Generator Loss: 0.3885 Discriminator acc:0.7432:\n",
            "Epoch:  19/100 Discriminator Loss: 1.4548 Generator Loss: 0.3966 Discriminator acc:0.7329:\n",
            "Epoch:  20/100 Discriminator Loss: 1.4519 Generator Loss: 0.4064 Discriminator acc:0.7522:\n",
            "Epoch:  21/100 Discriminator Loss: 1.3414 Generator Loss: 0.4526 Discriminator acc:0.7533:\n",
            "Epoch:  22/100 Discriminator Loss: 1.3797 Generator Loss: 0.4335 Discriminator acc:0.7539:\n",
            "Epoch:  23/100 Discriminator Loss: 1.4262 Generator Loss: 0.4128 Discriminator acc:0.7425:\n",
            "Epoch:  24/100 Discriminator Loss: 1.4573 Generator Loss: 0.3847 Discriminator acc:0.7523:\n",
            "Epoch:  25/100 Discriminator Loss: 1.5500 Generator Loss: 0.3687 Discriminator acc:0.7320:\n",
            "Epoch:  26/100 Discriminator Loss: 1.3537 Generator Loss: 0.4206 Discriminator acc:0.7516:\n",
            "Epoch:  27/100 Discriminator Loss: 1.3967 Generator Loss: 0.4118 Discriminator acc:0.7238:\n",
            "Epoch:  28/100 Discriminator Loss: 1.5182 Generator Loss: 0.3928 Discriminator acc:0.7617:\n",
            "Epoch:  29/100 Discriminator Loss: 1.3244 Generator Loss: 0.4343 Discriminator acc:0.7455:\n",
            "Epoch:  30/100 Discriminator Loss: 1.3477 Generator Loss: 0.4703 Discriminator acc:0.7705:\n",
            "Epoch:  31/100 Discriminator Loss: 1.4164 Generator Loss: 0.4038 Discriminator acc:0.7813:\n",
            "Epoch:  32/100 Discriminator Loss: 1.4509 Generator Loss: 0.4010 Discriminator acc:0.7500:\n",
            "Epoch:  33/100 Discriminator Loss: 1.4031 Generator Loss: 0.4027 Discriminator acc:0.7614:\n",
            "Epoch:  34/100 Discriminator Loss: 1.4932 Generator Loss: 0.3788 Discriminator acc:0.7835:\n",
            "Epoch:  35/100 Discriminator Loss: 1.4266 Generator Loss: 0.3888 Discriminator acc:0.7325:\n",
            "Epoch:  36/100 Discriminator Loss: 1.3760 Generator Loss: 0.4276 Discriminator acc:0.7637:\n",
            "Epoch:  37/100 Discriminator Loss: 1.4109 Generator Loss: 0.4339 Discriminator acc:0.7573:\n",
            "Epoch:  38/100 Discriminator Loss: 1.4498 Generator Loss: 0.3903 Discriminator acc:0.7439:\n",
            "Epoch:  39/100 Discriminator Loss: 1.4152 Generator Loss: 0.3978 Discriminator acc:0.7599:\n",
            "Epoch:  40/100 Discriminator Loss: 1.4495 Generator Loss: 0.3995 Discriminator acc:0.7469:\n",
            "Epoch:  41/100 Discriminator Loss: 1.4438 Generator Loss: 0.3957 Discriminator acc:0.7427:\n",
            "Epoch:  42/100 Discriminator Loss: 1.4209 Generator Loss: 0.4151 Discriminator acc:0.7592:\n",
            "Epoch:  43/100 Discriminator Loss: 1.3755 Generator Loss: 0.4169 Discriminator acc:0.7606:\n",
            "Epoch:  44/100 Discriminator Loss: 1.5229 Generator Loss: 0.3643 Discriminator acc:0.7595:\n",
            "Epoch:  45/100 Discriminator Loss: 1.3390 Generator Loss: 0.4275 Discriminator acc:0.7449:\n",
            "Epoch:  46/100 Discriminator Loss: 1.3287 Generator Loss: 0.4415 Discriminator acc:0.7708:\n",
            "Epoch:  47/100 Discriminator Loss: 1.3465 Generator Loss: 0.4134 Discriminator acc:0.7575:\n",
            "Epoch:  48/100 Discriminator Loss: 1.3780 Generator Loss: 0.4200 Discriminator acc:0.7906:\n",
            "Epoch:  49/100 Discriminator Loss: 1.3792 Generator Loss: 0.4033 Discriminator acc:0.7457:\n",
            "Epoch:  50/100 Discriminator Loss: 1.4693 Generator Loss: 0.3972 Discriminator acc:0.7636:\n",
            "Epoch:  51/100 Discriminator Loss: 1.3484 Generator Loss: 0.4282 Discriminator acc:0.7421:\n",
            "Epoch:  52/100 Discriminator Loss: 1.3956 Generator Loss: 0.4173 Discriminator acc:0.7487:\n",
            "Epoch:  53/100 Discriminator Loss: 1.4233 Generator Loss: 0.4040 Discriminator acc:0.7444:\n",
            "Epoch:  54/100 Discriminator Loss: 1.4434 Generator Loss: 0.3862 Discriminator acc:0.7579:\n",
            "Epoch:  55/100 Discriminator Loss: 1.4440 Generator Loss: 0.3852 Discriminator acc:0.7409:\n",
            "Epoch:  56/100 Discriminator Loss: 1.4338 Generator Loss: 0.3886 Discriminator acc:0.7642:\n",
            "Epoch:  57/100 Discriminator Loss: 1.4569 Generator Loss: 0.3685 Discriminator acc:0.7625:\n",
            "Epoch:  58/100 Discriminator Loss: 1.3467 Generator Loss: 0.4215 Discriminator acc:0.7509:\n",
            "Epoch:  59/100 Discriminator Loss: 1.4265 Generator Loss: 0.3782 Discriminator acc:0.7439:\n",
            "Epoch:  60/100 Discriminator Loss: 1.4197 Generator Loss: 0.4023 Discriminator acc:0.7655:\n",
            "Epoch:  61/100 Discriminator Loss: 1.4384 Generator Loss: 0.3793 Discriminator acc:0.7284:\n",
            "Epoch:  62/100 Discriminator Loss: 1.3973 Generator Loss: 0.4109 Discriminator acc:0.7321:\n",
            "Epoch:  63/100 Discriminator Loss: 1.3284 Generator Loss: 0.4459 Discriminator acc:0.7478:\n",
            "Epoch:  64/100 Discriminator Loss: 1.4166 Generator Loss: 0.3999 Discriminator acc:0.7430:\n",
            "Epoch:  65/100 Discriminator Loss: 1.3981 Generator Loss: 0.4228 Discriminator acc:0.7340:\n",
            "Epoch:  66/100 Discriminator Loss: 1.3370 Generator Loss: 0.4394 Discriminator acc:0.7342:\n",
            "Epoch:  67/100 Discriminator Loss: 1.2948 Generator Loss: 0.4549 Discriminator acc:0.7077:\n",
            "Epoch:  68/100 Discriminator Loss: 1.3958 Generator Loss: 0.3972 Discriminator acc:0.7264:\n",
            "Epoch:  69/100 Discriminator Loss: 1.4004 Generator Loss: 0.3968 Discriminator acc:0.7320:\n",
            "Epoch:  70/100 Discriminator Loss: 1.3640 Generator Loss: 0.4255 Discriminator acc:0.7214:\n",
            "Epoch:  71/100 Discriminator Loss: 1.4929 Generator Loss: 0.3750 Discriminator acc:0.7188:\n",
            "Epoch:  72/100 Discriminator Loss: 1.4088 Generator Loss: 0.4526 Discriminator acc:0.7605:\n",
            "Epoch:  73/100 Discriminator Loss: 1.4831 Generator Loss: 0.3865 Discriminator acc:0.7371:\n",
            "Epoch:  74/100 Discriminator Loss: 1.4158 Generator Loss: 0.3948 Discriminator acc:0.7310:\n",
            "Epoch:  75/100 Discriminator Loss: 1.4151 Generator Loss: 0.3901 Discriminator acc:0.7576:\n",
            "Epoch:  76/100 Discriminator Loss: 1.3821 Generator Loss: 0.4165 Discriminator acc:0.7518:\n",
            "Epoch:  77/100 Discriminator Loss: 1.3276 Generator Loss: 0.4295 Discriminator acc:0.7638:\n",
            "Epoch:  78/100 Discriminator Loss: 1.3700 Generator Loss: 0.4068 Discriminator acc:0.7552:\n",
            "Epoch:  79/100 Discriminator Loss: 1.4137 Generator Loss: 0.3981 Discriminator acc:0.7495:\n",
            "Epoch:  80/100 Discriminator Loss: 1.4275 Generator Loss: 0.3897 Discriminator acc:0.7494:\n",
            "Epoch:  81/100 Discriminator Loss: 1.4200 Generator Loss: 0.3964 Discriminator acc:0.7435:\n",
            "Epoch:  82/100 Discriminator Loss: 1.3980 Generator Loss: 0.4074 Discriminator acc:0.7343:\n",
            "Epoch:  83/100 Discriminator Loss: 1.4223 Generator Loss: 0.3833 Discriminator acc:0.7393:\n",
            "Epoch:  84/100 Discriminator Loss: 1.4201 Generator Loss: 0.3932 Discriminator acc:0.7572:\n",
            "Epoch:  85/100 Discriminator Loss: 1.3941 Generator Loss: 0.4086 Discriminator acc:0.7373:\n",
            "Epoch:  86/100 Discriminator Loss: 1.4145 Generator Loss: 0.3907 Discriminator acc:0.7383:\n",
            "Epoch:  87/100 Discriminator Loss: 1.4943 Generator Loss: 0.3752 Discriminator acc:0.7417:\n",
            "Epoch:  88/100 Discriminator Loss: 1.4487 Generator Loss: 0.3926 Discriminator acc:0.7423:\n",
            "Epoch:  89/100 Discriminator Loss: 1.3979 Generator Loss: 0.4158 Discriminator acc:0.7277:\n",
            "Epoch:  90/100 Discriminator Loss: 1.3791 Generator Loss: 0.4220 Discriminator acc:0.7209:\n",
            "Epoch:  91/100 Discriminator Loss: 1.6293 Generator Loss: 0.4199 Discriminator acc:0.7384:\n",
            "Epoch:  92/100 Discriminator Loss: 1.3443 Generator Loss: 0.4393 Discriminator acc:0.7313:\n",
            "Epoch:  93/100 Discriminator Loss: 1.7021 Generator Loss: 0.4172 Discriminator acc:0.7278:\n",
            "Epoch:  94/100 Discriminator Loss: 1.3858 Generator Loss: 0.4129 Discriminator acc:0.7300:\n",
            "Epoch:  95/100 Discriminator Loss: 1.4572 Generator Loss: 0.3883 Discriminator acc:0.7631:\n",
            "Epoch:  96/100 Discriminator Loss: 1.4485 Generator Loss: 0.3750 Discriminator acc:0.7297:\n",
            "Epoch:  97/100 Discriminator Loss: 1.4286 Generator Loss: 0.3763 Discriminator acc:0.7352:\n",
            "Epoch:  98/100 Discriminator Loss: 1.3484 Generator Loss: 0.4149 Discriminator acc:0.7353:\n",
            "Epoch:  99/100 Discriminator Loss: 1.4335 Generator Loss: 0.3908 Discriminator acc:0.7569:\n",
            "Epoch: 100/100 Discriminator Loss: 1.3823 Generator Loss: 0.4112 Discriminator acc:0.7433:\n"
          ]
        }
      ]
    },
    {
      "cell_type": "code",
      "source": [
        "losses = np.array(losses)\n",
        "\n",
        "fig, ax = plt.subplots()\n",
        "plt.plot(losses.T[0], label='Discriminator')\n",
        "plt.plot(losses.T[1], label='Generator')\n",
        "plt.title(\"Training Losses\")\n",
        "plt.legend()\n",
        "plt.show()"
      ],
      "metadata": {
        "colab": {
          "base_uri": "https://localhost:8080/",
          "height": 281
        },
        "id": "-Pczfh-C_rC-",
        "outputId": "8ee8b8a3-e390-4be3-87ca-838155f97c3f"
      },
      "execution_count": 26,
      "outputs": [
        {
          "output_type": "display_data",
          "data": {
            "text/plain": [
              "<Figure size 432x288 with 1 Axes>"
            ],
            "image/png": "[encoded data removed]"
          },
          "metadata": {
            "needs_background": "light"
          }
        }
      ]
    },
    {
      "cell_type": "code",
      "source": [
        "rr = discriminator.predict_on_batch(X_test_real)"
      ],
      "metadata": {
        "id": "THaYGfNm_t7H"
      },
      "execution_count": 27,
      "outputs": []
    },
    {
      "cell_type": "code",
      "source": [
        "import keras\n",
        "#import keras_metrics\n",
        "\n",
        "r = tf.keras.metrics.Recall()#thresholds=rr.min())\n",
        "r.update_state(y_test,rr )\n",
        "r.result().numpy()\n"
      ],
      "metadata": {
        "colab": {
          "base_uri": "https://localhost:8080/"
        },
        "id": "y4YHTlv6_wKG",
        "outputId": "d800d9eb-af7a-4e6e-912d-8031948240b4"
      },
      "execution_count": 28,
      "outputs": [
        {
          "output_type": "execute_result",
          "data": {
            "text/plain": [
              "0.9893617"
            ]
          },
          "metadata": {},
          "execution_count": 28
        }
      ]
    },
    {
      "cell_type": "code",
      "source": [
        "p=tf.keras.metrics.Precision()#thresholds=rr.min())\n",
        "p.update_state(y_test,rr )\n",
        "p.result().numpy()"
      ],
      "metadata": {
        "colab": {
          "base_uri": "https://localhost:8080/"
        },
        "id": "4Wgx-224_yPg",
        "outputId": "d8776989-695d-4eaf-a6e5-81efbf15244a"
      },
      "execution_count": 29,
      "outputs": [
        {
          "output_type": "execute_result",
          "data": {
            "text/plain": [
              "0.23664123"
            ]
          },
          "metadata": {},
          "execution_count": 29
        }
      ]
    },
    {
      "cell_type": "code",
      "source": [
        "import keras\n",
        "#import keras_metrics\n",
        "\n",
        "a = tf.keras.metrics.BinaryAccuracy()#thresholds=rr.min())\n",
        "a.update_state(y_test,rr )\n",
        "a.result().numpy()"
      ],
      "metadata": {
        "colab": {
          "base_uri": "https://localhost:8080/"
        },
        "id": "9BCXW599WEW5",
        "outputId": "cc556c92-5379-442c-c0f4-b684c658e548"
      },
      "execution_count": 30,
      "outputs": [
        {
          "output_type": "execute_result",
          "data": {
            "text/plain": [
              "0.239899"
            ]
          },
          "metadata": {},
          "execution_count": 30
        }
      ]
    }
  ]
}