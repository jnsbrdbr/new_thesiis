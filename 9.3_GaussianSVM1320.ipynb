{
  "nbformat": 4,
  "nbformat_minor": 0,
  "metadata": {
    "colab": {
      "name": "9.3_GaussianSVM1320.ipynb",
      "provenance": [],
      "authorship_tag": "ABX9TyMBr5QYm8VdkHFPJaKwYuSe",
      "include_colab_link": true
    },
    "kernelspec": {
      "name": "python3",
      "display_name": "Python 3"
    },
    "language_info": {
      "name": "python"
    }
  },
  "cells": [
    {
      "cell_type": "markdown",
      "metadata": {
        "id": "view-in-github",
        "colab_type": "text"
      },
      "source": [
        "<a href=\"https://colab.research.google.com/github/jnsbrdbr/new_thesiis/blob/main/9.3_GaussianSVM1320.ipynb\" target=\"_parent\"><img src=\"https://colab.research.google.com/assets/colab-badge.svg\" alt=\"Open In Colab\"/></a>"
      ]
    },
    {
      "cell_type": "code",
      "execution_count": null,
      "metadata": {
        "id": "tfxDDnHeJFN8"
      },
      "outputs": [],
      "source": [
        "#import libraries\n",
        "\n",
        "import numpy as np\n",
        "import pandas as pd\n",
        "import seaborn as sns\n",
        "import matplotlib.pyplot as plt\n",
        "import copy\n",
        "from sklearn.model_selection import train_test_split\n",
        "from sklearn.svm import SVC\n",
        "from sklearn import svm\n",
        "from sklearn.gaussian_process.kernels import RBF\n",
        "from sklearn import metrics\n",
        "from sklearn.metrics import confusion_matrix\n",
        "from numpy import mean\n",
        "from numpy import std\n",
        "from sklearn.model_selection import KFold\n",
        "from sklearn.model_selection import cross_val_score,cross_val_predict\n",
        "from sklearn.metrics import auc\n",
        "from sklearn.metrics import RocCurveDisplay\n",
        "from sklearn.model_selection import StratifiedKFold\n",
        "from sklearn.metrics import roc_auc_score\n",
        "from sklearn.metrics import roc_curve\n",
        "from matplotlib import pyplot\n",
        "from sklearn.metrics import accuracy_score"
      ]
    },
    {
      "cell_type": "code",
      "source": [
        "#connect to google drive\n",
        "\n",
        "from google.colab import drive\n",
        "drive.mount('/content/drive') "
      ],
      "metadata": {
        "colab": {
          "base_uri": "https://localhost:8080/"
        },
        "id": "QR0tLbfkMUQP",
        "outputId": "3c8047fd-8be3-4c15-e078-7a74401acb5d"
      },
      "execution_count": null,
      "outputs": [
        {
          "output_type": "stream",
          "name": "stdout",
          "text": [
            "Drive already mounted at /content/drive; to attempt to forcibly remount, call drive.mount(\"/content/drive\", force_remount=True).\n"
          ]
        }
      ]
    },
    {
      "cell_type": "code",
      "source": [
        "#load data\n",
        "\n",
        "with pd.HDFStore('/content/drive/MyDrive/1000/part2_result',  mode='r') as newstore:\n",
        "    result = newstore.select('result')\n",
        "print(result)"
      ],
      "metadata": {
        "colab": {
          "base_uri": "https://localhost:8080/"
        },
        "id": "-lIjlCGeMWDr",
        "outputId": "f14e17e7-908a-47ed-8f0c-a7f21f65e555"
      },
      "execution_count": null,
      "outputs": [
        {
          "output_type": "stream",
          "name": "stdout",
          "text": [
            "             0         1         2             3             4         5  \\\n",
            "0    -1.468407 -3.098769 -0.040978  6.204485e-14  2.991009e-14  0.078341   \n",
            "1    -1.468407 -3.098769 -0.040978 -1.233238e-14  2.951113e-14  0.078341   \n",
            "2    -1.468407 -3.098769 -0.040978 -7.431131e-14  3.860443e-14  0.078341   \n",
            "3    -1.468407 -3.098769 -0.040978  1.650248e-14 -1.360452e-14  0.078341   \n",
            "4    -1.468407 -3.098769 -0.040978  8.579407e-15  2.671601e-14  0.078341   \n",
            "...        ...       ...       ...           ...           ...       ...   \n",
            "1315 -1.468407 -3.098769 -0.040978  1.269764e-14  2.287279e-14  0.078341   \n",
            "1316 -1.468407 -3.098769 -0.040978  1.269764e-14  2.287279e-14  0.078341   \n",
            "1317 -1.468407 -3.098769 -0.040978  1.269764e-14  2.287279e-14  0.078341   \n",
            "1318 -1.468407 -3.098769 -0.040978  1.269764e-14  2.287279e-14  0.078341   \n",
            "1319 -1.468407 -3.098769 -0.040978  1.269764e-14  2.287279e-14  0.078341   \n",
            "\n",
            "            6         7         8         9  ...         1         2  \\\n",
            "0     2.36865 -1.386898 -0.000551 -0.000425  ... -0.039493  0.002581   \n",
            "1     2.36865 -1.386898 -0.000551 -0.000425  ... -0.039493  0.002581   \n",
            "2     2.36865 -1.386898 -0.000551 -0.000425  ... -0.039493  0.002581   \n",
            "3     2.36865 -1.386898 -0.000551 -0.000425  ... -0.039493  0.002581   \n",
            "4     2.36865 -1.386898 -0.000551 -0.000425  ... -0.032130 -0.012159   \n",
            "...       ...       ...       ...       ...  ...       ...       ...   \n",
            "1315  2.36865 -1.386898 -0.000551 -0.000425  ...  0.032918  0.046306   \n",
            "1316  2.36865 -1.386898 -0.000551 -0.000425  ...  0.035148  0.062576   \n",
            "1317  2.36865 -1.386898 -0.000551 -0.000425  ...  0.099628 -0.083265   \n",
            "1318  2.36865 -1.386898 -0.000551 -0.000425  ...  0.023592 -0.050616   \n",
            "1319  2.36865 -1.386898 -0.000551 -0.000425  ...  0.101839 -0.125609   \n",
            "\n",
            "             3         4         5         6         7         8         9  \\\n",
            "0    -0.005026 -0.000115 -0.004540 -0.010420 -0.005894 -0.005817 -0.003177   \n",
            "1    -0.005026 -0.000115 -0.004540 -0.010420 -0.005894 -0.005817 -0.003177   \n",
            "2    -0.005026 -0.000115 -0.004540 -0.010420 -0.005894 -0.005817 -0.003176   \n",
            "3    -0.005026 -0.000115 -0.004540 -0.010420 -0.005894 -0.005817 -0.003177   \n",
            "4    -0.011785 -0.015593 -0.014991 -0.028055  0.006076  0.003190  0.002314   \n",
            "...        ...       ...       ...       ...       ...       ...       ...   \n",
            "1315  0.094631  0.124774  0.008972  0.001981 -0.052331  0.309602  0.009135   \n",
            "1316  0.099325  0.134425  0.015498  0.002026  0.311786  0.021678  0.006007   \n",
            "1317 -0.069888 -0.002082 -0.194672  0.297580  0.001217 -0.005709 -0.028393   \n",
            "1318 -0.007453 -0.021238  0.308253  0.150730 -0.027760 -0.031040  0.127378   \n",
            "1319 -0.142618  0.085227 -0.013546 -0.049724 -0.024447  0.240382  0.004047   \n",
            "\n",
            "      label  \n",
            "0         1  \n",
            "1         1  \n",
            "2         1  \n",
            "3         1  \n",
            "4         1  \n",
            "...     ...  \n",
            "1315      0  \n",
            "1316      0  \n",
            "1317      0  \n",
            "1318      0  \n",
            "1319      0  \n",
            "\n",
            "[1320 rows x 71 columns]\n"
          ]
        }
      ]
    },
    {
      "cell_type": "code",
      "source": [
        "#real has zero label and fake has one\n",
        "#divide data in to data and label\n",
        "#y is label\n",
        "\n",
        "y=result.label\n",
        "pd.options.mode.chained_assignment = None  # default='warn'\n",
        "for i in range(len(y)):\n",
        "  if y[i]==1:\n",
        "    y[i]=0\n",
        "  else:\n",
        "    y[i]=1"
      ],
      "metadata": {
        "id": "oofVj2nIMYOK"
      },
      "execution_count": null,
      "outputs": []
    },
    {
      "cell_type": "code",
      "source": [
        "#X is data\n",
        "\n",
        "result_nonlabel=copy.deepcopy(result)\n",
        "del result_nonlabel['label']\n",
        "X=result_nonlabel"
      ],
      "metadata": {
        "id": "TxOV1-utM3zq"
      },
      "execution_count": null,
      "outputs": []
    },
    {
      "cell_type": "code",
      "source": [
        "#The model\n",
        "\n",
        "model=svm.SVC(kernel=\"rbf\",gamma=0.1 , C=0.1, probability=True)"
      ],
      "metadata": {
        "id": "A91dIQo9M-aw"
      },
      "execution_count": null,
      "outputs": []
    },
    {
      "cell_type": "code",
      "source": [
        "#FPR\n",
        "\n",
        "from sklearn.metrics import confusion_matrix\n",
        "\n",
        "\n",
        "kf = KFold(n_splits=10,shuffle=True)#, random_state=None\n",
        "res_fpr = list()\n",
        "res_probas_=list()\n",
        "Y_test_lst=list()\n",
        "pred_values_lst=list()\n",
        "\n",
        "for train_index , test_index in kf.split(X,y):\n",
        "    i=0\n",
        "    X_train , X_test = X.iloc[train_index,:],X.iloc[test_index,:]\n",
        "    Y_train , Y_test = y[train_index] , y[test_index]\n",
        "\n",
        "    final_model=model.fit(X_train,Y_train) #training model\n",
        "    \n",
        "    probas_ = final_model.predict_proba(X_test)#prediction based on probabilities    \n",
        "    Y_test_lst.append(Y_test)\n",
        "    res_probas_.append(probas_)\n",
        "    \n",
        "    res_probas_[i][:, [0, 1]] = res_probas_[i][:, [1, 0]]#swapping columns 0f 0,1\n",
        "\n",
        "    pred_values = final_model.predict(X_test)\n",
        "    pred_values_lst.append(pred_values)\n",
        "    tn, fp, fn, tp = confusion_matrix(Y_test, pred_values, labels=[0, 1]).ravel()\n",
        "    print(f'True Positives: {tp}')\n",
        "    print(f'False Positives: {fp}')\n",
        "    print(f'True Negatives: {tn}')\n",
        "    print(f'False Negatives: {fn}')\n",
        "    fpr=(np.divide(fp,(fp+tn)))\n",
        "    if fp==0:\n",
        "      fpr=0\n",
        "\n",
        "    y_test_arr=np.array(Y_test)\n",
        "    count=0\n",
        "    con=0\n",
        "    for i in range(0,len(y_test_arr)):\n",
        "       if y_test_arr[i]==1:\n",
        "          count+=1\n",
        "       else:\n",
        "         con+=1\n",
        "    print(\"number of fake:\",count)\n",
        "    print(\"number of real:\",con)\n",
        "\n",
        "    print('fpr=%.3f' % (mean(fpr)))#tpr=%.4f : mean(tpr), \n",
        "    res_fpr.append(mean(fpr))\n",
        "    print('---------------------')\n",
        "    i+=1\n",
        "\n",
        "\n",
        "print('\\n\\n','total_fpr=%.3f' % mean(res_fpr))# total_tpr=%.4f :total_tpr,\n"
      ],
      "metadata": {
        "colab": {
          "base_uri": "https://localhost:8080/"
        },
        "id": "aXRe3BIZNDHd",
        "outputId": "4dcdf535-3a34-4bab-dfb4-11d2f4436d6c"
      },
      "execution_count": null,
      "outputs": [
        {
          "output_type": "stream",
          "name": "stdout",
          "text": [
            "True Positives: 36\n",
            "False Positives: 1\n",
            "True Negatives: 95\n",
            "False Negatives: 0\n",
            "number of fake: 36\n",
            "number of real: 96\n",
            "fpr=0.010\n",
            "---------------------\n",
            "True Positives: 32\n",
            "False Positives: 2\n",
            "True Negatives: 96\n",
            "False Negatives: 2\n",
            "number of fake: 34\n",
            "number of real: 98\n",
            "fpr=0.020\n",
            "---------------------\n",
            "True Positives: 35\n",
            "False Positives: 0\n",
            "True Negatives: 96\n",
            "False Negatives: 1\n",
            "number of fake: 36\n",
            "number of real: 96\n",
            "fpr=0.000\n",
            "---------------------\n",
            "True Positives: 31\n",
            "False Positives: 1\n",
            "True Negatives: 100\n",
            "False Negatives: 0\n",
            "number of fake: 31\n",
            "number of real: 101\n",
            "fpr=0.010\n",
            "---------------------\n",
            "True Positives: 35\n",
            "False Positives: 3\n",
            "True Negatives: 94\n",
            "False Negatives: 0\n",
            "number of fake: 35\n",
            "number of real: 97\n",
            "fpr=0.031\n",
            "---------------------\n",
            "True Positives: 33\n",
            "False Positives: 1\n",
            "True Negatives: 96\n",
            "False Negatives: 2\n",
            "number of fake: 35\n",
            "number of real: 97\n",
            "fpr=0.010\n",
            "---------------------\n",
            "True Positives: 28\n",
            "False Positives: 2\n",
            "True Negatives: 99\n",
            "False Negatives: 3\n",
            "number of fake: 31\n",
            "number of real: 101\n",
            "fpr=0.020\n",
            "---------------------\n",
            "True Positives: 28\n",
            "False Positives: 1\n",
            "True Negatives: 103\n",
            "False Negatives: 0\n",
            "number of fake: 28\n",
            "number of real: 104\n",
            "fpr=0.010\n",
            "---------------------\n",
            "True Positives: 31\n",
            "False Positives: 2\n",
            "True Negatives: 99\n",
            "False Negatives: 0\n",
            "number of fake: 31\n",
            "number of real: 101\n",
            "fpr=0.020\n",
            "---------------------\n",
            "True Positives: 32\n",
            "False Positives: 1\n",
            "True Negatives: 98\n",
            "False Negatives: 1\n",
            "number of fake: 33\n",
            "number of real: 99\n",
            "fpr=0.010\n",
            "---------------------\n",
            "\n",
            "\n",
            " total_fpr=0.014\n"
          ]
        }
      ]
    },
    {
      "cell_type": "code",
      "source": [
        "#ROC_AUC\n",
        "\n",
        "\n",
        "kf = KFold(n_splits=10,shuffle=True)\n",
        "tprs = []\n",
        "aucs = []\n",
        "fpr_lst=list()\n",
        "tpr_lst=list()\n",
        "mean_fpr = np.linspace(0, 1, 100)\n",
        "plt.figure(figsize=(6,5))\n",
        "i = 0\n",
        "for _ , _ in kf.split(X,y):\n",
        "    # Compute ROC curve and area the curve\n",
        "    #fpr, tpr, thresholds = roc_curve(Y_test_lst[i],res_probas_[i][:,1] )\n",
        "    fpr, tpr, thresholds = roc_curve(Y_test_lst[i],pred_values_lst[i])\n",
        "    fpr_lst.append(mean(fpr))\n",
        "    tpr_lst.append(mean(tpr))\n",
        "    tprs.append(np.interp(mean_fpr, fpr, tpr))\n",
        "    tprs[-1][0] = 0.0\n",
        "    roc_auc = auc(fpr, tpr)\n",
        "    aucs.append(roc_auc)\n",
        "    plt.plot(fpr, tpr, lw=1, alpha=0.3,\n",
        "             label='ROC fold %d (AUC = %0.2f)' % (i, roc_auc))\n",
        "    i += 1\n",
        "\n",
        "plt.plot([0, 1], [0, 1], linestyle='--', lw=2, color='r',\n",
        "         label='Chance', alpha=.8)\n",
        "\n",
        "mean_tpr = np.mean(tprs, axis=0)\n",
        "mean_tpr[-1] = 1.0\n",
        "mean_auc = auc(mean_fpr, mean_tpr)\n",
        "std_auc = np.std(aucs)\n",
        "plt.plot(mean_fpr, mean_tpr, color='b',\n",
        "         label=r'Mean ROC (AUC = %0.2f $\\pm$ %0.2f)' % (mean_auc, std_auc),\n",
        "         lw=2, alpha=.8)\n",
        "std_tpr = np.std(tprs, axis=0)\n",
        "tprs_upper = np.minimum(mean_tpr + std_tpr, 1)\n",
        "tprs_lower = np.maximum(mean_tpr - std_tpr, 0)\n",
        "plt.fill_between(mean_fpr, tprs_lower, tprs_upper, color='grey', alpha=.2,\n",
        "                 label=r'$\\pm$ 1 std. dev.')\n",
        "\n",
        "plt.xlim([-0.01, 1.01])\n",
        "plt.ylim([-0.01, 1.01])\n",
        "plt.xlabel('False Positive Rate',fontsize=18)\n",
        "plt.ylabel('True Positive Rate',fontsize=18)\n",
        "plt.title('Cross-Validation ROC of logistic regression',fontsize=8)\n",
        "plt.legend(loc=\"lower right\", prop={'size': 8})\n",
        "plt.show()"
      ],
      "metadata": {
        "colab": {
          "base_uri": "https://localhost:8080/",
          "height": 355
        },
        "id": "KAAYg_tnNIO5",
        "outputId": "02ae86c9-f284-435a-c55a-55916d604fed"
      },
      "execution_count": null,
      "outputs": [
        {
          "output_type": "display_data",
          "data": {
            "text/plain": [
              "<Figure size 432x360 with 1 Axes>"
            ],
            "image/png": "[encoded data removed]"
          },
          "metadata": {
            "needs_background": "light"
          }
        }
      ]
    },
    {
      "cell_type": "code",
      "source": [
        "#recall/TPR\n",
        "\n",
        "cv = KFold(n_splits=10, shuffle=True)#, shuffle=True, random_state=42\n",
        "scores_recall = cross_val_score(model,X, y, scoring='recall', cv=cv)\n",
        "\n",
        "print('scores_recall: %.3f (%.3f)' % (mean(scores_recall), std(scores_recall)))"
      ],
      "metadata": {
        "colab": {
          "base_uri": "https://localhost:8080/"
        },
        "id": "jZAgfDHnNK-d",
        "outputId": "9b2841ab-c65b-459c-e680-29d15c9400b3"
      },
      "execution_count": null,
      "outputs": [
        {
          "output_type": "stream",
          "name": "stdout",
          "text": [
            "scores_recall: 0.977 (0.030)\n"
          ]
        }
      ]
    },
    {
      "cell_type": "code",
      "source": [
        "# accracy\n",
        "\n",
        "cv = KFold(n_splits=10, shuffle=True)#, random_state=42\n",
        "scores = cross_val_score(model, X, y, scoring='accuracy', cv=cv)\n",
        "\n",
        "print('Accuracy: %.3f (%.3f)' % (mean(scores), std(scores)))"
      ],
      "metadata": {
        "colab": {
          "base_uri": "https://localhost:8080/"
        },
        "id": "FCiEyGcRNQSf",
        "outputId": "91c02cfb-c8ac-403f-83c2-74eaf0e8c4ba"
      },
      "execution_count": null,
      "outputs": [
        {
          "output_type": "stream",
          "name": "stdout",
          "text": [
            "Accuracy: 0.983 (0.012)\n"
          ]
        }
      ]
    },
    {
      "cell_type": "code",
      "source": [
        "#precision\n",
        "\n",
        "cv = KFold(n_splits=10, shuffle=True)#, shuffle=True, random_state=42\n",
        "scores_precision = cross_val_score(model, X, y, scoring='precision', cv=cv)\n",
        "\n",
        "print('scores_precision: %.3f (%.3f)' % (mean(scores_precision), std(scores_precision)))"
      ],
      "metadata": {
        "colab": {
          "base_uri": "https://localhost:8080/"
        },
        "id": "bJVZ8GuoNSqO",
        "outputId": "1c5fc4de-07b4-4cbb-e6fc-bbf2dc16d1a0"
      },
      "execution_count": null,
      "outputs": [
        {
          "output_type": "stream",
          "name": "stdout",
          "text": [
            "scores_precision: 0.957 (0.032)\n"
          ]
        }
      ]
    }
  ]
}