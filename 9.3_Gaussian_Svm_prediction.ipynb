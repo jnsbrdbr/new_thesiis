{
  "nbformat": 4,
  "nbformat_minor": 0,
  "metadata": {
    "colab": {
      "name": "9.3_Gaussian Svm/prediction.ipynb",
      "provenance": [],
      "collapsed_sections": [],
      "authorship_tag": "ABX9TyPZK7QYB9F4cC1WDbwkGcI2",
      "include_colab_link": true
    },
    "kernelspec": {
      "name": "python3",
      "display_name": "Python 3"
    },
    "language_info": {
      "name": "python"
    }
  },
  "cells": [
    {
      "cell_type": "markdown",
      "metadata": {
        "id": "view-in-github",
        "colab_type": "text"
      },
      "source": [
        "<a href=\"https://colab.research.google.com/github/jnsbrdbr/new_thesiis/blob/main/9.3_Gaussian_Svm_prediction.ipynb\" target=\"_parent\"><img src=\"https://colab.research.google.com/assets/colab-badge.svg\" alt=\"Open In Colab\"/></a>"
      ]
    },
    {
      "cell_type": "code",
      "execution_count": 1,
      "metadata": {
        "id": "izqrRel7V9Yg"
      },
      "outputs": [],
      "source": [
        "import numpy as np\n",
        "import pandas as pd\n",
        "import seaborn as sns\n",
        "import matplotlib.pyplot as plt\n",
        "\n",
        "from sklearn.metrics import jaccard_score\n",
        "from scipy.spatial.distance import pdist, squareform"
      ]
    },
    {
      "cell_type": "code",
      "source": [
        "from google.colab import drive\n",
        "drive.mount('/content/drive') "
      ],
      "metadata": {
        "colab": {
          "base_uri": "https://localhost:8080/"
        },
        "id": "Cn7BAmK3WIle",
        "outputId": "6f6ed2e9-80a8-48a3-fe6f-33390e9c5794"
      },
      "execution_count": 2,
      "outputs": [
        {
          "output_type": "stream",
          "name": "stdout",
          "text": [
            "Drive already mounted at /content/drive; to attempt to forcibly remount, call drive.mount(\"/content/drive\", force_remount=True).\n"
          ]
        }
      ]
    },
    {
      "cell_type": "code",
      "source": [
        "with pd.HDFStore('/content/drive/MyDrive/1000/part2_result',  mode='r') as newstore:\n",
        "    result = newstore.select('result')"
      ],
      "metadata": {
        "id": "iOj-zRxCWKvx"
      },
      "execution_count": 3,
      "outputs": []
    },
    {
      "cell_type": "code",
      "source": [
        "print(result)"
      ],
      "metadata": {
        "colab": {
          "base_uri": "https://localhost:8080/"
        },
        "id": "m6zC3v3cWMMH",
        "outputId": "5e43a866-2f5a-4c51-eb06-a27af97bd655"
      },
      "execution_count": 4,
      "outputs": [
        {
          "output_type": "stream",
          "name": "stdout",
          "text": [
            "             0         1         2             3             4         5  \\\n",
            "0    -1.468407 -3.098769 -0.040978  6.204485e-14  2.991009e-14  0.078341   \n",
            "1    -1.468407 -3.098769 -0.040978 -1.233238e-14  2.951113e-14  0.078341   \n",
            "2    -1.468407 -3.098769 -0.040978 -7.431131e-14  3.860443e-14  0.078341   \n",
            "3    -1.468407 -3.098769 -0.040978  1.650248e-14 -1.360452e-14  0.078341   \n",
            "4    -1.468407 -3.098769 -0.040978  8.579407e-15  2.671601e-14  0.078341   \n",
            "...        ...       ...       ...           ...           ...       ...   \n",
            "1315 -1.468407 -3.098769 -0.040978  1.269764e-14  2.287279e-14  0.078341   \n",
            "1316 -1.468407 -3.098769 -0.040978  1.269764e-14  2.287279e-14  0.078341   \n",
            "1317 -1.468407 -3.098769 -0.040978  1.269764e-14  2.287279e-14  0.078341   \n",
            "1318 -1.468407 -3.098769 -0.040978  1.269764e-14  2.287279e-14  0.078341   \n",
            "1319 -1.468407 -3.098769 -0.040978  1.269764e-14  2.287279e-14  0.078341   \n",
            "\n",
            "            6         7         8         9  ...         1         2  \\\n",
            "0     2.36865 -1.386898 -0.000551 -0.000425  ... -0.039493  0.002581   \n",
            "1     2.36865 -1.386898 -0.000551 -0.000425  ... -0.039493  0.002581   \n",
            "2     2.36865 -1.386898 -0.000551 -0.000425  ... -0.039493  0.002581   \n",
            "3     2.36865 -1.386898 -0.000551 -0.000425  ... -0.039493  0.002581   \n",
            "4     2.36865 -1.386898 -0.000551 -0.000425  ... -0.032130 -0.012159   \n",
            "...       ...       ...       ...       ...  ...       ...       ...   \n",
            "1315  2.36865 -1.386898 -0.000551 -0.000425  ...  0.032918  0.046306   \n",
            "1316  2.36865 -1.386898 -0.000551 -0.000425  ...  0.035148  0.062576   \n",
            "1317  2.36865 -1.386898 -0.000551 -0.000425  ...  0.099628 -0.083265   \n",
            "1318  2.36865 -1.386898 -0.000551 -0.000425  ...  0.023592 -0.050616   \n",
            "1319  2.36865 -1.386898 -0.000551 -0.000425  ...  0.101839 -0.125609   \n",
            "\n",
            "             3         4         5         6         7         8         9  \\\n",
            "0    -0.005026 -0.000115 -0.004540 -0.010420 -0.005894 -0.005817 -0.003177   \n",
            "1    -0.005026 -0.000115 -0.004540 -0.010420 -0.005894 -0.005817 -0.003177   \n",
            "2    -0.005026 -0.000115 -0.004540 -0.010420 -0.005894 -0.005817 -0.003176   \n",
            "3    -0.005026 -0.000115 -0.004540 -0.010420 -0.005894 -0.005817 -0.003177   \n",
            "4    -0.011785 -0.015593 -0.014991 -0.028055  0.006076  0.003190  0.002314   \n",
            "...        ...       ...       ...       ...       ...       ...       ...   \n",
            "1315  0.094631  0.124774  0.008972  0.001981 -0.052331  0.309602  0.009135   \n",
            "1316  0.099325  0.134425  0.015498  0.002026  0.311786  0.021678  0.006007   \n",
            "1317 -0.069888 -0.002082 -0.194672  0.297580  0.001217 -0.005709 -0.028393   \n",
            "1318 -0.007453 -0.021238  0.308253  0.150730 -0.027760 -0.031040  0.127378   \n",
            "1319 -0.142618  0.085227 -0.013546 -0.049724 -0.024447  0.240382  0.004047   \n",
            "\n",
            "      label  \n",
            "0         1  \n",
            "1         1  \n",
            "2         1  \n",
            "3         1  \n",
            "4         1  \n",
            "...     ...  \n",
            "1315      0  \n",
            "1316      0  \n",
            "1317      0  \n",
            "1318      0  \n",
            "1319      0  \n",
            "\n",
            "[1320 rows x 71 columns]\n"
          ]
        }
      ]
    },
    {
      "cell_type": "code",
      "source": [
        "import copy\n",
        "result_nonlabel=copy.deepcopy(result)\n",
        "del result_nonlabel['label']\n",
        "X=result_nonlabel\n",
        "y=result.label"
      ],
      "metadata": {
        "id": "5H_99vIpWZjm"
      },
      "execution_count": 5,
      "outputs": []
    },
    {
      "cell_type": "code",
      "source": [
        "from sklearn.model_selection import train_test_split\n",
        "x_train, x_test, y_train, y_test = train_test_split(X, y, test_size=0.4,\n",
        "                                                    shuffle=True)"
      ],
      "metadata": {
        "id": "38-4t4XiWdGb"
      },
      "execution_count": 6,
      "outputs": []
    },
    {
      "cell_type": "code",
      "source": [
        "from sklearn.gaussian_process import GaussianProcessClassifier\n",
        "from sklearn.gaussian_process.kernels import RBF\n",
        "from sklearn import svm\n",
        "\n",
        "k=svm.SVC(kernel=\"rbf\", gamma='scale', C=1000, probability=True)#gamma=0.0001, C=10#gamma=0.1, C=10,\n",
        "gpc = k.fit(x_train, y_train)"
      ],
      "metadata": {
        "id": "vL-wevfzWgK3"
      },
      "execution_count": 7,
      "outputs": []
    },
    {
      "cell_type": "code",
      "source": [
        "predictions = gpc.predict(x_test)\n",
        "score = gpc.score(x_test, y_test)\n",
        "print(score)"
      ],
      "metadata": {
        "colab": {
          "base_uri": "https://localhost:8080/"
        },
        "id": "kDpYna6hWizp",
        "outputId": "e79b06e6-b90f-483f-89d4-ba8543775043"
      },
      "execution_count": 8,
      "outputs": [
        {
          "output_type": "stream",
          "name": "stdout",
          "text": [
            "0.9678030303030303\n"
          ]
        }
      ]
    },
    {
      "cell_type": "code",
      "source": [
        "import matplotlib.pyplot as plt\n",
        "import seaborn as sns\n",
        "from sklearn import metrics\n",
        "\n",
        "\n",
        "\n",
        "confusion_matrix = pd.crosstab(y_test, predictions, rownames=['Actual'], colnames=['Predicted'])\n",
        "sns.heatmap(confusion_matrix, annot=True)\n"
      ],
      "metadata": {
        "colab": {
          "base_uri": "https://localhost:8080/",
          "height": 297
        },
        "id": "_NeVgTe0X1tc",
        "outputId": "055c6ef3-e8ad-4287-f31f-6c35c408627f"
      },
      "execution_count": 9,
      "outputs": [
        {
          "output_type": "execute_result",
          "data": {
            "text/plain": [
              "<matplotlib.axes._subplots.AxesSubplot at 0x7f470fa366d0>"
            ]
          },
          "metadata": {},
          "execution_count": 9
        },
        {
          "output_type": "display_data",
          "data": {
            "text/plain": [
              "<Figure size 432x288 with 2 Axes>"
            ],
            "image/png": "[encoded data removed]"
          },
          "metadata": {
            "needs_background": "light"
          }
        }
      ]
    },
    {
      "cell_type": "code",
      "source": [
        "from sklearn.metrics import confusion_matrix\n",
        "\n",
        "tn, fp, fn, tp = confusion_matrix(y_test, predictions).ravel()\n",
        "print(f'True Positives: {tp}')\n",
        "print(f'False Positives: {fp}')\n",
        "print(f'True Negatives: {tn}')\n",
        "print(f'False Negatives: {fn}')"
      ],
      "metadata": {
        "colab": {
          "base_uri": "https://localhost:8080/"
        },
        "id": "dy0BKIixDWEw",
        "outputId": "d4b917e6-1a5d-4686-ee0b-e0e913506242"
      },
      "execution_count": 10,
      "outputs": [
        {
          "output_type": "stream",
          "name": "stdout",
          "text": [
            "True Positives: 394\n",
            "False Positives: 15\n",
            "True Negatives: 117\n",
            "False Negatives: 2\n"
          ]
        }
      ]
    },
    {
      "cell_type": "code",
      "source": [
        "print('Accuracy: ',metrics.accuracy_score(y_test, predictions))"
      ],
      "metadata": {
        "colab": {
          "base_uri": "https://localhost:8080/"
        },
        "id": "31p29Zn8X9Lf",
        "outputId": "1f382af8-eb16-4895-f296-19205e0d182c"
      },
      "execution_count": 11,
      "outputs": [
        {
          "output_type": "stream",
          "name": "stdout",
          "text": [
            "Accuracy:  0.9678030303030303\n"
          ]
        }
      ]
    },
    {
      "cell_type": "code",
      "source": [
        "from numpy import mean\n",
        "from numpy import std\n",
        "from sklearn.model_selection import KFold\n",
        "from sklearn.model_selection import cross_val_score\n",
        "\n",
        "\n",
        "cv = KFold(n_splits=10, shuffle=True)# x_train, y_train, random_state=42\n",
        "scores = cross_val_score(k,X, y, scoring='accuracy', cv=cv,n_jobs=-1)\n",
        "\n",
        "print('Accuracy: %.3f (%.3f)' % (mean(scores), std(scores)))"
      ],
      "metadata": {
        "colab": {
          "base_uri": "https://localhost:8080/"
        },
        "id": "N1nSCclzAvMj",
        "outputId": "0b947157-21eb-44a1-f719-384835505ec7"
      },
      "execution_count": 12,
      "outputs": [
        {
          "output_type": "stream",
          "name": "stdout",
          "text": [
            "Accuracy: 0.966 (0.014)\n"
          ]
        }
      ]
    },
    {
      "cell_type": "code",
      "source": [
        "#recall\n",
        "\n",
        "from numpy import mean\n",
        "from numpy import std\n",
        "from sklearn.model_selection import KFold\n",
        "from sklearn.model_selection import cross_val_score,cross_val_predict\n",
        "\n",
        "\n",
        "cv = KFold(n_splits=10, shuffle=True)#, random_state=42\n",
        "scores_recall = cross_val_score(k,X, y, scoring='recall', cv=cv,n_jobs=-1)\n",
        "\n",
        "print('scores_recall: %.3f (%.3f)' % (mean(scores_recall), std(scores_recall)))"
      ],
      "metadata": {
        "colab": {
          "base_uri": "https://localhost:8080/"
        },
        "id": "YY9qChEEA2k5",
        "outputId": "65e31aaa-f79e-4609-ea89-947048dd1999"
      },
      "execution_count": 13,
      "outputs": [
        {
          "output_type": "stream",
          "name": "stdout",
          "text": [
            "scores_recall: 0.991 (0.009)\n"
          ]
        }
      ]
    },
    {
      "cell_type": "code",
      "source": [
        "#precision\n",
        "\n",
        "from numpy import mean\n",
        "from numpy import std\n",
        "from sklearn.model_selection import KFold\n",
        "from sklearn.model_selection import cross_val_score\n",
        "\n",
        "\n",
        "cv = KFold(n_splits=10, shuffle=True)#, random_state=42\n",
        "scores_precision = cross_val_score(k, X, y, scoring='precision', cv=cv,n_jobs=-1)\n",
        "\n",
        "print('scores_precision: %.3f (%.3f)' % (mean(scores_precision), std(scores_precision)))"
      ],
      "metadata": {
        "colab": {
          "base_uri": "https://localhost:8080/"
        },
        "id": "U6O2ZIvPA5Zh",
        "outputId": "6da8824b-bda9-4f4d-9925-2f8f2a55f93e"
      },
      "execution_count": 14,
      "outputs": [
        {
          "output_type": "stream",
          "name": "stdout",
          "text": [
            "scores_precision: 0.964 (0.031)\n"
          ]
        }
      ]
    },
    {
      "cell_type": "code",
      "source": [
        "from sklearn.datasets import make_classification\n",
        "from sklearn.linear_model import LogisticRegression\n",
        "from sklearn.model_selection import train_test_split\n",
        "from matplotlib import pyplot\n",
        "from sklearn.metrics import roc_auc_score\n",
        "from sklearn.metrics import roc_curve\n",
        "\n",
        "\n",
        "k=svm.SVC(kernel=\"rbf\", gamma='scale', C=1000, probability=True)#gamma=0.0001, C=10,gamma=0.1, C=10\n",
        "k.fit(x_train, y_train)\n",
        "yhat = k.predict_proba(x_test)\n",
        "pos_probs = yhat[:, 1]\n",
        "pyplot.plot([0, 1], [0, 1], linestyle='--')\n",
        "fpr, tpr, _ = roc_curve(y_test, pos_probs)\n",
        "pyplot.plot(fpr, tpr, marker='.', label='rbf')\n",
        "pyplot.xlabel('False Positive Rate')\n",
        "pyplot.ylabel('True Positive Rate')\n",
        "pyplot.legend()\n",
        "pyplot.show()\n",
        "\n",
        "roc_auc = roc_auc_score(y_test, pos_probs)\n",
        "print('\\n','Logistic ROC AUC %.3f' % roc_auc)"
      ],
      "metadata": {
        "colab": {
          "base_uri": "https://localhost:8080/",
          "height": 316
        },
        "id": "S-t7OX36NhrP",
        "outputId": "1a798f2d-ec74-43c6-f532-dd89790935cb"
      },
      "execution_count": 15,
      "outputs": [
        {
          "output_type": "display_data",
          "data": {
            "text/plain": [
              "<Figure size 432x288 with 1 Axes>"
            ],
            "image/png": "[encoded data removed]"
          },
          "metadata": {
            "needs_background": "light"
          }
        },
        {
          "output_type": "stream",
          "name": "stdout",
          "text": [
            "\n",
            " Logistic ROC AUC 0.996\n"
          ]
        }
      ]
    },
    {
      "cell_type": "code",
      "source": [
        "#Importing required libraries\n",
        "from sklearn.model_selection import KFold \n",
        "from sklearn.datasets import load_breast_cancer\n",
        "from sklearn.linear_model import LogisticRegression\n",
        "from sklearn.metrics import accuracy_score\n",
        "from sklearn.metrics import confusion_matrix\n",
        " \n",
        "#data = load_breast_cancer(as_frame = True)\n",
        "#df = result.frame\n",
        "#X = result.iloc[:,:-1]\n",
        "#y = result.iloc[:,-1]\n",
        " \n",
        "#Implementing cross validation\n",
        " \n",
        "#X = X.sample(frac = 1)\n",
        "#y= y.sample(frac = 1)\n",
        "kf = KFold(n_splits=10)#, random_state=None\n",
        "model = svm.SVC(kernel=\"rbf\",gamma='scale', C=1000)#gamma=0.1, C=10\n",
        " \n",
        "acc_score = list()\n",
        "res_tpr = list()\n",
        "res_fpr = list()\n",
        "for train_index , test_index in kf.split(X):\n",
        "    #X_train , X_test = X.iloc[train_index,:],X.iloc[test_index,:]\n",
        "    #y_train , y_test = y[train_index] , y[test_index]\n",
        "    X_train, X_test, y_train, y_test = train_test_split(X, y, test_size=0.4)\n",
        "    model.fit(X_train,y_train)\n",
        "    pred_values = model.predict(X_test)\n",
        "    tn, fp, fn, tp = confusion_matrix(y_test, pred_values, labels=[0, 1]).ravel()\n",
        "    print(f'True Positives: {tp}')\n",
        "    print(f'False Positives: {fp}')\n",
        "    print(f'True Negatives: {tn}')\n",
        "    print(f'False Negatives: {fn}')\n",
        "    tpr=(np.divide(tp,(tp+fn)))\n",
        "    fpr=(np.divide(fp,(fp+tn)))\n",
        "    if tp==0:\n",
        "      tpr=0\n",
        "    if fp==0:\n",
        "      fpr=0\n",
        "\n",
        "    print('fpr=%.3f' % (mean(fpr)))#tpr=%.4f : mean(tpr), \n",
        "    print('x')\n",
        "    res_tpr.append(mean(tpr))\n",
        "    res_fpr.append(mean(fpr))\n",
        "    print('---------------------')\n",
        "\n",
        "    acc = accuracy_score(pred_values , y_test)\n",
        "    acc_score.append(acc)\n",
        "     \n",
        "avg_acc_score = np.sum(acc_score)/10\n",
        "total_tpr=np.sum(res_tpr)/10\n",
        "total_fpr=np.sum(res_fpr)/10\n",
        "print('\\n\\n','total_fpr=%.3f' % (total_fpr))# total_tpr=%.4f :total_tpr,\n",
        "print('\\n\\n','total_tpr=%.3f' % (total_tpr))"
      ],
      "metadata": {
        "colab": {
          "base_uri": "https://localhost:8080/"
        },
        "id": "u_-Vh_UgJztI",
        "outputId": "a3f217d9-4ee0-4511-c0aa-6900a176cf18"
      },
      "execution_count": 16,
      "outputs": [
        {
          "output_type": "stream",
          "name": "stdout",
          "text": [
            "True Positives: 388\n",
            "False Positives: 20\n",
            "True Negatives: 116\n",
            "False Negatives: 4\n",
            "fpr=0.147\n",
            "x\n",
            "---------------------\n",
            "True Positives: 402\n",
            "False Positives: 17\n",
            "True Negatives: 107\n",
            "False Negatives: 2\n",
            "fpr=0.137\n",
            "x\n",
            "---------------------\n",
            "True Positives: 394\n",
            "False Positives: 15\n",
            "True Negatives: 115\n",
            "False Negatives: 4\n",
            "fpr=0.115\n",
            "x\n",
            "---------------------\n",
            "True Positives: 379\n",
            "False Positives: 21\n",
            "True Negatives: 124\n",
            "False Negatives: 4\n",
            "fpr=0.145\n",
            "x\n",
            "---------------------\n",
            "True Positives: 397\n",
            "False Positives: 9\n",
            "True Negatives: 117\n",
            "False Negatives: 5\n",
            "fpr=0.071\n",
            "x\n",
            "---------------------\n",
            "True Positives: 389\n",
            "False Positives: 24\n",
            "True Negatives: 113\n",
            "False Negatives: 2\n",
            "fpr=0.175\n",
            "x\n",
            "---------------------\n",
            "True Positives: 384\n",
            "False Positives: 14\n",
            "True Negatives: 124\n",
            "False Negatives: 6\n",
            "fpr=0.101\n",
            "x\n",
            "---------------------\n",
            "True Positives: 392\n",
            "False Positives: 8\n",
            "True Negatives: 126\n",
            "False Negatives: 2\n",
            "fpr=0.060\n",
            "x\n",
            "---------------------\n",
            "True Positives: 388\n",
            "False Positives: 29\n",
            "True Negatives: 107\n",
            "False Negatives: 4\n",
            "fpr=0.213\n",
            "x\n",
            "---------------------\n",
            "True Positives: 381\n",
            "False Positives: 29\n",
            "True Negatives: 115\n",
            "False Negatives: 3\n",
            "fpr=0.201\n",
            "x\n",
            "---------------------\n",
            "\n",
            "\n",
            " total_fpr=0.137\n",
            "\n",
            "\n",
            " total_tpr=0.991\n"
          ]
        }
      ]
    }
  ]
}