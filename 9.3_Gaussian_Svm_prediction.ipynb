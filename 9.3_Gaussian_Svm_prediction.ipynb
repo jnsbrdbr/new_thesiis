{
  "nbformat": 4,
  "nbformat_minor": 0,
  "metadata": {
    "colab": {
      "name": "9.3_Gaussian Svm/prediction.ipynb",
      "provenance": [],
      "collapsed_sections": [],
      "authorship_tag": "ABX9TyPdnziZfPOxbNH4DP/CYonF",
      "include_colab_link": true
    },
    "kernelspec": {
      "name": "python3",
      "display_name": "Python 3"
    },
    "language_info": {
      "name": "python"
    }
  },
  "cells": [
    {
      "cell_type": "markdown",
      "metadata": {
        "id": "view-in-github",
        "colab_type": "text"
      },
      "source": [
        "<a href=\"https://colab.research.google.com/github/jnsbrdbr/new_thesiis/blob/main/9.3_Gaussian_Svm_prediction.ipynb\" target=\"_parent\"><img src=\"https://colab.research.google.com/assets/colab-badge.svg\" alt=\"Open In Colab\"/></a>"
      ]
    },
    {
      "cell_type": "code",
      "execution_count": 1,
      "metadata": {
        "id": "izqrRel7V9Yg"
      },
      "outputs": [],
      "source": [
        "import numpy as np\n",
        "import pandas as pd\n",
        "import seaborn as sns\n",
        "import matplotlib.pyplot as plt\n",
        "import copy\n",
        "from sklearn.model_selection import train_test_split\n",
        "from sklearn.svm import SVC\n",
        "from sklearn import svm\n",
        "from sklearn.gaussian_process.kernels import RBF\n",
        "from sklearn import metrics\n",
        "from sklearn.metrics import confusion_matrix\n",
        "from numpy import mean\n",
        "from numpy import std\n",
        "from sklearn.model_selection import KFold\n",
        "from sklearn.model_selection import cross_val_score,cross_val_predict\n",
        "from sklearn.metrics import auc\n",
        "from sklearn.metrics import RocCurveDisplay\n",
        "from sklearn.model_selection import StratifiedKFold\n",
        "from sklearn.metrics import roc_auc_score\n",
        "from sklearn.metrics import roc_curve\n",
        "from matplotlib import pyplot\n",
        "from sklearn.metrics import accuracy_score"
      ]
    },
    {
      "cell_type": "code",
      "source": [
        "from google.colab import drive\n",
        "drive.mount('/content/drive') "
      ],
      "metadata": {
        "colab": {
          "base_uri": "https://localhost:8080/"
        },
        "id": "Cn7BAmK3WIle",
        "outputId": "417558ef-7654-4a77-97c9-ef0a04fb85c0"
      },
      "execution_count": 2,
      "outputs": [
        {
          "output_type": "stream",
          "name": "stdout",
          "text": [
            "Mounted at /content/drive\n"
          ]
        }
      ]
    },
    {
      "cell_type": "code",
      "source": [
        "with pd.HDFStore('/content/drive/MyDrive/1000/part2_result',  mode='r') as newstore:\n",
        "    result = newstore.select('result')"
      ],
      "metadata": {
        "id": "iOj-zRxCWKvx"
      },
      "execution_count": 3,
      "outputs": []
    },
    {
      "cell_type": "code",
      "source": [
        "print(result)"
      ],
      "metadata": {
        "colab": {
          "base_uri": "https://localhost:8080/"
        },
        "id": "m6zC3v3cWMMH",
        "outputId": "79230dd8-265d-4a02-b6dc-1a89b67f7ea0"
      },
      "execution_count": 4,
      "outputs": [
        {
          "output_type": "stream",
          "name": "stdout",
          "text": [
            "             0         1         2             3             4         5  \\\n",
            "0    -1.468407 -3.098769 -0.040978  6.204485e-14  2.991009e-14  0.078341   \n",
            "1    -1.468407 -3.098769 -0.040978 -1.233238e-14  2.951113e-14  0.078341   \n",
            "2    -1.468407 -3.098769 -0.040978 -7.431131e-14  3.860443e-14  0.078341   \n",
            "3    -1.468407 -3.098769 -0.040978  1.650248e-14 -1.360452e-14  0.078341   \n",
            "4    -1.468407 -3.098769 -0.040978  8.579407e-15  2.671601e-14  0.078341   \n",
            "...        ...       ...       ...           ...           ...       ...   \n",
            "1315 -1.468407 -3.098769 -0.040978  1.269764e-14  2.287279e-14  0.078341   \n",
            "1316 -1.468407 -3.098769 -0.040978  1.269764e-14  2.287279e-14  0.078341   \n",
            "1317 -1.468407 -3.098769 -0.040978  1.269764e-14  2.287279e-14  0.078341   \n",
            "1318 -1.468407 -3.098769 -0.040978  1.269764e-14  2.287279e-14  0.078341   \n",
            "1319 -1.468407 -3.098769 -0.040978  1.269764e-14  2.287279e-14  0.078341   \n",
            "\n",
            "            6         7         8         9  ...         1         2  \\\n",
            "0     2.36865 -1.386898 -0.000551 -0.000425  ... -0.039493  0.002581   \n",
            "1     2.36865 -1.386898 -0.000551 -0.000425  ... -0.039493  0.002581   \n",
            "2     2.36865 -1.386898 -0.000551 -0.000425  ... -0.039493  0.002581   \n",
            "3     2.36865 -1.386898 -0.000551 -0.000425  ... -0.039493  0.002581   \n",
            "4     2.36865 -1.386898 -0.000551 -0.000425  ... -0.032130 -0.012159   \n",
            "...       ...       ...       ...       ...  ...       ...       ...   \n",
            "1315  2.36865 -1.386898 -0.000551 -0.000425  ...  0.032918  0.046306   \n",
            "1316  2.36865 -1.386898 -0.000551 -0.000425  ...  0.035148  0.062576   \n",
            "1317  2.36865 -1.386898 -0.000551 -0.000425  ...  0.099628 -0.083265   \n",
            "1318  2.36865 -1.386898 -0.000551 -0.000425  ...  0.023592 -0.050616   \n",
            "1319  2.36865 -1.386898 -0.000551 -0.000425  ...  0.101839 -0.125609   \n",
            "\n",
            "             3         4         5         6         7         8         9  \\\n",
            "0    -0.005026 -0.000115 -0.004540 -0.010420 -0.005894 -0.005817 -0.003177   \n",
            "1    -0.005026 -0.000115 -0.004540 -0.010420 -0.005894 -0.005817 -0.003177   \n",
            "2    -0.005026 -0.000115 -0.004540 -0.010420 -0.005894 -0.005817 -0.003176   \n",
            "3    -0.005026 -0.000115 -0.004540 -0.010420 -0.005894 -0.005817 -0.003177   \n",
            "4    -0.011785 -0.015593 -0.014991 -0.028055  0.006076  0.003190  0.002314   \n",
            "...        ...       ...       ...       ...       ...       ...       ...   \n",
            "1315  0.094631  0.124774  0.008972  0.001981 -0.052331  0.309602  0.009135   \n",
            "1316  0.099325  0.134425  0.015498  0.002026  0.311786  0.021678  0.006007   \n",
            "1317 -0.069888 -0.002082 -0.194672  0.297580  0.001217 -0.005709 -0.028393   \n",
            "1318 -0.007453 -0.021238  0.308253  0.150730 -0.027760 -0.031040  0.127378   \n",
            "1319 -0.142618  0.085227 -0.013546 -0.049724 -0.024447  0.240382  0.004047   \n",
            "\n",
            "      label  \n",
            "0         1  \n",
            "1         1  \n",
            "2         1  \n",
            "3         1  \n",
            "4         1  \n",
            "...     ...  \n",
            "1315      0  \n",
            "1316      0  \n",
            "1317      0  \n",
            "1318      0  \n",
            "1319      0  \n",
            "\n",
            "[1320 rows x 71 columns]\n"
          ]
        }
      ]
    },
    {
      "cell_type": "code",
      "source": [
        "#divide data in to data_label and non_data label\n",
        "\n",
        "y=result.label\n",
        "pd.options.mode.chained_assignment = None  # default='warn'\n",
        "for i in range(len(y)):\n",
        "  if y[i]==1:\n",
        "    y[i]=0\n",
        "  else:\n",
        "    y[i]=1"
      ],
      "metadata": {
        "id": "5H_99vIpWZjm"
      },
      "execution_count": 5,
      "outputs": []
    },
    {
      "cell_type": "code",
      "source": [
        "result_nonlabel=copy.deepcopy(result)\n",
        "del result_nonlabel['label']\n",
        "X=result_nonlabel"
      ],
      "metadata": {
        "id": "U7t-4hZL_1Az"
      },
      "execution_count": 6,
      "outputs": []
    },
    {
      "cell_type": "code",
      "source": [
        "#splitting data in to test and train...\n",
        "\n",
        "x_train, x_test, y_train, y_test = train_test_split(X, y, test_size=0.3,shuffle=True)"
      ],
      "metadata": {
        "id": "38-4t4XiWdGb"
      },
      "execution_count": 7,
      "outputs": []
    },
    {
      "cell_type": "code",
      "source": [
        "#train the data\n",
        "\n",
        "k=svm.SVC(kernel=\"rbf\",gamma=0.01, C=50, probability=True)#gamma=0.0001, C=10#gamma=0.1, C=10,\n",
        "gpc = k.fit(x_train, y_train)\n",
        "predictions = gpc.predict(x_test)\n",
        "score = gpc.score(x_test, y_test)\n",
        "print(score)"
      ],
      "metadata": {
        "id": "vL-wevfzWgK3",
        "colab": {
          "base_uri": "https://localhost:8080/"
        },
        "outputId": "c96112cb-08be-48ee-e5e2-aca14a2a7e92"
      },
      "execution_count": 8,
      "outputs": [
        {
          "output_type": "stream",
          "name": "stdout",
          "text": [
            "0.9873737373737373\n"
          ]
        }
      ]
    },
    {
      "cell_type": "code",
      "source": [
        "#Accuracy\n",
        "\n",
        "print('Accuracy: ',metrics.accuracy_score(y_test, predictions))\n",
        "print('\\n')\n",
        "#plotting confusion_matrix\n",
        "\n",
        "confusion_matrix = pd.crosstab(y_test, predictions, rownames=['Actual'], colnames=['Predicted'])\n",
        "sns.heatmap(confusion_matrix, annot=True)"
      ],
      "metadata": {
        "colab": {
          "base_uri": "https://localhost:8080/",
          "height": 353
        },
        "id": "_NeVgTe0X1tc",
        "outputId": "e18d3741-e4a2-4158-f6d2-8b39a7765d2b"
      },
      "execution_count": 9,
      "outputs": [
        {
          "output_type": "stream",
          "name": "stdout",
          "text": [
            "Accuracy:  0.9873737373737373\n",
            "\n",
            "\n"
          ]
        },
        {
          "output_type": "execute_result",
          "data": {
            "text/plain": [
              "<matplotlib.axes._subplots.AxesSubplot at 0x7f0294052d50>"
            ]
          },
          "metadata": {},
          "execution_count": 9
        },
        {
          "output_type": "display_data",
          "data": {
            "text/plain": [
              "<Figure size 432x288 with 2 Axes>"
            ],
            "image/png": "[encoded data removed]"
          },
          "metadata": {
            "needs_background": "light"
          }
        }
      ]
    },
    {
      "cell_type": "code",
      "source": [
        "#cross_validation and accracy\n",
        "\n",
        "cv = KFold(n_splits=10, shuffle=True)# x_train, y_train, random_state=42\n",
        "scores = cross_val_score(k,X, y, scoring='accuracy', cv=cv,n_jobs=-1)\n",
        "\n",
        "print('Accuracy: %.3f (%.3f)' % (mean(scores), std(scores)))"
      ],
      "metadata": {
        "colab": {
          "base_uri": "https://localhost:8080/"
        },
        "id": "N1nSCclzAvMj",
        "outputId": "f2f98bed-e964-47ef-d056-ef513d7e695d"
      },
      "execution_count": 10,
      "outputs": [
        {
          "output_type": "stream",
          "name": "stdout",
          "text": [
            "Accuracy: 0.986 (0.007)\n"
          ]
        }
      ]
    },
    {
      "cell_type": "code",
      "source": [
        "#recall/TPR\n",
        "\n",
        "cv = KFold(n_splits=10, shuffle=True)#, random_state=42\n",
        "scores_recall = cross_val_score(k,X, y, scoring='recall', cv=cv,n_jobs=-1)\n",
        "\n",
        "print('scores_recall: %.3f (%.3f)' % (mean(scores_recall), std(scores_recall)))"
      ],
      "metadata": {
        "colab": {
          "base_uri": "https://localhost:8080/"
        },
        "id": "YY9qChEEA2k5",
        "outputId": "0f47614b-bc91-45c8-9254-465357ef56b2"
      },
      "execution_count": 11,
      "outputs": [
        {
          "output_type": "stream",
          "name": "stdout",
          "text": [
            "scores_recall: 0.967 (0.038)\n"
          ]
        }
      ]
    },
    {
      "cell_type": "code",
      "source": [
        "#precision\n",
        "\n",
        "cv = KFold(n_splits=10, shuffle=True)#, random_state=42\n",
        "scores_precision = cross_val_score(k, X, y, scoring='precision', cv=cv,n_jobs=-1)\n",
        "\n",
        "print('scores_precision: %.3f (%.3f)' % (mean(scores_precision), std(scores_precision)))"
      ],
      "metadata": {
        "colab": {
          "base_uri": "https://localhost:8080/"
        },
        "id": "U6O2ZIvPA5Zh",
        "outputId": "0a6cb360-588f-417c-9aa3-46a324a9b839"
      },
      "execution_count": 12,
      "outputs": [
        {
          "output_type": "stream",
          "name": "stdout",
          "text": [
            "scores_precision: 0.975 (0.025)\n"
          ]
        }
      ]
    },
    {
      "cell_type": "code",
      "source": [
        "x=np.array(X)\n",
        "y_beta=np.array(y)"
      ],
      "metadata": {
        "id": "sWK_c5i1rlQR"
      },
      "execution_count": 13,
      "outputs": []
    },
    {
      "cell_type": "code",
      "source": [
        "#ROC_AUC\n",
        "\n",
        "tprs = []\n",
        "aucs = []\n",
        "mean_fpr = np.linspace(0, 1, 100)\n",
        "plt.figure(figsize=(6,5))\n",
        "i = 0\n",
        "for train, test in cv.split(X, y):\n",
        "    probas_ = k.fit(x[train], y_beta[train]).predict_proba(x[test])\n",
        "    # Compute ROC curve and area the curve\n",
        "    fpr, tpr, thresholds = roc_curve(y_beta[test], probas_[:, 1])\n",
        "    tprs.append(np.interp(mean_fpr, fpr, tpr))\n",
        "    tprs[-1][0] = 0.0\n",
        "    roc_auc = auc(fpr, tpr)\n",
        "    aucs.append(roc_auc)\n",
        "    plt.plot(fpr, tpr, lw=1, alpha=0.3,\n",
        "             label='ROC fold %d (AUC = %0.2f)' % (i, roc_auc))\n",
        "\n",
        "    i += 1\n",
        "plt.plot([0, 1], [0, 1], linestyle='--', lw=2, color='r',\n",
        "         label='Chance', alpha=.8)\n",
        "\n",
        "mean_tpr = np.mean(tprs, axis=0)\n",
        "mean_tpr[-1] = 1.0\n",
        "mean_auc = auc(mean_fpr, mean_tpr)\n",
        "std_auc = np.std(aucs)\n",
        "plt.plot(mean_fpr, mean_tpr, color='b',\n",
        "         label=r'Mean ROC (AUC = %0.2f $\\pm$ %0.2f)' % (mean_auc, std_auc),\n",
        "         lw=2, alpha=.8)\n",
        "\n",
        "std_tpr = np.std(tprs, axis=0)\n",
        "tprs_upper = np.minimum(mean_tpr + std_tpr, 1)\n",
        "tprs_lower = np.maximum(mean_tpr - std_tpr, 0)\n",
        "plt.fill_between(mean_fpr, tprs_lower, tprs_upper, color='grey', alpha=.2,\n",
        "                 label=r'$\\pm$ 1 std. dev.')\n",
        "\n",
        "plt.xlim([-0.01, 1.01])\n",
        "plt.ylim([-0.01, 1.01])\n",
        "plt.xlabel('False Positive Rate',fontsize=18)\n",
        "plt.ylabel('True Positive Rate',fontsize=18)\n",
        "plt.title('Cross-Validation ROC of logistic regression',fontsize=8)\n",
        "plt.legend(loc=\"lower right\", prop={'size': 8})\n",
        "plt.show()"
      ],
      "metadata": {
        "colab": {
          "base_uri": "https://localhost:8080/",
          "height": 355
        },
        "id": "RmPNJMhtAs7T",
        "outputId": "480ead93-b9c2-408e-c983-7d5bd8126897"
      },
      "execution_count": 14,
      "outputs": [
        {
          "output_type": "display_data",
          "data": {
            "text/plain": [
              "<Figure size 432x360 with 1 Axes>"
            ],
            "image/png": "[encoded data removed]"
          },
          "metadata": {
            "needs_background": "light"
          }
        }
      ]
    },
    {
      "cell_type": "code",
      "source": [
        "#FPR\n",
        "from sklearn.metrics import confusion_matrix\n",
        "\n",
        "kf = KFold(n_splits=10)#, random_state=None\n",
        "res_fpr = list()\n",
        "for train_index , test_index in kf.split(X):\n",
        "    X_train, X_test, y_train, y_test = train_test_split(X, y, test_size=0.3)\n",
        "    k.fit(X_train,y_train)\n",
        "    pred_values = k.predict(X_test)\n",
        "    tn, fp, fn, tp = confusion_matrix(y_test, pred_values, labels=[0, 1]).ravel()\n",
        "    print(f'True Positives: {tp}')\n",
        "    print(f'False Positives: {fp}')\n",
        "    print(f'True Negatives: {tn}')\n",
        "    print(f'False Negatives: {fn}')\n",
        "    fpr=(np.divide(fp,(fp+tn)))\n",
        "    if fp==0:\n",
        "      fpr=0\n",
        "\n",
        "    print('fpr=%.3f' % (mean(fpr)))#tpr=%.4f : mean(tpr), \n",
        "    res_fpr.append(mean(fpr))\n",
        "    print('---------------------')\n",
        "\n",
        "total_fpr=np.sum(res_fpr)/10\n",
        "print('\\n\\n','total_fpr=%.3f' % (total_fpr))# total_tpr=%.4f :total_tpr,"
      ],
      "metadata": {
        "colab": {
          "base_uri": "https://localhost:8080/"
        },
        "id": "u_-Vh_UgJztI",
        "outputId": "e4115ad7-64b5-42fb-9ebc-15291b1b2b27"
      },
      "execution_count": 15,
      "outputs": [
        {
          "output_type": "stream",
          "name": "stdout",
          "text": [
            "True Positives: 103\n",
            "False Positives: 2\n",
            "True Negatives: 288\n",
            "False Negatives: 3\n",
            "fpr=0.007\n",
            "---------------------\n",
            "True Positives: 91\n",
            "False Positives: 0\n",
            "True Negatives: 304\n",
            "False Negatives: 1\n",
            "fpr=0.000\n",
            "---------------------\n",
            "True Positives: 102\n",
            "False Positives: 3\n",
            "True Negatives: 288\n",
            "False Negatives: 3\n",
            "fpr=0.010\n",
            "---------------------\n",
            "True Positives: 92\n",
            "False Positives: 4\n",
            "True Negatives: 297\n",
            "False Negatives: 3\n",
            "fpr=0.013\n",
            "---------------------\n",
            "True Positives: 95\n",
            "False Positives: 2\n",
            "True Negatives: 294\n",
            "False Negatives: 5\n",
            "fpr=0.007\n",
            "---------------------\n",
            "True Positives: 110\n",
            "False Positives: 1\n",
            "True Negatives: 282\n",
            "False Negatives: 3\n",
            "fpr=0.004\n",
            "---------------------\n",
            "True Positives: 76\n",
            "False Positives: 2\n",
            "True Negatives: 312\n",
            "False Negatives: 6\n",
            "fpr=0.006\n",
            "---------------------\n",
            "True Positives: 95\n",
            "False Positives: 1\n",
            "True Negatives: 298\n",
            "False Negatives: 2\n",
            "fpr=0.003\n",
            "---------------------\n",
            "True Positives: 90\n",
            "False Positives: 1\n",
            "True Negatives: 302\n",
            "False Negatives: 3\n",
            "fpr=0.003\n",
            "---------------------\n",
            "True Positives: 87\n",
            "False Positives: 0\n",
            "True Negatives: 307\n",
            "False Negatives: 2\n",
            "fpr=0.000\n",
            "---------------------\n",
            "\n",
            "\n",
            " total_fpr=0.005\n"
          ]
        }
      ]
    }
  ]
}