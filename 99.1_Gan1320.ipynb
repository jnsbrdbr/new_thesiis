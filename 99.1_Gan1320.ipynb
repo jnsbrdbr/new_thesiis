{
  "nbformat": 4,
  "nbformat_minor": 0,
  "metadata": {
    "colab": {
      "name": "99.1_Gan.ipynb",
      "provenance": [],
      "authorship_tag": "ABX9TyMcknAo6my1AF/A9xJQRy2D",
      "include_colab_link": true
    },
    "kernelspec": {
      "name": "python3",
      "display_name": "Python 3"
    },
    "language_info": {
      "name": "python"
    }
  },
  "cells": [
    {
      "cell_type": "markdown",
      "metadata": {
        "id": "view-in-github",
        "colab_type": "text"
      },
      "source": [
        "<a href=\"https://colab.research.google.com/github/jnsbrdbr/new_thesiis/blob/main/99.1_Gan1320.ipynb\" target=\"_parent\"><img src=\"https://colab.research.google.com/assets/colab-badge.svg\" alt=\"Open In Colab\"/></a>"
      ]
    },
    {
      "cell_type": "code",
      "execution_count": 1,
      "metadata": {
        "colab": {
          "base_uri": "https://localhost:8080/"
        },
        "id": "yxDlz0f99AA3",
        "outputId": "587dc0d2-ee2c-4eed-adb0-54fbcf948fc6"
      },
      "outputs": [
        {
          "output_type": "stream",
          "name": "stdout",
          "text": [
            "`%tensorflow_version` only switches the major version: 1.x or 2.x.\n",
            "You set: `2.x  # Colab only.`. This will be interpreted as: `2.x`.\n",
            "\n",
            "\n",
            "TensorFlow 2.x selected.\n",
            "2.8.0\n"
          ]
        }
      ],
      "source": [
        "# Install TensorFlow\n",
        "# !pip install -q tensorflow-gpu==2.0.0-rc0\n",
        "\n",
        "try:\n",
        "  %tensorflow_version 2.x  # Colab only.\n",
        "except Exception:\n",
        "  pass\n",
        "\n",
        "import tensorflow as tf\n",
        "print(tf.__version__)"
      ]
    },
    {
      "cell_type": "code",
      "source": [
        "import keras\n",
        "import numpy as np\n",
        "import pandas as pd\n",
        "import seaborn as sns\n",
        "import matplotlib.pyplot as plt\n",
        "import copy\n",
        "from keras.layers import Input, Dense, Activation, LeakyReLU, BatchNormalization\n",
        "from keras.models import Sequential\n",
        "from tensorflow.keras.optimizers import Adam\n",
        "from sklearn.model_selection import train_test_split\n",
        "from tensorflow.keras.models import Model\n",
        "import keras.backend as K\n",
        "import numpy as np\n",
        "import pandas as pd\n",
        "import matplotlib.pyplot as plt\n",
        "import sys, os\n",
        "\n",
        "%matplotlib inline"
      ],
      "metadata": {
        "id": "A_hoVr_P9HG7"
      },
      "execution_count": 2,
      "outputs": []
    },
    {
      "cell_type": "code",
      "source": [
        "from google.colab import drive\n",
        "drive.mount('/content/drive') "
      ],
      "metadata": {
        "colab": {
          "base_uri": "https://localhost:8080/"
        },
        "id": "BGEQJ7nc9KOO",
        "outputId": "20681c5f-c98c-4191-bc8a-e226be3aad0b"
      },
      "execution_count": 3,
      "outputs": [
        {
          "output_type": "stream",
          "name": "stdout",
          "text": [
            "Drive already mounted at /content/drive; to attempt to forcibly remount, call drive.mount(\"/content/drive\", force_remount=True).\n"
          ]
        }
      ]
    },
    {
      "cell_type": "code",
      "source": [
        "!pip install --upgrade tables"
      ],
      "metadata": {
        "colab": {
          "base_uri": "https://localhost:8080/"
        },
        "id": "C9_JtGAQ9QfZ",
        "outputId": "7f602f4e-ed31-45d3-9bd6-40beb0dfc472"
      },
      "execution_count": 4,
      "outputs": [
        {
          "output_type": "stream",
          "name": "stdout",
          "text": [
            "Requirement already satisfied: tables in /usr/local/lib/python3.7/dist-packages (3.7.0)\n",
            "Requirement already satisfied: numpy>=1.19.0 in /usr/local/lib/python3.7/dist-packages (from tables) (1.21.5)\n",
            "Requirement already satisfied: numexpr>=2.6.2 in /usr/local/lib/python3.7/dist-packages (from tables) (2.8.1)\n",
            "Requirement already satisfied: packaging in /usr/local/lib/python3.7/dist-packages (from tables) (21.3)\n",
            "Requirement already satisfied: pyparsing!=3.0.5,>=2.0.2 in /usr/local/lib/python3.7/dist-packages (from packaging->tables) (3.0.7)\n"
          ]
        }
      ]
    },
    {
      "cell_type": "code",
      "source": [
        "with pd.HDFStore('/content/drive/MyDrive/1000/part2_result',  mode='r') as newstore:\n",
        "    result = newstore.select('result')"
      ],
      "metadata": {
        "id": "-1JPJJAm9TQ_"
      },
      "execution_count": 5,
      "outputs": []
    },
    {
      "cell_type": "code",
      "source": [
        "#final data\n",
        "print(result)"
      ],
      "metadata": {
        "colab": {
          "base_uri": "https://localhost:8080/"
        },
        "id": "nSg9yRXO9cG_",
        "outputId": "f75501a6-0eca-49d1-db91-9586491a6a84"
      },
      "execution_count": 6,
      "outputs": [
        {
          "output_type": "stream",
          "name": "stdout",
          "text": [
            "             0         1         2             3             4         5  \\\n",
            "0    -1.468407 -3.098769 -0.040978  6.204485e-14  2.991009e-14  0.078341   \n",
            "1    -1.468407 -3.098769 -0.040978 -1.233238e-14  2.951113e-14  0.078341   \n",
            "2    -1.468407 -3.098769 -0.040978 -7.431131e-14  3.860443e-14  0.078341   \n",
            "3    -1.468407 -3.098769 -0.040978  1.650248e-14 -1.360452e-14  0.078341   \n",
            "4    -1.468407 -3.098769 -0.040978  8.579407e-15  2.671601e-14  0.078341   \n",
            "...        ...       ...       ...           ...           ...       ...   \n",
            "1315 -1.468407 -3.098769 -0.040978  1.269764e-14  2.287279e-14  0.078341   \n",
            "1316 -1.468407 -3.098769 -0.040978  1.269764e-14  2.287279e-14  0.078341   \n",
            "1317 -1.468407 -3.098769 -0.040978  1.269764e-14  2.287279e-14  0.078341   \n",
            "1318 -1.468407 -3.098769 -0.040978  1.269764e-14  2.287279e-14  0.078341   \n",
            "1319 -1.468407 -3.098769 -0.040978  1.269764e-14  2.287279e-14  0.078341   \n",
            "\n",
            "            6         7         8         9  ...         1         2  \\\n",
            "0     2.36865 -1.386898 -0.000551 -0.000425  ... -0.039493  0.002581   \n",
            "1     2.36865 -1.386898 -0.000551 -0.000425  ... -0.039493  0.002581   \n",
            "2     2.36865 -1.386898 -0.000551 -0.000425  ... -0.039493  0.002581   \n",
            "3     2.36865 -1.386898 -0.000551 -0.000425  ... -0.039493  0.002581   \n",
            "4     2.36865 -1.386898 -0.000551 -0.000425  ... -0.032130 -0.012159   \n",
            "...       ...       ...       ...       ...  ...       ...       ...   \n",
            "1315  2.36865 -1.386898 -0.000551 -0.000425  ...  0.032918  0.046306   \n",
            "1316  2.36865 -1.386898 -0.000551 -0.000425  ...  0.035148  0.062576   \n",
            "1317  2.36865 -1.386898 -0.000551 -0.000425  ...  0.099628 -0.083265   \n",
            "1318  2.36865 -1.386898 -0.000551 -0.000425  ...  0.023592 -0.050616   \n",
            "1319  2.36865 -1.386898 -0.000551 -0.000425  ...  0.101839 -0.125609   \n",
            "\n",
            "             3         4         5         6         7         8         9  \\\n",
            "0    -0.005026 -0.000115 -0.004540 -0.010420 -0.005894 -0.005817 -0.003177   \n",
            "1    -0.005026 -0.000115 -0.004540 -0.010420 -0.005894 -0.005817 -0.003177   \n",
            "2    -0.005026 -0.000115 -0.004540 -0.010420 -0.005894 -0.005817 -0.003176   \n",
            "3    -0.005026 -0.000115 -0.004540 -0.010420 -0.005894 -0.005817 -0.003177   \n",
            "4    -0.011785 -0.015593 -0.014991 -0.028055  0.006076  0.003190  0.002314   \n",
            "...        ...       ...       ...       ...       ...       ...       ...   \n",
            "1315  0.094631  0.124774  0.008972  0.001981 -0.052331  0.309602  0.009135   \n",
            "1316  0.099325  0.134425  0.015498  0.002026  0.311786  0.021678  0.006007   \n",
            "1317 -0.069888 -0.002082 -0.194672  0.297580  0.001217 -0.005709 -0.028393   \n",
            "1318 -0.007453 -0.021238  0.308253  0.150730 -0.027760 -0.031040  0.127378   \n",
            "1319 -0.142618  0.085227 -0.013546 -0.049724 -0.024447  0.240382  0.004047   \n",
            "\n",
            "      label  \n",
            "0         1  \n",
            "1         1  \n",
            "2         1  \n",
            "3         1  \n",
            "4         1  \n",
            "...     ...  \n",
            "1315      0  \n",
            "1316      0  \n",
            "1317      0  \n",
            "1318      0  \n",
            "1319      0  \n",
            "\n",
            "[1320 rows x 71 columns]\n"
          ]
        }
      ]
    },
    {
      "cell_type": "code",
      "source": [
        "#divide data in to data_label and non_data label\n",
        "\n",
        "y=result.label\n",
        "pd.options.mode.chained_assignment = None  # default='warn'\n",
        "for i in range(len(y)):\n",
        "  if y[i]==1:\n",
        "    y[i]=0\n",
        "  else:\n",
        "    y[i]=1"
      ],
      "metadata": {
        "id": "frfKEoCs9gIQ"
      },
      "execution_count": 7,
      "outputs": []
    },
    {
      "cell_type": "code",
      "source": [
        "result_nonlabel=copy.deepcopy(result)\n",
        "del result_nonlabel['label']\n",
        "X=result_nonlabel"
      ],
      "metadata": {
        "id": "HWM1vbBoUduS"
      },
      "execution_count": 8,
      "outputs": []
    },
    {
      "cell_type": "code",
      "source": [
        "#splitting data in to test and train...\n",
        "\n",
        "from sklearn.model_selection import train_test_split\n",
        "X_train, X_test, y_train, y_test = train_test_split(X, y ,shuffle=True,test_size=0.3)#random_state=42"
      ],
      "metadata": {
        "id": "2QXtZVM39hmh"
      },
      "execution_count": 9,
      "outputs": []
    },
    {
      "cell_type": "code",
      "source": [
        "print('shape of x_train is:',X_train.shape)\n",
        "print('shape of x_test is:',X_test.shape)"
      ],
      "metadata": {
        "colab": {
          "base_uri": "https://localhost:8080/"
        },
        "id": "-uTNI9nu927y",
        "outputId": "638f67f5-4098-467b-c351-303e3fb71385"
      },
      "execution_count": 10,
      "outputs": [
        {
          "output_type": "stream",
          "name": "stdout",
          "text": [
            "shape of x_train is: (924, 70)\n",
            "shape of x_test is: (396, 70)\n"
          ]
        }
      ]
    },
    {
      "cell_type": "code",
      "source": [
        "def make_latent_samples(n_samples, sample_size):\n",
        "    #return np.random.uniform(-1, 1, size=(n_samples, sample_size))\n",
        "    return np.random.normal(loc=0, scale=1, size=(n_samples, sample_size))"
      ],
      "metadata": {
        "id": "pqrUBIrH95mS"
      },
      "execution_count": 11,
      "outputs": []
    },
    {
      "cell_type": "code",
      "source": [
        "make_latent_samples(1, 100) # generates one sample"
      ],
      "metadata": {
        "colab": {
          "base_uri": "https://localhost:8080/"
        },
        "id": "ULk7h_Go97uH",
        "outputId": "4ec4db1c-25ba-4e6f-c194-d34e8663bb3b"
      },
      "execution_count": 12,
      "outputs": [
        {
          "output_type": "execute_result",
          "data": {
            "text/plain": [
              "array([[ 0.15071248,  0.93376838,  0.83068621, -0.3280671 ,  0.41748553,\n",
              "         1.31587438,  0.38600127,  1.79926786, -0.1947173 , -0.77917982,\n",
              "        -0.89942167,  0.23022165, -2.59918475, -2.20035272,  0.07250164,\n",
              "         0.86376944, -0.38286355,  1.78572951,  1.62031908, -0.8291979 ,\n",
              "         1.36704679, -1.43008622,  0.60377871, -1.37928456, -2.44700869,\n",
              "        -1.30939146, -0.27474951, -0.85655487,  0.26830709,  0.39176511,\n",
              "        -0.65954219,  0.08705352, -0.99470681,  0.24469187,  0.29648111,\n",
              "        -1.22446795,  0.47549779, -1.34178795,  0.45250622,  1.35311777,\n",
              "         0.98408403,  0.13359382, -0.54916623, -0.50860053,  0.8751533 ,\n",
              "        -0.15245431,  2.57527886,  0.112833  , -1.25819725, -1.31911114,\n",
              "         1.25524725, -0.70764866, -0.18693444,  0.55124769, -0.16203149,\n",
              "         0.07960943, -0.89258924, -0.59307592, -0.37258816, -0.72404673,\n",
              "         0.67908554,  1.0392693 , -0.69720941,  0.45742504,  1.37834136,\n",
              "         0.60703756, -0.1358025 , -1.06415213,  1.68845403,  0.74982525,\n",
              "        -0.64337254,  2.20292296, -1.18754142, -1.86331443,  0.11307917,\n",
              "        -0.24334372, -0.22909714,  1.60090016, -0.1000777 , -0.46374615,\n",
              "        -0.14871545,  1.09746964, -0.21340795,  0.19933173,  1.38456333,\n",
              "         0.23046618, -0.46481039, -0.17093941, -1.36523685,  1.01643385,\n",
              "         1.59403849,  1.80725989,  0.83962348,  0.88356731, -0.98560224,\n",
              "         1.17226372,  0.47656759, -0.09013287,  0.56852969, -1.41347832]])"
            ]
          },
          "metadata": {},
          "execution_count": 12
        }
      ]
    },
    {
      "cell_type": "code",
      "source": [
        "generator = Sequential([\n",
        "    Dense(128, input_shape=(100,)),\n",
        "    LeakyReLU(alpha=0.2),\n",
        "    BatchNormalization(momentum=0.7),\n",
        "\n",
        "    #Dense(100),\n",
        "    #LeakyReLU(alpha=0.2),\n",
        "    #BatchNormalization(momentum=0.7),\n",
        "\n",
        "    #Dense(1024),\n",
        "    #LeakyReLU(alpha=0.2),\n",
        "    #BatchNormalization(momentum=0.7),\n",
        "\n",
        "    #Dense(2048),\n",
        "    #LeakyReLU(alpha=0.2),\n",
        "    #BatchNormalization(momentum=0.7),\n",
        "\n",
        "    Dense(70),\n",
        "    Activation('tanh')\n",
        "], name='generator')\n",
        "\n",
        "generator.summary()"
      ],
      "metadata": {
        "colab": {
          "base_uri": "https://localhost:8080/"
        },
        "id": "NRQCCamw-Ec5",
        "outputId": "8aa1f4c7-5d6d-419b-a49e-1c94186aa699"
      },
      "execution_count": 13,
      "outputs": [
        {
          "output_type": "stream",
          "name": "stdout",
          "text": [
            "Model: \"generator\"\n",
            "_________________________________________________________________\n",
            " Layer (type)                Output Shape              Param #   \n",
            "=================================================================\n",
            " dense (Dense)               (None, 128)               12928     \n",
            "                                                                 \n",
            " leaky_re_lu (LeakyReLU)     (None, 128)               0         \n",
            "                                                                 \n",
            " batch_normalization (BatchN  (None, 128)              512       \n",
            " ormalization)                                                   \n",
            "                                                                 \n",
            " dense_1 (Dense)             (None, 70)                9030      \n",
            "                                                                 \n",
            " activation (Activation)     (None, 70)                0         \n",
            "                                                                 \n",
            "=================================================================\n",
            "Total params: 22,470\n",
            "Trainable params: 22,214\n",
            "Non-trainable params: 256\n",
            "_________________________________________________________________\n"
          ]
        }
      ]
    },
    {
      "cell_type": "code",
      "source": [
        "discriminator = Sequential([\n",
        "    Dense(64, input_shape=(70,)),\n",
        "    LeakyReLU(alpha=0.2),\n",
        "    #BatchNormalization(momentum=0.7),\n",
        "\n",
        "    Dense(32),\n",
        "    LeakyReLU(alpha=0.2),\n",
        "    #BatchNormalization(momentum=0.7),\n",
        "\n",
        "    #Dense(128),\n",
        "    #LeakyReLU(alpha=0.2),\n",
        "    #BatchNormalization(momentum=0.7),\n",
        "    #Dense(64),\n",
        "    #LeakyReLU(alpha=0.2),\n",
        "    #BatchNormalization(momentum=0.7),\n",
        "\n",
        "    #Dense(32),\n",
        "    #LeakyReLU(alpha=0.2),\n",
        "    #BatchNormalization(momentum=0.7),\n",
        "\n",
        "    #Dense(16),\n",
        "    #LeakyReLU(alpha=0.2),\n",
        "    #BatchNormalization(momentum=0.7),\n",
        "\n",
        "    Dense(1),\n",
        "    Activation('sigmoid')\n",
        "], name='discriminator')\n",
        "\n",
        "discriminator.summary()"
      ],
      "metadata": {
        "colab": {
          "base_uri": "https://localhost:8080/"
        },
        "id": "JRnsIE5B-KKa",
        "outputId": "d0812a1d-be32-479d-a5f5-e1c93b4530c7"
      },
      "execution_count": 14,
      "outputs": [
        {
          "output_type": "stream",
          "name": "stdout",
          "text": [
            "Model: \"discriminator\"\n",
            "_________________________________________________________________\n",
            " Layer (type)                Output Shape              Param #   \n",
            "=================================================================\n",
            " dense_2 (Dense)             (None, 64)                4544      \n",
            "                                                                 \n",
            " leaky_re_lu_1 (LeakyReLU)   (None, 64)                0         \n",
            "                                                                 \n",
            " dense_3 (Dense)             (None, 32)                2080      \n",
            "                                                                 \n",
            " leaky_re_lu_2 (LeakyReLU)   (None, 32)                0         \n",
            "                                                                 \n",
            " dense_4 (Dense)             (None, 1)                 33        \n",
            "                                                                 \n",
            " activation_1 (Activation)   (None, 1)                 0         \n",
            "                                                                 \n",
            "=================================================================\n",
            "Total params: 6,657\n",
            "Trainable params: 6,657\n",
            "Non-trainable params: 0\n",
            "_________________________________________________________________\n"
          ]
        }
      ]
    },
    {
      "cell_type": "code",
      "source": [
        "# maintain the same shared weights with the generator and the discriminator.\n",
        "gan = Sequential([\n",
        "    generator,\n",
        "    discriminator\n",
        "])\n",
        "\n",
        "gan.summary()"
      ],
      "metadata": {
        "colab": {
          "base_uri": "https://localhost:8080/"
        },
        "id": "MBUGC7Bb-SWv",
        "outputId": "de05fb68-ef22-42db-d2e7-eb34ebd807d5"
      },
      "execution_count": 15,
      "outputs": [
        {
          "output_type": "stream",
          "name": "stdout",
          "text": [
            "Model: \"sequential\"\n",
            "_________________________________________________________________\n",
            " Layer (type)                Output Shape              Param #   \n",
            "=================================================================\n",
            " generator (Sequential)      (None, 70)                22470     \n",
            "                                                                 \n",
            " discriminator (Sequential)  (None, 1)                 6657      \n",
            "                                                                 \n",
            "=================================================================\n",
            "Total params: 29,127\n",
            "Trainable params: 28,871\n",
            "Non-trainable params: 256\n",
            "_________________________________________________________________\n"
          ]
        }
      ]
    },
    {
      "cell_type": "code",
      "source": [
        "def make_trainable(model, trainable):\n",
        "    for layer in model.layers:\n",
        "        layer.trainable = trainable"
      ],
      "metadata": {
        "id": "5icOTO6Z-V2f"
      },
      "execution_count": 16,
      "outputs": []
    },
    {
      "cell_type": "code",
      "source": [
        "make_trainable(discriminator, False)\n",
        "discriminator.summary()"
      ],
      "metadata": {
        "colab": {
          "base_uri": "https://localhost:8080/"
        },
        "id": "gZNa6ouG-XqZ",
        "outputId": "034adaf5-b7bc-4031-80b1-0f4d3dfae7d9"
      },
      "execution_count": 17,
      "outputs": [
        {
          "output_type": "stream",
          "name": "stdout",
          "text": [
            "Model: \"discriminator\"\n",
            "_________________________________________________________________\n",
            " Layer (type)                Output Shape              Param #   \n",
            "=================================================================\n",
            " dense_2 (Dense)             (None, 64)                4544      \n",
            "                                                                 \n",
            " leaky_re_lu_1 (LeakyReLU)   (None, 64)                0         \n",
            "                                                                 \n",
            " dense_3 (Dense)             (None, 32)                2080      \n",
            "                                                                 \n",
            " leaky_re_lu_2 (LeakyReLU)   (None, 32)                0         \n",
            "                                                                 \n",
            " dense_4 (Dense)             (None, 1)                 33        \n",
            "                                                                 \n",
            " activation_1 (Activation)   (None, 1)                 0         \n",
            "                                                                 \n",
            "=================================================================\n",
            "Total params: 6,657\n",
            "Trainable params: 0\n",
            "Non-trainable params: 6,657\n",
            "_________________________________________________________________\n"
          ]
        }
      ]
    },
    {
      "cell_type": "code",
      "source": [
        "make_trainable(discriminator, True)\n",
        "discriminator.summary()"
      ],
      "metadata": {
        "colab": {
          "base_uri": "https://localhost:8080/"
        },
        "id": "uL0eVORe-ahE",
        "outputId": "7d926dcd-2991-47e5-d6c9-59e6cb26dc43"
      },
      "execution_count": 18,
      "outputs": [
        {
          "output_type": "stream",
          "name": "stdout",
          "text": [
            "Model: \"discriminator\"\n",
            "_________________________________________________________________\n",
            " Layer (type)                Output Shape              Param #   \n",
            "=================================================================\n",
            " dense_2 (Dense)             (None, 64)                4544      \n",
            "                                                                 \n",
            " leaky_re_lu_1 (LeakyReLU)   (None, 64)                0         \n",
            "                                                                 \n",
            " dense_3 (Dense)             (None, 32)                2080      \n",
            "                                                                 \n",
            " leaky_re_lu_2 (LeakyReLU)   (None, 32)                0         \n",
            "                                                                 \n",
            " dense_4 (Dense)             (None, 1)                 33        \n",
            "                                                                 \n",
            " activation_1 (Activation)   (None, 1)                 0         \n",
            "                                                                 \n",
            "=================================================================\n",
            "Total params: 6,657\n",
            "Trainable params: 6,657\n",
            "Non-trainable params: 0\n",
            "_________________________________________________________________\n"
          ]
        }
      ]
    },
    {
      "cell_type": "code",
      "source": [
        "def make_simple_GAN(sample_size, \n",
        "                    g_hidden_size_1,\n",
        "                    g_hidden_size_2,\n",
        "                    g_hidden_size_3,\n",
        "                    g_hidden_size_4,\n",
        "                    d_hidden_size_1,\n",
        "                    d_hidden_size_2, \n",
        "                    d_hidden_size_3,\n",
        "                    d_hidden_size_4,\n",
        "                    d_hidden_size_5,\n",
        "                    d_hidden_size_6,\n",
        "                    leaky_alpha, \n",
        "                    g_learning_rate,\n",
        "                    d_learning_rate):\n",
        "    K.clear_session()\n",
        "    \n",
        "    generator = Sequential([\n",
        "        Dense(g_hidden_size_1, input_shape=(sample_size,)),\n",
        "        LeakyReLU(alpha=leaky_alpha),\n",
        "        BatchNormalization(momentum=0.7),\n",
        "\n",
        "        #Dense(g_hidden_size_2),\n",
        "        #LeakyReLU(alpha=leaky_alpha),\n",
        "        #BatchNormalization(momentum=0.7),\n",
        "\n",
        "        #Dense(g_hidden_size_3),\n",
        "        #LeakyReLU(alpha=leaky_alpha),\n",
        "        #BatchNormalization(momentum=0.7),\n",
        "\n",
        "        #Dense(g_hidden_size_4),\n",
        "        #LeakyReLU(alpha=leaky_alpha),\n",
        "        #BatchNormalization(momentum=0.7),\n",
        "\n",
        "        Dense(70),        \n",
        "        Activation('tanh')\n",
        "    ], name='generator')    \n",
        "\n",
        "    discriminator = Sequential([\n",
        "        Dense(d_hidden_size_1, input_shape=(70,)),\n",
        "        LeakyReLU(alpha=leaky_alpha),\n",
        "        #BatchNormalization(momentum=0.7),\n",
        "\n",
        "        Dense(d_hidden_size_2),\n",
        "        LeakyReLU(alpha=leaky_alpha),\n",
        "        #BatchNormalization(momentum=0.7),\n",
        "\n",
        "        #Dense(d_hidden_size_3),\n",
        "        #LeakyReLU(alpha=leaky_alpha),\n",
        "        #BatchNormalization(momentum=0.7),\n",
        "\n",
        "        #Dense(d_hidden_size_4),\n",
        "        #LeakyReLU(alpha=leaky_alpha),\n",
        "        #BatchNormalization(momentum=0.7),\n",
        "\n",
        "        #Dense(d_hidden_size_5),\n",
        "        #LeakyReLU(alpha=leaky_alpha),\n",
        "        #BatchNormalization(momentum=0.7),\n",
        "\n",
        "        #Dense(d_hidden_size_6),\n",
        "        #LeakyReLU(alpha=leaky_alpha),\n",
        "        #BatchNormalization(momentum=0.7),\n",
        "\n",
        "        Dense(1),\n",
        "        Activation('sigmoid')\n",
        "    ], name='discriminator')    \n",
        "    \n",
        "    gan = Sequential([\n",
        "        generator,\n",
        "        discriminator\n",
        "    ])\n",
        "    \n",
        "    discriminator.compile(optimizer=Adam(lr=d_learning_rate), loss='binary_crossentropy')\n",
        "    gan.compile(optimizer=Adam(lr=g_learning_rate), loss='binary_crossentropy')\n",
        "    \n",
        "    return gan, generator, discriminator "
      ],
      "metadata": {
        "id": "rEp_1i09-dPu"
      },
      "execution_count": 19,
      "outputs": []
    },
    {
      "cell_type": "code",
      "source": [
        "from sklearn import preprocessing\n",
        "def preprocess(x):\n",
        "   x = preprocessing.scale(x)\n",
        "   return x"
      ],
      "metadata": {
        "id": "mI3nU-3_-lK-"
      },
      "execution_count": 20,
      "outputs": []
    },
    {
      "cell_type": "code",
      "source": [
        "X_train_real = np.array(preprocess(X_train))\n",
        "X_test_real  = np.array(preprocess(X_test))"
      ],
      "metadata": {
        "id": "SLCAacR--m1_"
      },
      "execution_count": 21,
      "outputs": []
    },
    {
      "cell_type": "code",
      "source": [
        "def make_labels(size):\n",
        "    return np.ones([size, 1]), np.zeros([size, 1])"
      ],
      "metadata": {
        "id": "WmJ4T1rT-pxE"
      },
      "execution_count": 22,
      "outputs": []
    },
    {
      "cell_type": "code",
      "source": [
        "y_real_10, y_fake_10 = make_labels(10)\n",
        "\n",
        "y_real_10, y_fake_10"
      ],
      "metadata": {
        "colab": {
          "base_uri": "https://localhost:8080/"
        },
        "id": "lO2LcRot-r8O",
        "outputId": "9b9930a8-b72d-4b9c-ccb9-0b9e0cc9fd17"
      },
      "execution_count": 23,
      "outputs": [
        {
          "output_type": "execute_result",
          "data": {
            "text/plain": [
              "(array([[1.],\n",
              "        [1.],\n",
              "        [1.],\n",
              "        [1.],\n",
              "        [1.],\n",
              "        [1.],\n",
              "        [1.],\n",
              "        [1.],\n",
              "        [1.],\n",
              "        [1.]]), array([[0.],\n",
              "        [0.],\n",
              "        [0.],\n",
              "        [0.],\n",
              "        [0.],\n",
              "        [0.],\n",
              "        [0.],\n",
              "        [0.],\n",
              "        [0.],\n",
              "        [0.]]))"
            ]
          },
          "metadata": {},
          "execution_count": 23
        }
      ]
    },
    {
      "cell_type": "code",
      "source": [
        "# hyperparameters\n",
        "sample_size     = 100     # latent sample size (i.e., 100 random numbers)\n",
        "g_hidden_size_1 = 128\n",
        "g_hidden_size_2 = 0\n",
        "g_hidden_size_3 = 0\n",
        "g_hidden_size_4 = 0\n",
        "d_hidden_size_1 = 64\n",
        "d_hidden_size_2 = 32\n",
        "d_hidden_size_3 = 0\n",
        "d_hidden_size_4 = 0\n",
        "d_hidden_size_5 = 0\n",
        "d_hidden_size_6 = 0\n",
        "leaky_alpha     = 0.2\n",
        "g_learning_rate = 0.0001  # learning rate for the generator\n",
        "d_learning_rate = 0.0001   # learning rate for the discriminator\n",
        "epochs          = 100\n",
        "batch_size      = 64      # train batch size\n",
        "eval_size       = 16      # evaluate size\n",
        "smooth          = 0.1\n"
      ],
      "metadata": {
        "id": "7N6BKZv3-vZS"
      },
      "execution_count": 24,
      "outputs": []
    },
    {
      "cell_type": "code",
      "source": [
        "## labels for the batch size and the test size\n",
        "y_train_real, y_train_fake = make_labels(batch_size)\n",
        "y_eval_real,  y_eval_fake  = make_labels(eval_size)\n",
        "\n",
        "# create a GAN, a generator and a discriminator\n",
        "gan, generator, discriminator = make_simple_GAN(\n",
        "    sample_size, \n",
        "    g_hidden_size_1, \n",
        "    g_hidden_size_2,\n",
        "    g_hidden_size_3,\n",
        "    g_hidden_size_4, \n",
        "    d_hidden_size_1, \n",
        "    d_hidden_size_2,\n",
        "    d_hidden_size_3,\n",
        "    d_hidden_size_4,\n",
        "    d_hidden_size_5,\n",
        "    d_hidden_size_6,\n",
        "    leaky_alpha, \n",
        "    g_learning_rate,\n",
        "    d_learning_rate)\n",
        "\n",
        "\n",
        "losses = []\n",
        "losses1 = []\n",
        "for e in range(epochs):\n",
        "    for i in range(len(X_train_real)//batch_size):\n",
        "        # real MNIST digit images\n",
        "        X_batch_real = X_train_real[i*batch_size:(i+1)*batch_size]\n",
        "        \n",
        "        # latent samples and the generated digit images\n",
        "        latent_samples = make_latent_samples(batch_size, sample_size)\n",
        "        X_batch_fake = generator.predict_on_batch(latent_samples)\n",
        "        \n",
        "        # train the discriminator to detect real and fake images\n",
        "        make_trainable(discriminator, True)\n",
        "        discriminator.train_on_batch(X_batch_real, y_train_real * (1 - smooth))\n",
        "        discriminator.train_on_batch(X_batch_fake, y_train_fake)\n",
        "\n",
        "        # train the generator via GAN\n",
        "        make_trainable(discriminator, False)\n",
        "        gan.train_on_batch(latent_samples, y_train_real)\n",
        "   # evaluate\n",
        "    X_eval_real = X_test_real[np.random.choice(len(X_test_real), eval_size, replace=False)]\n",
        "    \n",
        "    latent_samples = make_latent_samples(eval_size, sample_size)\n",
        "    X_eval_fake = generator.predict_on_batch(latent_samples)\n",
        "\n",
        "    d_loss  = discriminator.test_on_batch(X_eval_real, y_eval_real)\n",
        "    d_loss += discriminator.test_on_batch(X_eval_fake, y_eval_fake)\n",
        "    g_loss  = gan.test_on_batch(latent_samples, y_eval_real) # we want the fake to be realistic!\n",
        "    \n",
        "    losses.append((d_loss, g_loss))\n",
        "\n",
        "    d_acc_real = discriminator.train_on_batch(X_batch_real, y_train_real * (1 - smooth))\n",
        "    d_acc_fake = discriminator.train_on_batch(X_batch_fake, y_train_fake)\n",
        "    d_acc  = 0.5 * (d_acc_real + d_acc_fake)\n",
        "\n",
        "    #losses1.append(( d_acc))\n",
        "    print(\"Epoch: {:>3}/{} Discriminator Loss: {:>6.4f} Generator Loss: {:>6.4f} Discriminator acc:{:>6.4f}:\".format(\n",
        "        e+1, epochs, d_loss, g_loss,d_acc)) #Discriminator acc: {:>6.4f}:,d_acc"
      ],
      "metadata": {
        "colab": {
          "base_uri": "https://localhost:8080/"
        },
        "id": "9SYobm6e-3f0",
        "outputId": "2ec36073-3a00-4b89-80cc-dc56de8cc312"
      },
      "execution_count": 25,
      "outputs": [
        {
          "output_type": "stream",
          "name": "stderr",
          "text": [
            "/usr/local/lib/python3.7/dist-packages/keras/optimizer_v2/adam.py:105: UserWarning: The `lr` argument is deprecated, use `learning_rate` instead.\n",
            "  super(Adam, self).__init__(name, **kwargs)\n"
          ]
        },
        {
          "output_type": "stream",
          "name": "stdout",
          "text": [
            "Epoch:   1/100 Discriminator Loss: 1.5419 Generator Loss: 0.8326 Discriminator acc:0.7359:\n",
            "Epoch:   2/100 Discriminator Loss: 1.4581 Generator Loss: 0.6398 Discriminator acc:0.6947:\n",
            "Epoch:   3/100 Discriminator Loss: 1.4348 Generator Loss: 0.7454 Discriminator acc:0.7072:\n",
            "Epoch:   4/100 Discriminator Loss: 1.4560 Generator Loss: 0.6430 Discriminator acc:0.7315:\n",
            "Epoch:   5/100 Discriminator Loss: 1.3093 Generator Loss: 0.6163 Discriminator acc:0.6730:\n",
            "Epoch:   6/100 Discriminator Loss: 1.4049 Generator Loss: 0.5880 Discriminator acc:0.6883:\n",
            "Epoch:   7/100 Discriminator Loss: 1.3709 Generator Loss: 0.5451 Discriminator acc:0.7364:\n",
            "Epoch:   8/100 Discriminator Loss: 1.3986 Generator Loss: 0.5246 Discriminator acc:0.7089:\n",
            "Epoch:   9/100 Discriminator Loss: 1.4037 Generator Loss: 0.5206 Discriminator acc:0.7080:\n",
            "Epoch:  10/100 Discriminator Loss: 1.4189 Generator Loss: 0.5045 Discriminator acc:0.7229:\n",
            "Epoch:  11/100 Discriminator Loss: 1.3404 Generator Loss: 0.5036 Discriminator acc:0.7321:\n",
            "Epoch:  12/100 Discriminator Loss: 1.4550 Generator Loss: 0.4889 Discriminator acc:0.7335:\n",
            "Epoch:  13/100 Discriminator Loss: 1.3876 Generator Loss: 0.5149 Discriminator acc:0.7165:\n",
            "Epoch:  14/100 Discriminator Loss: 1.3239 Generator Loss: 0.4984 Discriminator acc:0.7307:\n",
            "Epoch:  15/100 Discriminator Loss: 1.4897 Generator Loss: 0.4502 Discriminator acc:0.7516:\n",
            "Epoch:  16/100 Discriminator Loss: 1.3985 Generator Loss: 0.4434 Discriminator acc:0.7331:\n",
            "Epoch:  17/100 Discriminator Loss: 1.4903 Generator Loss: 0.4020 Discriminator acc:0.7256:\n",
            "Epoch:  18/100 Discriminator Loss: 1.3995 Generator Loss: 0.4748 Discriminator acc:0.7440:\n",
            "Epoch:  19/100 Discriminator Loss: 1.3885 Generator Loss: 0.4646 Discriminator acc:0.7386:\n",
            "Epoch:  20/100 Discriminator Loss: 1.4390 Generator Loss: 0.4232 Discriminator acc:0.7363:\n",
            "Epoch:  21/100 Discriminator Loss: 1.4165 Generator Loss: 0.4231 Discriminator acc:0.7595:\n",
            "Epoch:  22/100 Discriminator Loss: 1.3924 Generator Loss: 0.4589 Discriminator acc:0.7612:\n",
            "Epoch:  23/100 Discriminator Loss: 1.4389 Generator Loss: 0.4189 Discriminator acc:0.7407:\n",
            "Epoch:  24/100 Discriminator Loss: 1.3945 Generator Loss: 0.4267 Discriminator acc:0.7300:\n",
            "Epoch:  25/100 Discriminator Loss: 1.3915 Generator Loss: 0.4387 Discriminator acc:0.7553:\n",
            "Epoch:  26/100 Discriminator Loss: 1.4670 Generator Loss: 0.4159 Discriminator acc:0.7522:\n",
            "Epoch:  27/100 Discriminator Loss: 1.3660 Generator Loss: 0.4509 Discriminator acc:0.7719:\n",
            "Epoch:  28/100 Discriminator Loss: 1.3825 Generator Loss: 0.4384 Discriminator acc:0.7531:\n",
            "Epoch:  29/100 Discriminator Loss: 1.5154 Generator Loss: 0.3943 Discriminator acc:0.7552:\n",
            "Epoch:  30/100 Discriminator Loss: 1.4198 Generator Loss: 0.4251 Discriminator acc:0.7494:\n",
            "Epoch:  31/100 Discriminator Loss: 1.4124 Generator Loss: 0.4186 Discriminator acc:0.7637:\n",
            "Epoch:  32/100 Discriminator Loss: 1.4281 Generator Loss: 0.4076 Discriminator acc:0.7796:\n",
            "Epoch:  33/100 Discriminator Loss: 1.4766 Generator Loss: 0.4028 Discriminator acc:0.7715:\n",
            "Epoch:  34/100 Discriminator Loss: 1.4813 Generator Loss: 0.4073 Discriminator acc:0.7682:\n",
            "Epoch:  35/100 Discriminator Loss: 1.3369 Generator Loss: 0.4641 Discriminator acc:0.7771:\n",
            "Epoch:  36/100 Discriminator Loss: 1.4522 Generator Loss: 0.4030 Discriminator acc:0.7598:\n",
            "Epoch:  37/100 Discriminator Loss: 1.4243 Generator Loss: 0.4093 Discriminator acc:0.7585:\n",
            "Epoch:  38/100 Discriminator Loss: 1.4154 Generator Loss: 0.4239 Discriminator acc:0.7671:\n",
            "Epoch:  39/100 Discriminator Loss: 1.4471 Generator Loss: 0.4186 Discriminator acc:0.7795:\n",
            "Epoch:  40/100 Discriminator Loss: 1.3928 Generator Loss: 0.4381 Discriminator acc:0.7533:\n",
            "Epoch:  41/100 Discriminator Loss: 1.4536 Generator Loss: 0.4132 Discriminator acc:0.7524:\n",
            "Epoch:  42/100 Discriminator Loss: 1.4797 Generator Loss: 0.3892 Discriminator acc:0.7682:\n",
            "Epoch:  43/100 Discriminator Loss: 1.4656 Generator Loss: 0.3898 Discriminator acc:0.7793:\n",
            "Epoch:  44/100 Discriminator Loss: 1.4044 Generator Loss: 0.4255 Discriminator acc:0.7668:\n",
            "Epoch:  45/100 Discriminator Loss: 1.3427 Generator Loss: 0.4462 Discriminator acc:0.7893:\n",
            "Epoch:  46/100 Discriminator Loss: 1.3989 Generator Loss: 0.4224 Discriminator acc:0.7591:\n",
            "Epoch:  47/100 Discriminator Loss: 1.4540 Generator Loss: 0.3915 Discriminator acc:0.7772:\n",
            "Epoch:  48/100 Discriminator Loss: 1.4359 Generator Loss: 0.3973 Discriminator acc:0.7824:\n",
            "Epoch:  49/100 Discriminator Loss: 1.4364 Generator Loss: 0.4146 Discriminator acc:0.7539:\n",
            "Epoch:  50/100 Discriminator Loss: 1.4717 Generator Loss: 0.3928 Discriminator acc:0.7463:\n",
            "Epoch:  51/100 Discriminator Loss: 1.4292 Generator Loss: 0.3994 Discriminator acc:0.7609:\n",
            "Epoch:  52/100 Discriminator Loss: 1.4574 Generator Loss: 0.3922 Discriminator acc:0.7660:\n",
            "Epoch:  53/100 Discriminator Loss: 1.4462 Generator Loss: 0.4054 Discriminator acc:0.7504:\n",
            "Epoch:  54/100 Discriminator Loss: 1.4222 Generator Loss: 0.4088 Discriminator acc:0.7679:\n",
            "Epoch:  55/100 Discriminator Loss: 1.4744 Generator Loss: 0.3898 Discriminator acc:0.7390:\n",
            "Epoch:  56/100 Discriminator Loss: 1.4719 Generator Loss: 0.4046 Discriminator acc:0.7690:\n",
            "Epoch:  57/100 Discriminator Loss: 1.4187 Generator Loss: 0.4004 Discriminator acc:0.7642:\n",
            "Epoch:  58/100 Discriminator Loss: 1.4723 Generator Loss: 0.3786 Discriminator acc:0.7545:\n",
            "Epoch:  59/100 Discriminator Loss: 1.4302 Generator Loss: 0.4106 Discriminator acc:0.7460:\n",
            "Epoch:  60/100 Discriminator Loss: 1.4394 Generator Loss: 0.4057 Discriminator acc:0.7483:\n",
            "Epoch:  61/100 Discriminator Loss: 1.4925 Generator Loss: 0.3690 Discriminator acc:0.7409:\n",
            "Epoch:  62/100 Discriminator Loss: 1.4673 Generator Loss: 0.3861 Discriminator acc:0.7480:\n",
            "Epoch:  63/100 Discriminator Loss: 1.5153 Generator Loss: 0.3666 Discriminator acc:0.7416:\n",
            "Epoch:  64/100 Discriminator Loss: 1.4988 Generator Loss: 0.3731 Discriminator acc:0.7587:\n",
            "Epoch:  65/100 Discriminator Loss: 1.4076 Generator Loss: 0.4112 Discriminator acc:0.7504:\n",
            "Epoch:  66/100 Discriminator Loss: 1.4283 Generator Loss: 0.4230 Discriminator acc:0.7512:\n",
            "Epoch:  67/100 Discriminator Loss: 1.4789 Generator Loss: 0.3770 Discriminator acc:0.7100:\n",
            "Epoch:  68/100 Discriminator Loss: 1.5735 Generator Loss: 0.3644 Discriminator acc:0.7496:\n",
            "Epoch:  69/100 Discriminator Loss: 1.4695 Generator Loss: 0.3805 Discriminator acc:0.7494:\n",
            "Epoch:  70/100 Discriminator Loss: 1.4399 Generator Loss: 0.4088 Discriminator acc:0.7506:\n",
            "Epoch:  71/100 Discriminator Loss: 1.3763 Generator Loss: 0.4301 Discriminator acc:0.7376:\n",
            "Epoch:  72/100 Discriminator Loss: 1.3760 Generator Loss: 0.4300 Discriminator acc:0.7393:\n",
            "Epoch:  73/100 Discriminator Loss: 1.3634 Generator Loss: 0.4402 Discriminator acc:0.7313:\n",
            "Epoch:  74/100 Discriminator Loss: 1.4083 Generator Loss: 0.4126 Discriminator acc:0.7539:\n",
            "Epoch:  75/100 Discriminator Loss: 1.4279 Generator Loss: 0.4245 Discriminator acc:0.7379:\n",
            "Epoch:  76/100 Discriminator Loss: 1.4326 Generator Loss: 0.3961 Discriminator acc:0.7465:\n",
            "Epoch:  77/100 Discriminator Loss: 1.4237 Generator Loss: 0.4065 Discriminator acc:0.7488:\n",
            "Epoch:  78/100 Discriminator Loss: 1.3886 Generator Loss: 0.4145 Discriminator acc:0.7364:\n",
            "Epoch:  79/100 Discriminator Loss: 1.4230 Generator Loss: 0.4027 Discriminator acc:0.7489:\n",
            "Epoch:  80/100 Discriminator Loss: 1.4066 Generator Loss: 0.4389 Discriminator acc:0.7444:\n",
            "Epoch:  81/100 Discriminator Loss: 1.3856 Generator Loss: 0.4209 Discriminator acc:0.7395:\n",
            "Epoch:  82/100 Discriminator Loss: 1.4226 Generator Loss: 0.4116 Discriminator acc:0.7375:\n",
            "Epoch:  83/100 Discriminator Loss: 1.3124 Generator Loss: 0.4483 Discriminator acc:0.7339:\n",
            "Epoch:  84/100 Discriminator Loss: 1.3626 Generator Loss: 0.4373 Discriminator acc:0.7342:\n",
            "Epoch:  85/100 Discriminator Loss: 1.3593 Generator Loss: 0.4266 Discriminator acc:0.7363:\n",
            "Epoch:  86/100 Discriminator Loss: 1.3834 Generator Loss: 0.4293 Discriminator acc:0.7422:\n",
            "Epoch:  87/100 Discriminator Loss: 1.3928 Generator Loss: 0.4211 Discriminator acc:0.7399:\n",
            "Epoch:  88/100 Discriminator Loss: 1.4196 Generator Loss: 0.4186 Discriminator acc:0.7378:\n",
            "Epoch:  89/100 Discriminator Loss: 1.4155 Generator Loss: 0.4164 Discriminator acc:0.7333:\n",
            "Epoch:  90/100 Discriminator Loss: 1.4056 Generator Loss: 0.4059 Discriminator acc:0.7340:\n",
            "Epoch:  91/100 Discriminator Loss: 1.3971 Generator Loss: 0.4226 Discriminator acc:0.7212:\n",
            "Epoch:  92/100 Discriminator Loss: 1.3777 Generator Loss: 0.4209 Discriminator acc:0.7388:\n",
            "Epoch:  93/100 Discriminator Loss: 1.3619 Generator Loss: 0.4412 Discriminator acc:0.7359:\n",
            "Epoch:  94/100 Discriminator Loss: 1.3813 Generator Loss: 0.4234 Discriminator acc:0.7350:\n",
            "Epoch:  95/100 Discriminator Loss: 1.3108 Generator Loss: 0.4531 Discriminator acc:0.7452:\n",
            "Epoch:  96/100 Discriminator Loss: 1.4167 Generator Loss: 0.3915 Discriminator acc:0.7371:\n",
            "Epoch:  97/100 Discriminator Loss: 1.4088 Generator Loss: 0.4249 Discriminator acc:0.7281:\n",
            "Epoch:  98/100 Discriminator Loss: 1.3704 Generator Loss: 0.4428 Discriminator acc:0.7275:\n",
            "Epoch:  99/100 Discriminator Loss: 1.4217 Generator Loss: 0.4127 Discriminator acc:0.7299:\n",
            "Epoch: 100/100 Discriminator Loss: 1.3958 Generator Loss: 0.4176 Discriminator acc:0.7317:\n"
          ]
        }
      ]
    },
    {
      "cell_type": "code",
      "source": [
        "losses = np.array(losses)\n",
        "\n",
        "fig, ax = plt.subplots()\n",
        "plt.plot(losses.T[0], label='Discriminator')\n",
        "plt.plot(losses.T[1], label='Generator')\n",
        "plt.title(\"Training Losses\")\n",
        "plt.legend()\n",
        "plt.show()"
      ],
      "metadata": {
        "colab": {
          "base_uri": "https://localhost:8080/",
          "height": 281
        },
        "id": "-Pczfh-C_rC-",
        "outputId": "6c5e1cbf-fa67-4562-ffde-59ded03f25d2"
      },
      "execution_count": 26,
      "outputs": [
        {
          "output_type": "display_data",
          "data": {
            "text/plain": [
              "<Figure size 432x288 with 1 Axes>"
            ],
            "image/png": "[encoded data removed]"
          },
          "metadata": {
            "needs_background": "light"
          }
        }
      ]
    },
    {
      "cell_type": "code",
      "source": [
        "rr = discriminator.predict_on_batch(X_test_real)"
      ],
      "metadata": {
        "id": "THaYGfNm_t7H"
      },
      "execution_count": 27,
      "outputs": []
    },
    {
      "cell_type": "code",
      "source": [
        "import keras\n",
        "#import keras_metrics\n",
        "\n",
        "r = tf.keras.metrics.Recall()#thresholds=rr.min())\n",
        "r.update_state(y_test,rr )\n",
        "r.result().numpy()\n"
      ],
      "metadata": {
        "colab": {
          "base_uri": "https://localhost:8080/"
        },
        "id": "y4YHTlv6_wKG",
        "outputId": "1072b7a3-7c21-4ad7-faf0-5f7399380862"
      },
      "execution_count": 28,
      "outputs": [
        {
          "output_type": "execute_result",
          "data": {
            "text/plain": [
              "0.96"
            ]
          },
          "metadata": {},
          "execution_count": 28
        }
      ]
    },
    {
      "cell_type": "code",
      "source": [
        "p=tf.keras.metrics.Precision()#thresholds=rr.min())\n",
        "p.update_state(y_test,rr )\n",
        "p.result().numpy()"
      ],
      "metadata": {
        "colab": {
          "base_uri": "https://localhost:8080/"
        },
        "id": "4Wgx-224_yPg",
        "outputId": "66df9338-7dc7-4788-d793-9285360303f0"
      },
      "execution_count": 29,
      "outputs": [
        {
          "output_type": "execute_result",
          "data": {
            "text/plain": [
              "0.24489796"
            ]
          },
          "metadata": {},
          "execution_count": 29
        }
      ]
    },
    {
      "cell_type": "code",
      "source": [
        "import keras\n",
        "#import keras_metrics\n",
        "\n",
        "r = tf.keras.metrics.BinaryAccuracy()#thresholds=rr.min())\n",
        "r.update_state(y_test,rr )\n",
        "r.result().numpy()"
      ],
      "metadata": {
        "colab": {
          "base_uri": "https://localhost:8080/"
        },
        "id": "9BCXW599WEW5",
        "outputId": "df34bda7-3741-4e53-b79c-322bd2977af8"
      },
      "execution_count": 30,
      "outputs": [
        {
          "output_type": "execute_result",
          "data": {
            "text/plain": [
              "0.24242425"
            ]
          },
          "metadata": {},
          "execution_count": 30
        }
      ]
    }
  ]
}