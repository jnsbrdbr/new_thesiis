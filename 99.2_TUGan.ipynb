{
  "nbformat": 4,
  "nbformat_minor": 0,
  "metadata": {
    "colab": {
      "name": "99.2_TUGan.ipynb",
      "provenance": [],
      "authorship_tag": "ABX9TyN92ybr3ceYbiN8C8zZWh1z",
      "include_colab_link": true
    },
    "kernelspec": {
      "name": "python3",
      "display_name": "Python 3"
    },
    "language_info": {
      "name": "python"
    }
  },
  "cells": [
    {
      "cell_type": "markdown",
      "metadata": {
        "id": "view-in-github",
        "colab_type": "text"
      },
      "source": [
        "<a href=\"https://colab.research.google.com/github/jnsbrdbr/new_thesiis/blob/main/99.2_TUGan.ipynb\" target=\"_parent\"><img src=\"https://colab.research.google.com/assets/colab-badge.svg\" alt=\"Open In Colab\"/></a>"
      ]
    },
    {
      "cell_type": "code",
      "execution_count": 1,
      "metadata": {
        "colab": {
          "base_uri": "https://localhost:8080/"
        },
        "id": "yxDlz0f99AA3",
        "outputId": "da5d59e5-497a-4796-f5b2-9514ae2c7cfb"
      },
      "outputs": [
        {
          "output_type": "stream",
          "name": "stdout",
          "text": [
            "`%tensorflow_version` only switches the major version: 1.x or 2.x.\n",
            "You set: `2.x  # Colab only.`. This will be interpreted as: `2.x`.\n",
            "\n",
            "\n",
            "TensorFlow 2.x selected.\n",
            "2.8.0\n"
          ]
        }
      ],
      "source": [
        "# Install TensorFlow\n",
        "# !pip install -q tensorflow-gpu==2.0.0-rc0\n",
        "\n",
        "try:\n",
        "  %tensorflow_version 2.x  # Colab only.\n",
        "except Exception:\n",
        "  pass\n",
        "\n",
        "import tensorflow as tf\n",
        "print(tf.__version__)"
      ]
    },
    {
      "cell_type": "code",
      "source": [
        "import keras\n",
        "import numpy as np\n",
        "import pandas as pd\n",
        "import seaborn as sns\n",
        "import matplotlib.pyplot as plt\n",
        "import copy\n",
        "from keras.layers import Input, Dense, Activation, LeakyReLU, BatchNormalization\n",
        "from keras.models import Sequential\n",
        "from tensorflow.keras.optimizers import Adam\n",
        "from sklearn.model_selection import train_test_split\n",
        "from tensorflow.keras.models import Model\n",
        "import keras.backend as K\n",
        "import numpy as np\n",
        "import pandas as pd\n",
        "import matplotlib.pyplot as plt\n",
        "import sys, os\n",
        "\n",
        "%matplotlib inline"
      ],
      "metadata": {
        "id": "A_hoVr_P9HG7"
      },
      "execution_count": 2,
      "outputs": []
    },
    {
      "cell_type": "code",
      "source": [
        "from google.colab import drive\n",
        "drive.mount('/content/drive') "
      ],
      "metadata": {
        "colab": {
          "base_uri": "https://localhost:8080/"
        },
        "id": "BGEQJ7nc9KOO",
        "outputId": "e0f1079d-6fb1-4dae-e0eb-116eeb0e2002"
      },
      "execution_count": 3,
      "outputs": [
        {
          "output_type": "stream",
          "name": "stdout",
          "text": [
            "Drive already mounted at /content/drive; to attempt to forcibly remount, call drive.mount(\"/content/drive\", force_remount=True).\n"
          ]
        }
      ]
    },
    {
      "cell_type": "code",
      "source": [
        "!pip install --upgrade tables"
      ],
      "metadata": {
        "colab": {
          "base_uri": "https://localhost:8080/"
        },
        "id": "C9_JtGAQ9QfZ",
        "outputId": "5761633d-f3c2-405b-b576-740ee3eeffaa"
      },
      "execution_count": 4,
      "outputs": [
        {
          "output_type": "stream",
          "name": "stdout",
          "text": [
            "Requirement already satisfied: tables in /usr/local/lib/python3.7/dist-packages (3.7.0)\n",
            "Requirement already satisfied: numpy>=1.19.0 in /usr/local/lib/python3.7/dist-packages (from tables) (1.21.5)\n",
            "Requirement already satisfied: numexpr>=2.6.2 in /usr/local/lib/python3.7/dist-packages (from tables) (2.8.1)\n",
            "Requirement already satisfied: packaging in /usr/local/lib/python3.7/dist-packages (from tables) (21.3)\n",
            "Requirement already satisfied: pyparsing!=3.0.5,>=2.0.2 in /usr/local/lib/python3.7/dist-packages (from packaging->tables) (3.0.7)\n"
          ]
        }
      ]
    },
    {
      "cell_type": "code",
      "source": [
        "!pip3 install pickle5\n",
        "import pickle5 as pickle"
      ],
      "metadata": {
        "colab": {
          "base_uri": "https://localhost:8080/"
        },
        "id": "J-W47-hvbEVD",
        "outputId": "480fd829-2c72-4103-969c-562953075796"
      },
      "execution_count": 5,
      "outputs": [
        {
          "output_type": "stream",
          "name": "stdout",
          "text": [
            "Requirement already satisfied: pickle5 in /usr/local/lib/python3.7/dist-packages (0.0.12)\n"
          ]
        }
      ]
    },
    {
      "cell_type": "code",
      "source": [
        "with open('/content/drive/MyDrive/10000/unsmote/TUnsmote_Tresult.pkl', \"rb\") as fh:\n",
        "  result = pickle.load(fh)"
      ],
      "metadata": {
        "id": "-1JPJJAm9TQ_"
      },
      "execution_count": 6,
      "outputs": []
    },
    {
      "cell_type": "code",
      "source": [
        "#final data\n",
        "print(result)"
      ],
      "metadata": {
        "colab": {
          "base_uri": "https://localhost:8080/"
        },
        "id": "nSg9yRXO9cG_",
        "outputId": "a3aaf2c6-2188-403f-e110-e17177eb4c1e"
      },
      "execution_count": 7,
      "outputs": [
        {
          "output_type": "stream",
          "name": "stdout",
          "text": [
            "             0         1         2         3         4          5         6  \\\n",
            "0    -0.018442 -4.220618 -0.916300 -0.715505 -0.868530  -1.348268 -0.474432   \n",
            "1    -0.018442 -4.220618 -0.916300 -0.715505 -0.868530  -1.348268 -0.474432   \n",
            "2    -0.018442 -4.220618 -0.916300 -0.715505 -0.868530  -1.348268 -0.474432   \n",
            "3    -0.018442 -4.220618 -0.916300 -0.715505 -0.868530  -1.348268 -0.474432   \n",
            "4    -0.018444 -4.221080 -0.916678 -0.715889 -0.869072  -1.349276 -0.475212   \n",
            "...        ...       ...       ...       ...       ...        ...       ...   \n",
            "9995 -0.264492 -4.771727 -2.334318 -2.416962 -8.513026  15.729413  0.366719   \n",
            "9996 -0.264492 -4.771727 -2.334318 -2.416962 -8.513026  15.729413  0.366719   \n",
            "9997 -0.264492 -4.771727 -2.334318 -2.416962 -8.513026  15.729413  0.366719   \n",
            "9998 -0.264492 -4.771727 -2.334318 -2.416962 -8.513026  15.729413  0.366719   \n",
            "9999 -0.264492 -4.771727 -2.334318 -2.416962 -8.513026  15.729413  0.366719   \n",
            "\n",
            "             7         8         9  ...          1          2          3  \\\n",
            "0    -0.004759 -0.581985 -0.079929  ...   2.287554   0.686930   0.100448   \n",
            "1    -0.004759 -0.581985 -0.079929  ...   2.287554   0.686930   0.100448   \n",
            "2    -0.004759 -0.581985 -0.079929  ...   2.287554   0.686930   0.100448   \n",
            "3    -0.004759 -0.581985 -0.079929  ...   2.287554   0.686930   0.100448   \n",
            "4    -0.004857 -0.583281 -0.080453  ...  16.547190  20.216481  11.292974   \n",
            "...        ...       ...       ...  ...        ...        ...        ...   \n",
            "9995 -0.128471  0.120291 -0.000607  ...   2.275919  -1.123127  -2.167888   \n",
            "9996 -0.128471  0.120291 -0.000607  ...   2.275919  -1.123127  -2.167888   \n",
            "9997 -0.128471  0.120291 -0.000607  ...   2.275919  -1.123127  -2.167888   \n",
            "9998 -0.128471  0.120291 -0.000607  ...   2.275919  -1.123127  -2.167888   \n",
            "9999 -0.128471  0.120291 -0.000607  ...   2.275919  -1.123127  -2.167888   \n",
            "\n",
            "             4         5         6         7         8         9  label  \n",
            "0    -0.062517  0.119028 -0.441208 -0.219285 -0.010241 -0.181514      1  \n",
            "1    -0.062517  0.119028 -0.441208 -0.219285 -0.010241 -0.181514      1  \n",
            "2    -0.062517  0.119028 -0.441208 -0.219285 -0.010241 -0.181514      1  \n",
            "3    -0.062517  0.119028 -0.441208 -0.219285 -0.010241 -0.181514      1  \n",
            "4     4.613619 -3.774325  6.601583  1.746854  0.057121  0.838856      1  \n",
            "...        ...       ...       ...       ...       ...       ...    ...  \n",
            "9995 -2.422360  8.098259  5.690624  0.623426  0.017370  0.231334      1  \n",
            "9996 -2.422360  8.098259  5.690624  0.623426  0.017370  0.231334      1  \n",
            "9997 -2.422360  8.098259  5.690624  0.623426  0.017370  0.231334      1  \n",
            "9998 -2.422360  8.098259  5.690624  0.623426  0.017370  0.231334      1  \n",
            "9999 -2.422360  8.098259  5.690624  0.623426  0.017370  0.231334      1  \n",
            "\n",
            "[10000 rows x 101 columns]\n"
          ]
        }
      ]
    },
    {
      "cell_type": "code",
      "source": [
        "#divide data in to data_label and non_data label\n",
        "\n",
        "y=result.label\n",
        "pd.options.mode.chained_assignment = None  # default='warn'\n",
        "for i in range(len(y)):\n",
        "  if y[i]==1:\n",
        "    y[i]=0\n",
        "  else:\n",
        "    y[i]=1"
      ],
      "metadata": {
        "id": "frfKEoCs9gIQ"
      },
      "execution_count": 8,
      "outputs": []
    },
    {
      "cell_type": "code",
      "source": [
        "result_nonlabel=copy.deepcopy(result)\n",
        "del result_nonlabel['label']\n",
        "X=result_nonlabel"
      ],
      "metadata": {
        "id": "HWM1vbBoUduS"
      },
      "execution_count": 9,
      "outputs": []
    },
    {
      "cell_type": "code",
      "source": [
        "#splitting data in to test and train...\n",
        "\n",
        "from sklearn.model_selection import train_test_split\n",
        "X_train, X_test, y_train, y_test = train_test_split(X, y ,shuffle=True,test_size=0.3)#random_state=42"
      ],
      "metadata": {
        "id": "2QXtZVM39hmh"
      },
      "execution_count": 10,
      "outputs": []
    },
    {
      "cell_type": "code",
      "source": [
        "print('shape of x_train is:',X_train.shape)\n",
        "print('shape of x_test is:',X_test.shape)"
      ],
      "metadata": {
        "colab": {
          "base_uri": "https://localhost:8080/"
        },
        "id": "-uTNI9nu927y",
        "outputId": "19ee7af0-ae7c-4efa-91bf-798f76fc9d4a"
      },
      "execution_count": 11,
      "outputs": [
        {
          "output_type": "stream",
          "name": "stdout",
          "text": [
            "shape of x_train is: (7000, 100)\n",
            "shape of x_test is: (3000, 100)\n"
          ]
        }
      ]
    },
    {
      "cell_type": "code",
      "source": [
        "def make_latent_samples(n_samples, sample_size):\n",
        "    #return np.random.uniform(-1, 1, size=(n_samples, sample_size))\n",
        "    return np.random.normal(loc=0, scale=1, size=(n_samples, sample_size))"
      ],
      "metadata": {
        "id": "pqrUBIrH95mS"
      },
      "execution_count": 12,
      "outputs": []
    },
    {
      "cell_type": "code",
      "source": [
        "make_latent_samples(1, 100) # generates one sample"
      ],
      "metadata": {
        "colab": {
          "base_uri": "https://localhost:8080/"
        },
        "id": "ULk7h_Go97uH",
        "outputId": "d410ba55-8c72-41fb-c896-064dae740e8b"
      },
      "execution_count": 13,
      "outputs": [
        {
          "output_type": "execute_result",
          "data": {
            "text/plain": [
              "array([[ 0.54941673,  0.61985558, -0.61522432,  0.21127365, -0.49019157,\n",
              "         1.14840213, -2.48771287, -0.03473548,  1.29878046,  0.54364904,\n",
              "        -0.40122814, -1.0718323 ,  1.13955557, -1.63466226, -1.24264953,\n",
              "         0.57793276,  0.30720438, -0.50841342,  0.45768175,  0.39510586,\n",
              "        -0.58796931,  0.27018256,  1.20609411,  0.29999205,  0.05219108,\n",
              "        -0.02098407,  0.49463413,  0.22889357,  0.85403844, -0.25640698,\n",
              "         0.60235615, -0.20328523, -1.47536398,  0.03726278, -0.97069646,\n",
              "         0.16788248,  0.93232104, -0.09113781, -1.51668642,  1.04039875,\n",
              "         0.1268633 , -0.49648075, -0.24202903, -0.53751533, -0.71332604,\n",
              "         0.85913274, -0.27824892,  2.04393341, -0.88856684,  0.85211692,\n",
              "        -2.08957915, -0.36205227, -0.30946312,  0.25100072, -0.67802693,\n",
              "        -0.45483238, -0.17756055,  0.45389727, -2.77545281, -1.52532341,\n",
              "         0.0699047 , -0.67451484,  0.14454053, -0.46855248,  1.61528049,\n",
              "        -1.10021102,  0.50083567, -0.99352947, -1.66919639, -0.27331487,\n",
              "         0.22770836,  0.29382245, -0.40992259,  0.38093251,  0.68243079,\n",
              "         0.55111692, -0.07870158,  0.3592824 , -0.22970048, -0.93485468,\n",
              "         0.92792204,  1.43731835, -0.78441674, -1.21443202,  0.41022377,\n",
              "        -0.73683942,  1.52277158, -0.90633113,  0.84324647, -1.2294871 ,\n",
              "         1.33265472, -0.64818591,  0.37554898, -1.47179036,  0.1434374 ,\n",
              "        -0.02863742, -0.88485734,  0.28603191,  0.07684276,  0.27254231]])"
            ]
          },
          "metadata": {},
          "execution_count": 13
        }
      ]
    },
    {
      "cell_type": "code",
      "source": [
        "generator = Sequential([\n",
        "    Dense(128, input_shape=(100,)),\n",
        "    LeakyReLU(alpha=0.2),\n",
        "    BatchNormalization(momentum=0.7),\n",
        "\n",
        "    #Dense(100),\n",
        "    #LeakyReLU(alpha=0.2),\n",
        "    #BatchNormalization(momentum=0.7),\n",
        "\n",
        "    #Dense(1024),\n",
        "    #LeakyReLU(alpha=0.2),\n",
        "    #BatchNormalization(momentum=0.7),\n",
        "\n",
        "    #Dense(2048),\n",
        "    #LeakyReLU(alpha=0.2),\n",
        "    #BatchNormalization(momentum=0.7),\n",
        "\n",
        "    Dense(100),\n",
        "    Activation('tanh')\n",
        "], name='generator')\n",
        "\n",
        "generator.summary()"
      ],
      "metadata": {
        "colab": {
          "base_uri": "https://localhost:8080/"
        },
        "id": "NRQCCamw-Ec5",
        "outputId": "99dc52e1-8ac3-403e-b20f-8608b1040db3"
      },
      "execution_count": 14,
      "outputs": [
        {
          "output_type": "stream",
          "name": "stdout",
          "text": [
            "Model: \"generator\"\n",
            "_________________________________________________________________\n",
            " Layer (type)                Output Shape              Param #   \n",
            "=================================================================\n",
            " dense (Dense)               (None, 128)               12928     \n",
            "                                                                 \n",
            " leaky_re_lu (LeakyReLU)     (None, 128)               0         \n",
            "                                                                 \n",
            " batch_normalization (BatchN  (None, 128)              512       \n",
            " ormalization)                                                   \n",
            "                                                                 \n",
            " dense_1 (Dense)             (None, 100)               12900     \n",
            "                                                                 \n",
            " activation (Activation)     (None, 100)               0         \n",
            "                                                                 \n",
            "=================================================================\n",
            "Total params: 26,340\n",
            "Trainable params: 26,084\n",
            "Non-trainable params: 256\n",
            "_________________________________________________________________\n"
          ]
        }
      ]
    },
    {
      "cell_type": "code",
      "source": [
        "discriminator = Sequential([\n",
        "    Dense(64, input_shape=(100,)),\n",
        "    LeakyReLU(alpha=0.2),\n",
        "    #BatchNormalization(momentum=0.7),\n",
        "\n",
        "    Dense(32),\n",
        "    LeakyReLU(alpha=0.2),\n",
        "    #BatchNormalization(momentum=0.7),\n",
        "\n",
        "    #Dense(128),\n",
        "    #LeakyReLU(alpha=0.2),\n",
        "    #BatchNormalization(momentum=0.7),\n",
        "    #Dense(64),\n",
        "    #LeakyReLU(alpha=0.2),\n",
        "    #BatchNormalization(momentum=0.7),\n",
        "\n",
        "    #Dense(32),\n",
        "    #LeakyReLU(alpha=0.2),\n",
        "    #BatchNormalization(momentum=0.7),\n",
        "\n",
        "    #Dense(16),\n",
        "    #LeakyReLU(alpha=0.2),\n",
        "    #BatchNormalization(momentum=0.7),\n",
        "\n",
        "    Dense(1),\n",
        "    Activation('sigmoid')\n",
        "], name='discriminator')\n",
        "\n",
        "discriminator.summary()"
      ],
      "metadata": {
        "colab": {
          "base_uri": "https://localhost:8080/"
        },
        "id": "JRnsIE5B-KKa",
        "outputId": "51a77708-1985-41bc-94df-a9adb88b7fe0"
      },
      "execution_count": 15,
      "outputs": [
        {
          "output_type": "stream",
          "name": "stdout",
          "text": [
            "Model: \"discriminator\"\n",
            "_________________________________________________________________\n",
            " Layer (type)                Output Shape              Param #   \n",
            "=================================================================\n",
            " dense_2 (Dense)             (None, 64)                6464      \n",
            "                                                                 \n",
            " leaky_re_lu_1 (LeakyReLU)   (None, 64)                0         \n",
            "                                                                 \n",
            " dense_3 (Dense)             (None, 32)                2080      \n",
            "                                                                 \n",
            " leaky_re_lu_2 (LeakyReLU)   (None, 32)                0         \n",
            "                                                                 \n",
            " dense_4 (Dense)             (None, 1)                 33        \n",
            "                                                                 \n",
            " activation_1 (Activation)   (None, 1)                 0         \n",
            "                                                                 \n",
            "=================================================================\n",
            "Total params: 8,577\n",
            "Trainable params: 8,577\n",
            "Non-trainable params: 0\n",
            "_________________________________________________________________\n"
          ]
        }
      ]
    },
    {
      "cell_type": "code",
      "source": [
        "# maintain the same shared weights with the generator and the discriminator.\n",
        "gan = Sequential([\n",
        "    generator,\n",
        "    discriminator\n",
        "])\n",
        "\n",
        "gan.summary()"
      ],
      "metadata": {
        "colab": {
          "base_uri": "https://localhost:8080/"
        },
        "id": "MBUGC7Bb-SWv",
        "outputId": "1c8890d1-64e1-4360-9596-04fd87f553ed"
      },
      "execution_count": 16,
      "outputs": [
        {
          "output_type": "stream",
          "name": "stdout",
          "text": [
            "Model: \"sequential\"\n",
            "_________________________________________________________________\n",
            " Layer (type)                Output Shape              Param #   \n",
            "=================================================================\n",
            " generator (Sequential)      (None, 100)               26340     \n",
            "                                                                 \n",
            " discriminator (Sequential)  (None, 1)                 8577      \n",
            "                                                                 \n",
            "=================================================================\n",
            "Total params: 34,917\n",
            "Trainable params: 34,661\n",
            "Non-trainable params: 256\n",
            "_________________________________________________________________\n"
          ]
        }
      ]
    },
    {
      "cell_type": "code",
      "source": [
        "def make_trainable(model, trainable):\n",
        "    for layer in model.layers:\n",
        "        layer.trainable = trainable"
      ],
      "metadata": {
        "id": "5icOTO6Z-V2f"
      },
      "execution_count": 17,
      "outputs": []
    },
    {
      "cell_type": "code",
      "source": [
        "make_trainable(discriminator, False)\n",
        "discriminator.summary()"
      ],
      "metadata": {
        "colab": {
          "base_uri": "https://localhost:8080/"
        },
        "id": "gZNa6ouG-XqZ",
        "outputId": "5d4ff868-1135-4f29-a2e2-4fb9af7ee677"
      },
      "execution_count": 18,
      "outputs": [
        {
          "output_type": "stream",
          "name": "stdout",
          "text": [
            "Model: \"discriminator\"\n",
            "_________________________________________________________________\n",
            " Layer (type)                Output Shape              Param #   \n",
            "=================================================================\n",
            " dense_2 (Dense)             (None, 64)                6464      \n",
            "                                                                 \n",
            " leaky_re_lu_1 (LeakyReLU)   (None, 64)                0         \n",
            "                                                                 \n",
            " dense_3 (Dense)             (None, 32)                2080      \n",
            "                                                                 \n",
            " leaky_re_lu_2 (LeakyReLU)   (None, 32)                0         \n",
            "                                                                 \n",
            " dense_4 (Dense)             (None, 1)                 33        \n",
            "                                                                 \n",
            " activation_1 (Activation)   (None, 1)                 0         \n",
            "                                                                 \n",
            "=================================================================\n",
            "Total params: 8,577\n",
            "Trainable params: 0\n",
            "Non-trainable params: 8,577\n",
            "_________________________________________________________________\n"
          ]
        }
      ]
    },
    {
      "cell_type": "code",
      "source": [
        "make_trainable(discriminator, True)\n",
        "discriminator.summary()"
      ],
      "metadata": {
        "colab": {
          "base_uri": "https://localhost:8080/"
        },
        "id": "uL0eVORe-ahE",
        "outputId": "6f16843a-cc52-4223-c4e0-5e787a605e6b"
      },
      "execution_count": 19,
      "outputs": [
        {
          "output_type": "stream",
          "name": "stdout",
          "text": [
            "Model: \"discriminator\"\n",
            "_________________________________________________________________\n",
            " Layer (type)                Output Shape              Param #   \n",
            "=================================================================\n",
            " dense_2 (Dense)             (None, 64)                6464      \n",
            "                                                                 \n",
            " leaky_re_lu_1 (LeakyReLU)   (None, 64)                0         \n",
            "                                                                 \n",
            " dense_3 (Dense)             (None, 32)                2080      \n",
            "                                                                 \n",
            " leaky_re_lu_2 (LeakyReLU)   (None, 32)                0         \n",
            "                                                                 \n",
            " dense_4 (Dense)             (None, 1)                 33        \n",
            "                                                                 \n",
            " activation_1 (Activation)   (None, 1)                 0         \n",
            "                                                                 \n",
            "=================================================================\n",
            "Total params: 8,577\n",
            "Trainable params: 8,577\n",
            "Non-trainable params: 0\n",
            "_________________________________________________________________\n"
          ]
        }
      ]
    },
    {
      "cell_type": "code",
      "source": [
        "def make_simple_GAN(sample_size, \n",
        "                    g_hidden_size_1,\n",
        "                    g_hidden_size_2,\n",
        "                    g_hidden_size_3,\n",
        "                    g_hidden_size_4,\n",
        "                    d_hidden_size_1,\n",
        "                    d_hidden_size_2, \n",
        "                    d_hidden_size_3,\n",
        "                    d_hidden_size_4,\n",
        "                    d_hidden_size_5,\n",
        "                    d_hidden_size_6,\n",
        "                    leaky_alpha, \n",
        "                    g_learning_rate,\n",
        "                    d_learning_rate):\n",
        "    K.clear_session()\n",
        "    \n",
        "    generator = Sequential([\n",
        "        Dense(g_hidden_size_1, input_shape=(sample_size,)),\n",
        "        LeakyReLU(alpha=leaky_alpha),\n",
        "        BatchNormalization(momentum=0.7),\n",
        "\n",
        "        #Dense(g_hidden_size_2),\n",
        "        #LeakyReLU(alpha=leaky_alpha),\n",
        "        #BatchNormalization(momentum=0.7),\n",
        "\n",
        "        #Dense(g_hidden_size_3),\n",
        "        #LeakyReLU(alpha=leaky_alpha),\n",
        "        #BatchNormalization(momentum=0.7),\n",
        "\n",
        "        #Dense(g_hidden_size_4),\n",
        "        #LeakyReLU(alpha=leaky_alpha),\n",
        "        #BatchNormalization(momentum=0.7),\n",
        "\n",
        "        Dense(100),        \n",
        "        Activation('tanh')\n",
        "    ], name='generator')    \n",
        "\n",
        "    discriminator = Sequential([\n",
        "        Dense(d_hidden_size_1, input_shape=(100,)),\n",
        "        LeakyReLU(alpha=leaky_alpha),\n",
        "        #BatchNormalization(momentum=0.7),\n",
        "\n",
        "        Dense(d_hidden_size_2),\n",
        "        LeakyReLU(alpha=leaky_alpha),\n",
        "        #BatchNormalization(momentum=0.7),\n",
        "\n",
        "        #Dense(d_hidden_size_3),\n",
        "        #LeakyReLU(alpha=leaky_alpha),\n",
        "        #BatchNormalization(momentum=0.7),\n",
        "\n",
        "        #Dense(d_hidden_size_4),\n",
        "        #LeakyReLU(alpha=leaky_alpha),\n",
        "        #BatchNormalization(momentum=0.7),\n",
        "\n",
        "        #Dense(d_hidden_size_5),\n",
        "        #LeakyReLU(alpha=leaky_alpha),\n",
        "        #BatchNormalization(momentum=0.7),\n",
        "\n",
        "        #Dense(d_hidden_size_6),\n",
        "        #LeakyReLU(alpha=leaky_alpha),\n",
        "        #BatchNormalization(momentum=0.7),\n",
        "\n",
        "        Dense(1),\n",
        "        Activation('sigmoid')\n",
        "    ], name='discriminator')    \n",
        "    \n",
        "    gan = Sequential([\n",
        "        generator,\n",
        "        discriminator\n",
        "    ])\n",
        "    \n",
        "    discriminator.compile(optimizer=Adam(learning_rate=d_learning_rate), loss='binary_crossentropy')\n",
        "    gan.compile(optimizer=Adam(learning_rate=g_learning_rate), loss='binary_crossentropy')\n",
        "    \n",
        "    return gan, generator, discriminator "
      ],
      "metadata": {
        "id": "rEp_1i09-dPu"
      },
      "execution_count": 20,
      "outputs": []
    },
    {
      "cell_type": "code",
      "source": [
        "from sklearn import preprocessing\n",
        "def preprocess(x):\n",
        "   x = preprocessing.scale(x)\n",
        "   return x"
      ],
      "metadata": {
        "id": "mI3nU-3_-lK-"
      },
      "execution_count": 21,
      "outputs": []
    },
    {
      "cell_type": "code",
      "source": [
        "X_train_real = np.array(preprocess(X_train))\n",
        "X_test_real  = np.array(preprocess(X_test))"
      ],
      "metadata": {
        "id": "SLCAacR--m1_"
      },
      "execution_count": 22,
      "outputs": []
    },
    {
      "cell_type": "code",
      "source": [
        "def make_labels(size):\n",
        "    return np.ones([size, 1]), np.zeros([size, 1])"
      ],
      "metadata": {
        "id": "WmJ4T1rT-pxE"
      },
      "execution_count": 23,
      "outputs": []
    },
    {
      "cell_type": "code",
      "source": [
        "y_real_10, y_fake_10 = make_labels(10)\n",
        "\n",
        "y_real_10, y_fake_10"
      ],
      "metadata": {
        "colab": {
          "base_uri": "https://localhost:8080/"
        },
        "id": "lO2LcRot-r8O",
        "outputId": "cbb719db-f7fe-4c79-a72b-77211c5697f1"
      },
      "execution_count": 24,
      "outputs": [
        {
          "output_type": "execute_result",
          "data": {
            "text/plain": [
              "(array([[1.],\n",
              "        [1.],\n",
              "        [1.],\n",
              "        [1.],\n",
              "        [1.],\n",
              "        [1.],\n",
              "        [1.],\n",
              "        [1.],\n",
              "        [1.],\n",
              "        [1.]]), array([[0.],\n",
              "        [0.],\n",
              "        [0.],\n",
              "        [0.],\n",
              "        [0.],\n",
              "        [0.],\n",
              "        [0.],\n",
              "        [0.],\n",
              "        [0.],\n",
              "        [0.]]))"
            ]
          },
          "metadata": {},
          "execution_count": 24
        }
      ]
    },
    {
      "cell_type": "code",
      "source": [
        "# hyperparameters\n",
        "sample_size     = 100     # latent sample size (i.e., 100 random numbers)\n",
        "g_hidden_size_1 = 128\n",
        "g_hidden_size_2 = 0\n",
        "g_hidden_size_3 = 0\n",
        "g_hidden_size_4 = 0\n",
        "d_hidden_size_1 = 64\n",
        "d_hidden_size_2 = 32\n",
        "d_hidden_size_3 = 0\n",
        "d_hidden_size_4 = 0\n",
        "d_hidden_size_5 = 0\n",
        "d_hidden_size_6 = 0\n",
        "leaky_alpha     = 0.2\n",
        "g_learning_rate = 0.0001  # learning rate for the generator\n",
        "d_learning_rate = 0.0001   # learning rate for the discriminator\n",
        "epochs          = 100\n",
        "batch_size      = 64      # train batch size\n",
        "eval_size       = 16      # evaluate size\n",
        "smooth          = 0.1\n"
      ],
      "metadata": {
        "id": "7N6BKZv3-vZS"
      },
      "execution_count": 25,
      "outputs": []
    },
    {
      "cell_type": "code",
      "source": [
        "## labels for the batch size and the test size\n",
        "y_train_real, y_train_fake = make_labels(batch_size)\n",
        "y_eval_real,  y_eval_fake  = make_labels(eval_size)\n",
        "\n",
        "# create a GAN, a generator and a discriminator\n",
        "gan, generator, discriminator = make_simple_GAN(\n",
        "    sample_size, \n",
        "    g_hidden_size_1, \n",
        "    g_hidden_size_2,\n",
        "    g_hidden_size_3,\n",
        "    g_hidden_size_4, \n",
        "    d_hidden_size_1, \n",
        "    d_hidden_size_2,\n",
        "    d_hidden_size_3,\n",
        "    d_hidden_size_4,\n",
        "    d_hidden_size_5,\n",
        "    d_hidden_size_6,\n",
        "    leaky_alpha, \n",
        "    g_learning_rate,\n",
        "    d_learning_rate)\n",
        "\n",
        "\n",
        "losses = []\n",
        "losses1 = []\n",
        "for e in range(epochs):\n",
        "    for i in range(len(X_train_real)//batch_size):\n",
        "        # real MNIST digit images\n",
        "        X_batch_real = X_train_real[i*batch_size:(i+1)*batch_size]\n",
        "        \n",
        "        # latent samples and the generated digit images\n",
        "        latent_samples = make_latent_samples(batch_size, sample_size)\n",
        "        X_batch_fake = generator.predict_on_batch(latent_samples)\n",
        "        \n",
        "        # train the discriminator to detect real and fake images\n",
        "        make_trainable(discriminator, True)\n",
        "        discriminator.train_on_batch(X_batch_real, y_train_real * (1 - smooth))\n",
        "        discriminator.train_on_batch(X_batch_fake, y_train_fake)\n",
        "\n",
        "        # train the generator via GAN\n",
        "        make_trainable(discriminator, False)\n",
        "        gan.train_on_batch(latent_samples, y_train_real)\n",
        "   # evaluate\n",
        "    X_eval_real = X_test_real[np.random.choice(len(X_test_real), eval_size, replace=False)]\n",
        "    \n",
        "    latent_samples = make_latent_samples(eval_size, sample_size)\n",
        "    X_eval_fake = generator.predict_on_batch(latent_samples)\n",
        "\n",
        "    d_loss  = discriminator.test_on_batch(X_eval_real, y_eval_real)\n",
        "    d_loss += discriminator.test_on_batch(X_eval_fake, y_eval_fake)\n",
        "    g_loss  = gan.test_on_batch(latent_samples, y_eval_real) # we want the fake to be realistic!\n",
        "    \n",
        "    losses.append((d_loss, g_loss))\n",
        "\n",
        "    d_acc_real = discriminator.train_on_batch(X_batch_real, y_train_real * (1 - smooth))\n",
        "    d_acc_fake = discriminator.train_on_batch(X_batch_fake, y_train_fake)\n",
        "    d_acc  = 0.5 * (d_acc_real + d_acc_fake)\n",
        "\n",
        "    #losses1.append(( d_acc))\n",
        "    print(\"Epoch: {:>3}/{} Discriminator Loss: {:>6.4f} Generator Loss: {:>6.4f} Discriminator acc:{:>6.4f}:\".format(\n",
        "        e+1, epochs, d_loss, g_loss,d_acc)) #Discriminator acc: {:>6.4f}:,d_acc"
      ],
      "metadata": {
        "colab": {
          "base_uri": "https://localhost:8080/"
        },
        "id": "9SYobm6e-3f0",
        "outputId": "27d45ceb-9fe3-4e31-fd9d-22db6ae71926"
      },
      "execution_count": 26,
      "outputs": [
        {
          "output_type": "stream",
          "name": "stdout",
          "text": [
            "Epoch:   1/100 Discriminator Loss: 1.4706 Generator Loss: 0.3998 Discriminator acc:0.8181:\n",
            "Epoch:   2/100 Discriminator Loss: 1.5733 Generator Loss: 0.3189 Discriminator acc:0.8562:\n",
            "Epoch:   3/100 Discriminator Loss: 1.6160 Generator Loss: 0.3409 Discriminator acc:0.8508:\n",
            "Epoch:   4/100 Discriminator Loss: 1.6693 Generator Loss: 0.3145 Discriminator acc:0.9011:\n",
            "Epoch:   5/100 Discriminator Loss: 1.6037 Generator Loss: 0.3225 Discriminator acc:0.9057:\n",
            "Epoch:   6/100 Discriminator Loss: 1.6428 Generator Loss: 0.3080 Discriminator acc:0.9229:\n",
            "Epoch:   7/100 Discriminator Loss: 1.6292 Generator Loss: 0.3096 Discriminator acc:0.8902:\n",
            "Epoch:   8/100 Discriminator Loss: 1.5797 Generator Loss: 0.3242 Discriminator acc:0.8732:\n",
            "Epoch:   9/100 Discriminator Loss: 1.7518 Generator Loss: 0.2848 Discriminator acc:0.8359:\n",
            "Epoch:  10/100 Discriminator Loss: 1.6820 Generator Loss: 0.3167 Discriminator acc:0.8915:\n",
            "Epoch:  11/100 Discriminator Loss: 1.7021 Generator Loss: 0.3068 Discriminator acc:0.8976:\n",
            "Epoch:  12/100 Discriminator Loss: 1.6078 Generator Loss: 0.3284 Discriminator acc:0.9109:\n",
            "Epoch:  13/100 Discriminator Loss: 1.6449 Generator Loss: 0.3059 Discriminator acc:0.9017:\n",
            "Epoch:  14/100 Discriminator Loss: 1.5897 Generator Loss: 0.3259 Discriminator acc:0.8850:\n",
            "Epoch:  15/100 Discriminator Loss: 1.8110 Generator Loss: 0.2876 Discriminator acc:0.8973:\n",
            "Epoch:  16/100 Discriminator Loss: 1.7595 Generator Loss: 0.3026 Discriminator acc:0.9083:\n",
            "Epoch:  17/100 Discriminator Loss: 1.7389 Generator Loss: 0.3151 Discriminator acc:0.9186:\n",
            "Epoch:  18/100 Discriminator Loss: 1.5638 Generator Loss: 0.3437 Discriminator acc:0.9041:\n",
            "Epoch:  19/100 Discriminator Loss: 1.6491 Generator Loss: 0.3215 Discriminator acc:0.8927:\n",
            "Epoch:  20/100 Discriminator Loss: 1.6750 Generator Loss: 0.3153 Discriminator acc:0.8612:\n",
            "Epoch:  21/100 Discriminator Loss: 1.5661 Generator Loss: 0.3538 Discriminator acc:0.8663:\n",
            "Epoch:  22/100 Discriminator Loss: 1.5833 Generator Loss: 0.3287 Discriminator acc:0.8607:\n",
            "Epoch:  23/100 Discriminator Loss: 1.6066 Generator Loss: 0.3240 Discriminator acc:0.8740:\n",
            "Epoch:  24/100 Discriminator Loss: 1.6161 Generator Loss: 0.3190 Discriminator acc:0.8745:\n",
            "Epoch:  25/100 Discriminator Loss: 1.5802 Generator Loss: 0.3416 Discriminator acc:0.8710:\n",
            "Epoch:  26/100 Discriminator Loss: 1.6008 Generator Loss: 0.3152 Discriminator acc:0.8791:\n",
            "Epoch:  27/100 Discriminator Loss: 1.5607 Generator Loss: 0.3263 Discriminator acc:0.8497:\n",
            "Epoch:  28/100 Discriminator Loss: 1.6431 Generator Loss: 0.3492 Discriminator acc:0.8640:\n",
            "Epoch:  29/100 Discriminator Loss: 1.5801 Generator Loss: 0.3503 Discriminator acc:0.8843:\n",
            "Epoch:  30/100 Discriminator Loss: 1.6731 Generator Loss: 0.3146 Discriminator acc:0.8585:\n",
            "Epoch:  31/100 Discriminator Loss: 1.6223 Generator Loss: 0.3372 Discriminator acc:0.8401:\n",
            "Epoch:  32/100 Discriminator Loss: 1.5587 Generator Loss: 0.3574 Discriminator acc:0.8430:\n",
            "Epoch:  33/100 Discriminator Loss: 1.5262 Generator Loss: 0.3366 Discriminator acc:0.8315:\n",
            "Epoch:  34/100 Discriminator Loss: 1.4976 Generator Loss: 0.3582 Discriminator acc:0.8344:\n",
            "Epoch:  35/100 Discriminator Loss: 1.5867 Generator Loss: 0.3538 Discriminator acc:0.8184:\n",
            "Epoch:  36/100 Discriminator Loss: 1.5239 Generator Loss: 0.3655 Discriminator acc:0.8403:\n",
            "Epoch:  37/100 Discriminator Loss: 1.5117 Generator Loss: 0.3399 Discriminator acc:0.8282:\n",
            "Epoch:  38/100 Discriminator Loss: 1.4960 Generator Loss: 0.3854 Discriminator acc:0.8244:\n",
            "Epoch:  39/100 Discriminator Loss: 1.5320 Generator Loss: 0.3644 Discriminator acc:0.8284:\n",
            "Epoch:  40/100 Discriminator Loss: 1.4944 Generator Loss: 0.3539 Discriminator acc:0.8194:\n",
            "Epoch:  41/100 Discriminator Loss: 1.4950 Generator Loss: 0.3761 Discriminator acc:0.8058:\n",
            "Epoch:  42/100 Discriminator Loss: 1.5541 Generator Loss: 0.3719 Discriminator acc:0.8095:\n",
            "Epoch:  43/100 Discriminator Loss: 1.5109 Generator Loss: 0.3865 Discriminator acc:0.7983:\n",
            "Epoch:  44/100 Discriminator Loss: 1.5037 Generator Loss: 0.3819 Discriminator acc:0.8051:\n",
            "Epoch:  45/100 Discriminator Loss: 1.4431 Generator Loss: 0.3942 Discriminator acc:0.7897:\n",
            "Epoch:  46/100 Discriminator Loss: 1.4323 Generator Loss: 0.4218 Discriminator acc:0.7795:\n",
            "Epoch:  47/100 Discriminator Loss: 1.4161 Generator Loss: 0.4050 Discriminator acc:0.7803:\n",
            "Epoch:  48/100 Discriminator Loss: 1.3823 Generator Loss: 0.4207 Discriminator acc:0.7618:\n",
            "Epoch:  49/100 Discriminator Loss: 1.3245 Generator Loss: 0.4258 Discriminator acc:0.7614:\n",
            "Epoch:  50/100 Discriminator Loss: 1.4473 Generator Loss: 0.3989 Discriminator acc:0.7575:\n",
            "Epoch:  51/100 Discriminator Loss: 1.3407 Generator Loss: 0.4329 Discriminator acc:0.7587:\n",
            "Epoch:  52/100 Discriminator Loss: 1.4181 Generator Loss: 0.4268 Discriminator acc:0.7485:\n",
            "Epoch:  53/100 Discriminator Loss: 1.2817 Generator Loss: 0.4367 Discriminator acc:0.7510:\n",
            "Epoch:  54/100 Discriminator Loss: 1.4091 Generator Loss: 0.4382 Discriminator acc:0.7470:\n",
            "Epoch:  55/100 Discriminator Loss: 1.3920 Generator Loss: 0.4460 Discriminator acc:0.7355:\n",
            "Epoch:  56/100 Discriminator Loss: 1.4262 Generator Loss: 0.4387 Discriminator acc:0.7397:\n",
            "Epoch:  57/100 Discriminator Loss: 1.3454 Generator Loss: 0.4510 Discriminator acc:0.7387:\n",
            "Epoch:  58/100 Discriminator Loss: 1.3635 Generator Loss: 0.4615 Discriminator acc:0.7354:\n",
            "Epoch:  59/100 Discriminator Loss: 1.3454 Generator Loss: 0.4611 Discriminator acc:0.7214:\n",
            "Epoch:  60/100 Discriminator Loss: 1.3142 Generator Loss: 0.4550 Discriminator acc:0.7249:\n",
            "Epoch:  61/100 Discriminator Loss: 1.1618 Generator Loss: 0.4806 Discriminator acc:0.7099:\n",
            "Epoch:  62/100 Discriminator Loss: 1.3316 Generator Loss: 0.4691 Discriminator acc:0.7104:\n",
            "Epoch:  63/100 Discriminator Loss: 1.2476 Generator Loss: 0.4886 Discriminator acc:0.7051:\n",
            "Epoch:  64/100 Discriminator Loss: 1.2902 Generator Loss: 0.4706 Discriminator acc:0.7006:\n",
            "Epoch:  65/100 Discriminator Loss: 1.3603 Generator Loss: 0.4579 Discriminator acc:0.6984:\n",
            "Epoch:  66/100 Discriminator Loss: 1.2733 Generator Loss: 0.4964 Discriminator acc:0.6951:\n",
            "Epoch:  67/100 Discriminator Loss: 1.2910 Generator Loss: 0.4837 Discriminator acc:0.6853:\n",
            "Epoch:  68/100 Discriminator Loss: 1.3587 Generator Loss: 0.4961 Discriminator acc:0.6896:\n",
            "Epoch:  69/100 Discriminator Loss: 1.3010 Generator Loss: 0.5181 Discriminator acc:0.6900:\n",
            "Epoch:  70/100 Discriminator Loss: 1.2128 Generator Loss: 0.5071 Discriminator acc:0.6810:\n",
            "Epoch:  71/100 Discriminator Loss: 1.2579 Generator Loss: 0.5155 Discriminator acc:0.6828:\n",
            "Epoch:  72/100 Discriminator Loss: 1.3795 Generator Loss: 0.4650 Discriminator acc:0.6828:\n",
            "Epoch:  73/100 Discriminator Loss: 1.2435 Generator Loss: 0.4777 Discriminator acc:0.6904:\n",
            "Epoch:  74/100 Discriminator Loss: 1.2660 Generator Loss: 0.4966 Discriminator acc:0.6979:\n",
            "Epoch:  75/100 Discriminator Loss: 1.3293 Generator Loss: 0.4901 Discriminator acc:0.6910:\n",
            "Epoch:  76/100 Discriminator Loss: 1.3046 Generator Loss: 0.4803 Discriminator acc:0.7010:\n",
            "Epoch:  77/100 Discriminator Loss: 1.2888 Generator Loss: 0.5124 Discriminator acc:0.6966:\n",
            "Epoch:  78/100 Discriminator Loss: 1.2421 Generator Loss: 0.4836 Discriminator acc:0.6989:\n",
            "Epoch:  79/100 Discriminator Loss: 1.2648 Generator Loss: 0.5110 Discriminator acc:0.7004:\n",
            "Epoch:  80/100 Discriminator Loss: 1.3018 Generator Loss: 0.5128 Discriminator acc:0.6855:\n",
            "Epoch:  81/100 Discriminator Loss: 1.3375 Generator Loss: 0.4819 Discriminator acc:0.6786:\n",
            "Epoch:  82/100 Discriminator Loss: 1.3177 Generator Loss: 0.5228 Discriminator acc:0.6879:\n",
            "Epoch:  83/100 Discriminator Loss: 1.2258 Generator Loss: 0.5049 Discriminator acc:0.6822:\n",
            "Epoch:  84/100 Discriminator Loss: 1.2410 Generator Loss: 0.5180 Discriminator acc:0.6801:\n",
            "Epoch:  85/100 Discriminator Loss: 1.1897 Generator Loss: 0.5379 Discriminator acc:0.6849:\n",
            "Epoch:  86/100 Discriminator Loss: 1.2844 Generator Loss: 0.5072 Discriminator acc:0.6747:\n",
            "Epoch:  87/100 Discriminator Loss: 1.2341 Generator Loss: 0.5137 Discriminator acc:0.6784:\n",
            "Epoch:  88/100 Discriminator Loss: 1.2279 Generator Loss: 0.5393 Discriminator acc:0.6700:\n",
            "Epoch:  89/100 Discriminator Loss: 1.1988 Generator Loss: 0.5172 Discriminator acc:0.6736:\n",
            "Epoch:  90/100 Discriminator Loss: 1.1906 Generator Loss: 0.5343 Discriminator acc:0.6593:\n",
            "Epoch:  91/100 Discriminator Loss: 1.2326 Generator Loss: 0.4992 Discriminator acc:0.6629:\n",
            "Epoch:  92/100 Discriminator Loss: 1.2284 Generator Loss: 0.5163 Discriminator acc:0.6521:\n",
            "Epoch:  93/100 Discriminator Loss: 1.1050 Generator Loss: 0.5801 Discriminator acc:0.6606:\n",
            "Epoch:  94/100 Discriminator Loss: 1.1626 Generator Loss: 0.5367 Discriminator acc:0.6647:\n",
            "Epoch:  95/100 Discriminator Loss: 1.1029 Generator Loss: 0.5588 Discriminator acc:0.6583:\n",
            "Epoch:  96/100 Discriminator Loss: 1.2104 Generator Loss: 0.5484 Discriminator acc:0.6531:\n",
            "Epoch:  97/100 Discriminator Loss: 1.1740 Generator Loss: 0.5243 Discriminator acc:0.6593:\n",
            "Epoch:  98/100 Discriminator Loss: 1.1909 Generator Loss: 0.5236 Discriminator acc:0.6463:\n",
            "Epoch:  99/100 Discriminator Loss: 1.1891 Generator Loss: 0.5186 Discriminator acc:0.6498:\n",
            "Epoch: 100/100 Discriminator Loss: 1.1465 Generator Loss: 0.5389 Discriminator acc:0.6537:\n"
          ]
        }
      ]
    },
    {
      "cell_type": "code",
      "source": [
        "losses = np.array(losses)\n",
        "\n",
        "fig, ax = plt.subplots()\n",
        "plt.plot(losses.T[0], label='Discriminator')\n",
        "plt.plot(losses.T[1], label='Generator')\n",
        "plt.title(\"Training Losses\")\n",
        "plt.legend()\n",
        "plt.show()"
      ],
      "metadata": {
        "colab": {
          "base_uri": "https://localhost:8080/",
          "height": 281
        },
        "id": "-Pczfh-C_rC-",
        "outputId": "cbb167d7-9368-4927-a53e-d4adf91a18b5"
      },
      "execution_count": 27,
      "outputs": [
        {
          "output_type": "display_data",
          "data": {
            "text/plain": [
              "<Figure size 432x288 with 1 Axes>"
            ],
            "image/png": "[encoded data removed]"
          },
          "metadata": {
            "needs_background": "light"
          }
        }
      ]
    },
    {
      "cell_type": "code",
      "source": [
        "rr = discriminator.predict_on_batch(X_test_real)"
      ],
      "metadata": {
        "id": "THaYGfNm_t7H"
      },
      "execution_count": 28,
      "outputs": []
    },
    {
      "cell_type": "code",
      "source": [
        "import keras\n",
        "#import keras_metrics\n",
        "\n",
        "r = tf.keras.metrics.Recall()#thresholds=rr.min())\n",
        "r.update_state(y_test,rr )\n",
        "r.result().numpy()\n"
      ],
      "metadata": {
        "colab": {
          "base_uri": "https://localhost:8080/"
        },
        "id": "y4YHTlv6_wKG",
        "outputId": "3b800af7-b834-4b65-c743-95f073728f3b"
      },
      "execution_count": 29,
      "outputs": [
        {
          "output_type": "execute_result",
          "data": {
            "text/plain": [
              "1.0"
            ]
          },
          "metadata": {},
          "execution_count": 29
        }
      ]
    },
    {
      "cell_type": "code",
      "source": [
        "p=tf.keras.metrics.Precision()#thresholds=rr.min())\n",
        "p.update_state(y_test,rr )\n",
        "p.result().numpy()"
      ],
      "metadata": {
        "colab": {
          "base_uri": "https://localhost:8080/"
        },
        "id": "4Wgx-224_yPg",
        "outputId": "b230562b-90ca-4d85-cd25-d4f800415a98"
      },
      "execution_count": 30,
      "outputs": [
        {
          "output_type": "execute_result",
          "data": {
            "text/plain": [
              "0.009342676"
            ]
          },
          "metadata": {},
          "execution_count": 30
        }
      ]
    },
    {
      "cell_type": "code",
      "source": [
        "import keras\n",
        "#import keras_metrics\n",
        "\n",
        "a = tf.keras.metrics.BinaryAccuracy()#thresholds=rr.min())\n",
        "a.update_state(y_test,rr )\n",
        "a.result().numpy()"
      ],
      "metadata": {
        "colab": {
          "base_uri": "https://localhost:8080/"
        },
        "id": "9BCXW599WEW5",
        "outputId": "976fa08d-5ac9-432d-b39e-53764ce033ba"
      },
      "execution_count": 31,
      "outputs": [
        {
          "output_type": "execute_result",
          "data": {
            "text/plain": [
              "0.010333333"
            ]
          },
          "metadata": {},
          "execution_count": 31
        }
      ]
    }
  ]
}