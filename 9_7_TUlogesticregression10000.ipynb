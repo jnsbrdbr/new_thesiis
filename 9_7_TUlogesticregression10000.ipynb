{
  "cells": [
    {
      "cell_type": "markdown",
      "metadata": {
        "id": "view-in-github",
        "colab_type": "text"
      },
      "source": [
        "<a href=\"https://colab.research.google.com/github/jnsbrdbr/new_thesiis/blob/main/9_7_TUlogesticregression10000.ipynb\" target=\"_parent\"><img src=\"https://colab.research.google.com/assets/colab-badge.svg\" alt=\"Open In Colab\"/></a>"
      ]
    },
    {
      "cell_type": "code",
      "execution_count": 1,
      "metadata": {
        "id": "ow-ojNMP9r-W"
      },
      "outputs": [],
      "source": [
        "import numpy as np\n",
        "import pandas as pd\n",
        "import seaborn as sns\n",
        "import matplotlib.pyplot as plt\n",
        "import copy\n",
        "from sklearn.model_selection import train_test_split\n",
        "from sklearn.linear_model import LogisticRegression\n",
        "from sklearn import metrics\n",
        "from sklearn.metrics import confusion_matrix\n",
        "from numpy import mean\n",
        "from numpy import std\n",
        "from sklearn.model_selection import KFold\n",
        "from sklearn.model_selection import cross_val_score,cross_val_predict\n",
        "from sklearn.datasets import make_classification\n",
        "from sklearn.metrics import roc_auc_score\n",
        "from sklearn.metrics import roc_curve\n",
        "from matplotlib import pyplot\n",
        "from sklearn.metrics import accuracy_score"
      ]
    },
    {
      "cell_type": "code",
      "execution_count": 2,
      "metadata": {
        "colab": {
          "base_uri": "https://localhost:8080/"
        },
        "id": "HHnC-lHa9rvk",
        "outputId": "92a29cbb-4b4b-4c61-db12-2d3758e192d4"
      },
      "outputs": [
        {
          "output_type": "stream",
          "name": "stdout",
          "text": [
            "Drive already mounted at /content/drive; to attempt to forcibly remount, call drive.mount(\"/content/drive\", force_remount=True).\n"
          ]
        }
      ],
      "source": [
        "from google.colab import drive\n",
        "drive.mount('/content/drive') "
      ]
    },
    {
      "cell_type": "code",
      "source": [
        "!pip3 install pickle5\n",
        "import pickle5 as pickle"
      ],
      "metadata": {
        "colab": {
          "base_uri": "https://localhost:8080/"
        },
        "id": "tupa_my6ZoIR",
        "outputId": "76b8d368-7552-4eb2-a952-64b093c555d4"
      },
      "execution_count": 3,
      "outputs": [
        {
          "output_type": "stream",
          "name": "stdout",
          "text": [
            "Requirement already satisfied: pickle5 in /usr/local/lib/python3.7/dist-packages (0.0.12)\n"
          ]
        }
      ]
    },
    {
      "cell_type": "code",
      "execution_count": 4,
      "metadata": {
        "id": "sBeI3CEZ9Lgx"
      },
      "outputs": [],
      "source": [
        "with open('/content/drive/MyDrive/10000/unsmote/TUnsmote_Tresult.pkl', \"rb\") as fh:\n",
        "  result = pickle.load(fh)"
      ]
    },
    {
      "cell_type": "code",
      "execution_count": 5,
      "metadata": {
        "colab": {
          "base_uri": "https://localhost:8080/"
        },
        "id": "7ek_16OE-SE5",
        "outputId": "a34ebce2-2619-4b72-cafd-b150b3215ab7"
      },
      "outputs": [
        {
          "output_type": "stream",
          "name": "stdout",
          "text": [
            "             0         1         2         3         4          5         6  \\\n",
            "0    -0.018442 -4.220618 -0.916300 -0.715505 -0.868530  -1.348268 -0.474432   \n",
            "1    -0.018442 -4.220618 -0.916300 -0.715505 -0.868530  -1.348268 -0.474432   \n",
            "2    -0.018442 -4.220618 -0.916300 -0.715505 -0.868530  -1.348268 -0.474432   \n",
            "3    -0.018442 -4.220618 -0.916300 -0.715505 -0.868530  -1.348268 -0.474432   \n",
            "4    -0.018444 -4.221080 -0.916678 -0.715889 -0.869072  -1.349276 -0.475212   \n",
            "...        ...       ...       ...       ...       ...        ...       ...   \n",
            "9995 -0.264492 -4.771727 -2.334318 -2.416962 -8.513026  15.729413  0.366719   \n",
            "9996 -0.264492 -4.771727 -2.334318 -2.416962 -8.513026  15.729413  0.366719   \n",
            "9997 -0.264492 -4.771727 -2.334318 -2.416962 -8.513026  15.729413  0.366719   \n",
            "9998 -0.264492 -4.771727 -2.334318 -2.416962 -8.513026  15.729413  0.366719   \n",
            "9999 -0.264492 -4.771727 -2.334318 -2.416962 -8.513026  15.729413  0.366719   \n",
            "\n",
            "             7         8         9  ...          1          2          3  \\\n",
            "0    -0.004759 -0.581985 -0.079929  ...   2.287554   0.686930   0.100448   \n",
            "1    -0.004759 -0.581985 -0.079929  ...   2.287554   0.686930   0.100448   \n",
            "2    -0.004759 -0.581985 -0.079929  ...   2.287554   0.686930   0.100448   \n",
            "3    -0.004759 -0.581985 -0.079929  ...   2.287554   0.686930   0.100448   \n",
            "4    -0.004857 -0.583281 -0.080453  ...  16.547190  20.216481  11.292974   \n",
            "...        ...       ...       ...  ...        ...        ...        ...   \n",
            "9995 -0.128471  0.120291 -0.000607  ...   2.275919  -1.123127  -2.167888   \n",
            "9996 -0.128471  0.120291 -0.000607  ...   2.275919  -1.123127  -2.167888   \n",
            "9997 -0.128471  0.120291 -0.000607  ...   2.275919  -1.123127  -2.167888   \n",
            "9998 -0.128471  0.120291 -0.000607  ...   2.275919  -1.123127  -2.167888   \n",
            "9999 -0.128471  0.120291 -0.000607  ...   2.275919  -1.123127  -2.167888   \n",
            "\n",
            "             4         5         6         7         8         9  label  \n",
            "0    -0.062517  0.119028 -0.441208 -0.219285 -0.010241 -0.181514      1  \n",
            "1    -0.062517  0.119028 -0.441208 -0.219285 -0.010241 -0.181514      1  \n",
            "2    -0.062517  0.119028 -0.441208 -0.219285 -0.010241 -0.181514      1  \n",
            "3    -0.062517  0.119028 -0.441208 -0.219285 -0.010241 -0.181514      1  \n",
            "4     4.613619 -3.774325  6.601583  1.746854  0.057121  0.838856      1  \n",
            "...        ...       ...       ...       ...       ...       ...    ...  \n",
            "9995 -2.422360  8.098259  5.690624  0.623426  0.017370  0.231334      1  \n",
            "9996 -2.422360  8.098259  5.690624  0.623426  0.017370  0.231334      1  \n",
            "9997 -2.422360  8.098259  5.690624  0.623426  0.017370  0.231334      1  \n",
            "9998 -2.422360  8.098259  5.690624  0.623426  0.017370  0.231334      1  \n",
            "9999 -2.422360  8.098259  5.690624  0.623426  0.017370  0.231334      1  \n",
            "\n",
            "[10000 rows x 101 columns]\n"
          ]
        }
      ],
      "source": [
        "#final data\n",
        "print(result)"
      ]
    },
    {
      "cell_type": "markdown",
      "metadata": {
        "id": "pHFAv3mYWkfy"
      },
      "source": [
        "# **logestic** **regression**"
      ]
    },
    {
      "cell_type": "code",
      "execution_count": 6,
      "metadata": {
        "id": "YBqhF2LdjOW6"
      },
      "outputs": [],
      "source": [
        "#divide data in to data_label and non_data label\n",
        "\n",
        "y=result.label\n",
        "pd.options.mode.chained_assignment = None  # default='warn'\n",
        "for i in range(len(y)):\n",
        "  if y[i]==1:\n",
        "    y[i]=0\n",
        "  else:\n",
        "    y[i]=1"
      ]
    },
    {
      "cell_type": "code",
      "source": [
        "result_nonlabel=copy.deepcopy(result)\n",
        "del result_nonlabel['label']\n",
        "X=result_nonlabel"
      ],
      "metadata": {
        "id": "EzK1RwPZ5wIX"
      },
      "execution_count": 7,
      "outputs": []
    },
    {
      "cell_type": "code",
      "execution_count": 8,
      "metadata": {
        "id": "MT1dmoumDAhr"
      },
      "outputs": [],
      "source": [
        "#splitting data in to test and train...\n",
        "\n",
        "from sklearn.model_selection import train_test_split\n",
        "x_train, x_test, y_train, y_test = train_test_split(X, y, test_size=0.3,\n",
        "                                                   shuffle=True)"
      ]
    },
    {
      "cell_type": "code",
      "execution_count": 9,
      "metadata": {
        "colab": {
          "base_uri": "https://localhost:8080/"
        },
        "id": "2Z3TwqtN0GOr",
        "outputId": "6af1fe48-4eae-484a-b6bb-aa069ef7f611"
      },
      "outputs": [
        {
          "output_type": "execute_result",
          "data": {
            "text/plain": [
              "LogisticRegression(C=0.1, max_iter=1000, solver='newton-cg')"
            ]
          },
          "metadata": {},
          "execution_count": 9
        }
      ],
      "source": [
        "#train the data\n",
        "\n",
        "from sklearn.linear_model import LogisticRegression\n",
        "\n",
        "logisticRegr = LogisticRegression(penalty='l2', C=0.1,solver='newton-cg',max_iter=1000)\n",
        "logisticRegr.fit(x_train, y_train)"
      ]
    },
    {
      "cell_type": "code",
      "execution_count": 10,
      "metadata": {
        "colab": {
          "base_uri": "https://localhost:8080/"
        },
        "id": "cPfSV0_llevY",
        "outputId": "9bf32458-22d1-47bf-8909-73df4b04de09"
      },
      "outputs": [
        {
          "output_type": "stream",
          "name": "stdout",
          "text": [
            "0.9896666666666667\n"
          ]
        }
      ],
      "source": [
        "#score of data by prediction at once\n",
        "\n",
        "predictions = logisticRegr.predict(x_test)\n",
        "score = logisticRegr.score(x_test, y_test)\n",
        "print(score)"
      ]
    },
    {
      "cell_type": "code",
      "source": [
        "count=0\n",
        "for i in range (0,len(predictions)):\n",
        "  if predictions[i]==1:\n",
        "    count+=1\n",
        "print(count)"
      ],
      "metadata": {
        "colab": {
          "base_uri": "https://localhost:8080/"
        },
        "id": "uBspjUOvaKPQ",
        "outputId": "a21af865-62fe-491e-a000-ab8ea6c9e59e"
      },
      "execution_count": 11,
      "outputs": [
        {
          "output_type": "stream",
          "name": "stdout",
          "text": [
            "1\n"
          ]
        }
      ]
    },
    {
      "cell_type": "code",
      "execution_count": 12,
      "metadata": {
        "colab": {
          "base_uri": "https://localhost:8080/",
          "height": 297
        },
        "id": "34NgzA3RnUTu",
        "outputId": "a7695caf-78fa-48f9-c16f-a93d7d290dbf"
      },
      "outputs": [
        {
          "output_type": "execute_result",
          "data": {
            "text/plain": [
              "<matplotlib.axes._subplots.AxesSubplot at 0x7fbb33325290>"
            ]
          },
          "metadata": {},
          "execution_count": 12
        },
        {
          "output_type": "display_data",
          "data": {
            "text/plain": [
              "<Figure size 432x288 with 2 Axes>"
            ],
            "image/png": "[encoded data removed]"
          },
          "metadata": {
            "needs_background": "light"
          }
        }
      ],
      "source": [
        "#plotting confusion_matrix\n",
        "\n",
        "import matplotlib.pyplot as plt\n",
        "import seaborn as sns\n",
        "from sklearn import metrics\n",
        "\n",
        "confusion_matrix = pd.crosstab(y_test, predictions, rownames=['Actual'], colnames=['Predicted'])\n",
        "sns.heatmap(confusion_matrix, annot=True)"
      ]
    },
    {
      "cell_type": "code",
      "execution_count": 13,
      "metadata": {
        "colab": {
          "base_uri": "https://localhost:8080/"
        },
        "id": "tndK99IJnepn",
        "outputId": "593e5178-fb17-4296-a696-6e7fc55631bd"
      },
      "outputs": [
        {
          "output_type": "stream",
          "name": "stdout",
          "text": [
            "Accuracy:  0.9896666666666667\n"
          ]
        }
      ],
      "source": [
        "#Accuracy by prediction in once\n",
        "\n",
        "print('Accuracy: ',metrics.accuracy_score(y_test, predictions))"
      ]
    },
    {
      "cell_type": "code",
      "execution_count": 14,
      "metadata": {
        "colab": {
          "base_uri": "https://localhost:8080/"
        },
        "id": "xwpn5lEn0Ltr",
        "outputId": "9557cfbf-9b14-47b5-a55c-ca8bce3aad86"
      },
      "outputs": [
        {
          "output_type": "stream",
          "name": "stdout",
          "text": [
            "Accuracy: 0.990 (0.003)\n"
          ]
        }
      ],
      "source": [
        "#cross_validation and accracy\n",
        "\n",
        "from numpy import mean\n",
        "from numpy import std\n",
        "from sklearn.model_selection import KFold\n",
        "from sklearn.model_selection import cross_val_score\n",
        "import warnings\n",
        "warnings.filterwarnings('ignore') \n",
        "\n",
        "\n",
        "cv = KFold(n_splits=10, shuffle=True)#, random_state=42\n",
        "scores = cross_val_score(logisticRegr, X, y, scoring='accuracy', cv=cv)\n",
        "\n",
        "print('Accuracy: %.3f (%.3f)' % (mean(scores), std(scores)))"
      ]
    },
    {
      "cell_type": "code",
      "execution_count": 15,
      "metadata": {
        "colab": {
          "base_uri": "https://localhost:8080/"
        },
        "id": "1j-60Q7mFSlT",
        "outputId": "bc4aff6f-9247-47da-9fba-ea02a9f512df"
      },
      "outputs": [
        {
          "output_type": "stream",
          "name": "stdout",
          "text": [
            "scores_recall: 0.000 (0.000)\n"
          ]
        }
      ],
      "source": [
        "#recall\n",
        "\n",
        "from numpy import mean\n",
        "from numpy import std\n",
        "from sklearn.model_selection import KFold\n",
        "from sklearn.model_selection import cross_val_score,cross_val_predict\n",
        "import warnings\n",
        "warnings.filterwarnings('ignore') \n",
        "\n",
        "cv = KFold(n_splits=10, shuffle=True)#, shuffle=True, random_state=42\n",
        "scores_recall = cross_val_score(logisticRegr,X, y, scoring='recall', cv=cv)\n",
        "\n",
        "print('scores_recall: %.3f (%.3f)' % (mean(scores_recall), std(scores_recall)))"
      ]
    },
    {
      "cell_type": "code",
      "execution_count": 16,
      "metadata": {
        "colab": {
          "base_uri": "https://localhost:8080/"
        },
        "id": "d_R5SCwRLE2J",
        "outputId": "55590833-f215-4b42-8e88-1b99356e3c34"
      },
      "outputs": [
        {
          "output_type": "stream",
          "name": "stdout",
          "text": [
            "scores_precision: 0.000 (0.000)\n"
          ]
        }
      ],
      "source": [
        "#precision\n",
        "\n",
        "from numpy import mean\n",
        "from numpy import std\n",
        "from sklearn.model_selection import KFold\n",
        "from sklearn.model_selection import cross_val_score\n",
        "import warnings\n",
        "warnings.filterwarnings('ignore') \n",
        "\n",
        "cv = KFold(n_splits=10, shuffle=True)#, shuffle=True, random_state=42\n",
        "scores_precision = cross_val_score(logisticRegr, X, y, scoring='precision', cv=cv)\n",
        "\n",
        "print('scores_precision: %.3f (%.3f)' % (mean(scores_precision), std(scores_precision)))"
      ]
    },
    {
      "cell_type": "code",
      "source": [
        "#Importing required libraries\n",
        "from sklearn.model_selection import KFold \n",
        "from sklearn.datasets import load_breast_cancer\n",
        "from sklearn.linear_model import LogisticRegression\n",
        "from sklearn.metrics import accuracy_score\n",
        "from sklearn.metrics import confusion_matrix\n",
        " \n",
        "\n",
        " \n",
        "#Implementing cross validation\n",
        " \n",
        "#X = X.sample(frac = 1)\n",
        "#y= y.sample(frac = 1)\n",
        "kf = KFold(n_splits=10)#, random_state=None\n",
        "model = LogisticRegression(max_iter=100000,penalty='l2', C=0.1,solver='lbfgs')#(solver= 'liblinear')\n",
        " \n",
        "acc_score = list()\n",
        "res_tpr = list()\n",
        "res_fpr = list()\n",
        "for train_index , test_index in kf.split(X):\n",
        "  \n",
        "    X_train, X_test, y_train, y_test = train_test_split(X, y, test_size=0.3)\n",
        "    model.fit(X_train,y_train)\n",
        "    pred_values = model.predict(X_test)\n",
        "    tn, fp, fn, tp = confusion_matrix(y_test, pred_values, labels=[0, 1]).ravel()\n",
        "    print(f'True Positives: {tp}')\n",
        "    print(f'False Positives: {fp}')\n",
        "    print(f'True Negatives: {tn}')\n",
        "    print(f'False Negatives: {fn}')\n",
        "    tpr=(np.divide(tp,(tp+fn)))\n",
        "    fpr=(np.divide(fp,(fp+tn)))\n",
        "    if tp==0:\n",
        "      tpr=0\n",
        "    if fp==0:\n",
        "      fpr=0\n",
        "\n",
        "    print('tpr=%.4f fpr=%.3f' % ( mean(tpr), mean(fpr)))\n",
        "    print('x')\n",
        "    res_tpr.append(mean(tpr))\n",
        "    res_fpr.append(mean(fpr))\n",
        "    print('---------------------')\n",
        "\n",
        "    acc = accuracy_score(pred_values , y_test)\n",
        "    acc_score.append(acc)\n",
        "     \n",
        "avg_acc_score = np.sum(acc_score)/10\n",
        "total_tpr=np.sum(res_tpr)/10\n",
        "total_fpr=np.sum(res_fpr)/10\n",
        "print('\\n\\n',' total_tpr=%.4f total_fpr=%.3f' % (round(total_tpr,2),round(total_fpr,2)))\n",
        "#print('\\n\\n','accuracy of each fold - {}'.format(acc_score))\n",
        "print('\\n\\n','Avg accuracy : {}'.format(avg_acc_score))"
      ],
      "metadata": {
        "colab": {
          "base_uri": "https://localhost:8080/"
        },
        "id": "boR6aVribuHU",
        "outputId": "c99e5b7a-1087-4023-ca9b-80be14b8a9f7"
      },
      "execution_count": 17,
      "outputs": [
        {
          "output_type": "stream",
          "name": "stdout",
          "text": [
            "True Positives: 0\n",
            "False Positives: 3\n",
            "True Negatives: 2971\n",
            "False Negatives: 26\n",
            "tpr=0.0000 fpr=0.001\n",
            "x\n",
            "---------------------\n",
            "True Positives: 0\n",
            "False Positives: 1\n",
            "True Negatives: 2968\n",
            "False Negatives: 31\n",
            "tpr=0.0000 fpr=0.000\n",
            "x\n",
            "---------------------\n",
            "True Positives: 0\n",
            "False Positives: 1\n",
            "True Negatives: 2973\n",
            "False Negatives: 26\n",
            "tpr=0.0000 fpr=0.000\n",
            "x\n",
            "---------------------\n",
            "True Positives: 0\n",
            "False Positives: 4\n",
            "True Negatives: 2968\n",
            "False Negatives: 28\n",
            "tpr=0.0000 fpr=0.001\n",
            "x\n",
            "---------------------\n",
            "True Positives: 0\n",
            "False Positives: 1\n",
            "True Negatives: 2965\n",
            "False Negatives: 34\n",
            "tpr=0.0000 fpr=0.000\n",
            "x\n",
            "---------------------\n",
            "True Positives: 0\n",
            "False Positives: 2\n",
            "True Negatives: 2979\n",
            "False Negatives: 19\n",
            "tpr=0.0000 fpr=0.001\n",
            "x\n",
            "---------------------\n",
            "True Positives: 1\n",
            "False Positives: 2\n",
            "True Negatives: 2971\n",
            "False Negatives: 26\n",
            "tpr=0.0370 fpr=0.001\n",
            "x\n",
            "---------------------\n",
            "True Positives: 0\n",
            "False Positives: 1\n",
            "True Negatives: 2969\n",
            "False Negatives: 30\n",
            "tpr=0.0000 fpr=0.000\n",
            "x\n",
            "---------------------\n",
            "True Positives: 0\n",
            "False Positives: 1\n",
            "True Negatives: 2970\n",
            "False Negatives: 29\n",
            "tpr=0.0000 fpr=0.000\n",
            "x\n",
            "---------------------\n",
            "True Positives: 0\n",
            "False Positives: 2\n",
            "True Negatives: 2971\n",
            "False Negatives: 27\n",
            "tpr=0.0000 fpr=0.001\n",
            "x\n",
            "---------------------\n",
            "\n",
            "\n",
            "  total_tpr=0.0000 total_fpr=0.000\n",
            "\n",
            "\n",
            " Avg accuracy : 0.9902000000000001\n"
          ]
        }
      ]
    },
    {
      "cell_type": "code",
      "source": [
        "import numpy as np\n",
        "import matplotlib.pyplot as plt\n",
        "\n",
        "from sklearn import svm, datasets\n",
        "from sklearn.metrics import auc\n",
        "from sklearn.metrics import RocCurveDisplay\n",
        "from sklearn.model_selection import StratifiedKFold\n",
        "#from scipy import interp\n",
        "tprs = []\n",
        "aucs = []\n",
        "mean_fpr = np.linspace(0, 1, 100)\n",
        "plt.figure(figsize=(6,5))\n",
        "i = 0\n",
        "for train, test in cv.split(X, y):\n",
        "    probas_ = logisticRegr.fit(x_train, y_train).predict_proba(x_test)\n",
        "    # Compute ROC curve and area the curve\n",
        "    fpr, tpr, thresholds = roc_curve(y_test, probas_[:, 1])\n",
        "    tprs.append(np.interp(mean_fpr, fpr, tpr))\n",
        "    tprs[-1][0] = 0.0\n",
        "    roc_auc = auc(fpr, tpr)\n",
        "    aucs.append(roc_auc)\n",
        "    plt.plot(fpr, tpr, lw=1, alpha=0.3,\n",
        "             label='ROC fold %d (AUC = %0.2f)' % (i, roc_auc))\n",
        "\n",
        "    i += 1\n",
        "plt.plot([0, 1], [0, 1], linestyle='--', lw=2, color='r',\n",
        "         label='Chance', alpha=.8)\n",
        "\n",
        "mean_tpr = np.mean(tprs, axis=0)\n",
        "mean_tpr[-1] = 1.0\n",
        "mean_auc = auc(mean_fpr, mean_tpr)\n",
        "std_auc = np.std(aucs)\n",
        "plt.plot(mean_fpr, mean_tpr, color='b',\n",
        "         label=r'Mean ROC (AUC = %0.2f $\\pm$ %0.2f)' % (mean_auc, std_auc),\n",
        "         lw=2, alpha=.8)\n",
        "\n",
        "std_tpr = np.std(tprs, axis=0)\n",
        "tprs_upper = np.minimum(mean_tpr + std_tpr, 1)\n",
        "tprs_lower = np.maximum(mean_tpr - std_tpr, 0)\n",
        "plt.fill_between(mean_fpr, tprs_lower, tprs_upper, color='grey', alpha=.2,\n",
        "                 label=r'$\\pm$ 1 std. dev.')\n",
        "\n",
        "plt.xlim([-0.01, 1.01])\n",
        "plt.ylim([-0.01, 1.01])\n",
        "plt.xlabel('False Positive Rate',fontsize=18)\n",
        "plt.ylabel('True Positive Rate',fontsize=18)\n",
        "plt.title('Cross-Validation ROC of logistic regression',fontsize=8)\n",
        "plt.legend(loc=\"lower right\", prop={'size': 8})\n",
        "plt.show()"
      ],
      "metadata": {
        "colab": {
          "base_uri": "https://localhost:8080/",
          "height": 355
        },
        "id": "TtkePo_W6HsY",
        "outputId": "070541c9-79b7-49d5-cedf-7e313871da04"
      },
      "execution_count": 18,
      "outputs": [
        {
          "output_type": "display_data",
          "data": {
            "text/plain": [
              "<Figure size 432x360 with 1 Axes>"
            ],
            "image/png": "[encoded data removed]"
          },
          "metadata": {
            "needs_background": "light"
          }
        }
      ]
    }
  ],
  "metadata": {
    "colab": {
      "collapsed_sections": [],
      "name": "9.7.TUlogesticregression10000.ipynb",
      "provenance": [],
      "include_colab_link": true
    },
    "kernelspec": {
      "display_name": "Python 3",
      "name": "python3"
    },
    "language_info": {
      "name": "python"
    }
  },
  "nbformat": 4,
  "nbformat_minor": 0
}