{
  "cells": [
    {
      "cell_type": "markdown",
      "metadata": {
        "id": "view-in-github",
        "colab_type": "text"
      },
      "source": [
        "<a href=\"https://colab.research.google.com/github/jnsbrdbr/new_thesiis/blob/main/9.5_Tsvm_linear_prediction.ipynb\" target=\"_parent\"><img src=\"https://colab.research.google.com/assets/colab-badge.svg\" alt=\"Open In Colab\"/></a>"
      ]
    },
    {
      "cell_type": "code",
      "execution_count": 1,
      "metadata": {
        "id": "uOqCsikQnFXL"
      },
      "outputs": [],
      "source": [
        "import numpy as np\n",
        "import pandas as pd\n",
        "import seaborn as sns\n",
        "import matplotlib.pyplot as plt\n",
        "import copy\n",
        "from sklearn.model_selection import train_test_split\n",
        "from sklearn.svm import SVC\n",
        "from sklearn import svm\n",
        "from sklearn.svm import LinearSVC\n",
        "from sklearn import metrics\n",
        "from sklearn.metrics import confusion_matrix\n",
        "from numpy import mean\n",
        "from numpy import std\n",
        "from sklearn.model_selection import KFold\n",
        "from sklearn.model_selection import cross_val_score,cross_val_predict\n",
        "\n",
        "from sklearn.metrics import roc_auc_score\n",
        "from sklearn.metrics import roc_curve\n",
        "from matplotlib import pyplot\n",
        "from sklearn.metrics import accuracy_score"
      ]
    },
    {
      "cell_type": "code",
      "execution_count": 2,
      "metadata": {
        "colab": {
          "base_uri": "https://localhost:8080/"
        },
        "id": "TooxtfPanOj6",
        "outputId": "40a4e590-e401-4650-e247-7e606fa62e2d"
      },
      "outputs": [
        {
          "output_type": "stream",
          "name": "stdout",
          "text": [
            "Drive already mounted at /content/drive; to attempt to forcibly remount, call drive.mount(\"/content/drive\", force_remount=True).\n"
          ]
        }
      ],
      "source": [
        "from google.colab import drive\n",
        "drive.mount('/content/drive') "
      ]
    },
    {
      "cell_type": "code",
      "source": [
        "!pip3 install pickle5\n",
        "import pickle5 as pickle"
      ],
      "metadata": {
        "colab": {
          "base_uri": "https://localhost:8080/"
        },
        "id": "UZVx-v6UIQ9W",
        "outputId": "8352faac-d97a-468f-8f43-711de211719d"
      },
      "execution_count": 3,
      "outputs": [
        {
          "output_type": "stream",
          "name": "stdout",
          "text": [
            "Requirement already satisfied: pickle5 in /usr/local/lib/python3.7/dist-packages (0.0.12)\n"
          ]
        }
      ]
    },
    {
      "cell_type": "code",
      "execution_count": 4,
      "metadata": {
        "id": "0OEYsVlrnYg6"
      },
      "outputs": [],
      "source": [
        "with open('/content/drive/MyDrive/10000/Tresult.pkl', \"rb\") as fh:\n",
        "  result = pickle.load(fh)"
      ]
    },
    {
      "cell_type": "code",
      "execution_count": 5,
      "metadata": {
        "colab": {
          "base_uri": "https://localhost:8080/"
        },
        "id": "Jx45_fgfnaKD",
        "outputId": "42998a01-0f7d-4617-e216-d9275990b222"
      },
      "outputs": [
        {
          "output_type": "stream",
          "name": "stdout",
          "text": [
            "               0         1         2         3         4         5         6  \\\n",
            "0      -2.178515 -3.260148 -0.698552 -1.030417 -0.723180 -1.027433 -0.405889   \n",
            "1      -2.178515 -3.260148 -0.698552 -1.030417 -0.723180 -1.027433 -0.405889   \n",
            "2      -2.178515 -3.260148 -0.698552 -1.030417 -0.723180 -1.027433 -0.405889   \n",
            "3      -2.178515 -3.260148 -0.698552 -1.030417 -0.723180 -1.027433 -0.405889   \n",
            "4      -2.178710 -3.260547 -0.698874 -1.030967 -0.723695 -1.028303 -0.406622   \n",
            "...          ...       ...       ...       ...       ...       ...       ...   \n",
            "13209  -2.178515 -3.260148 -0.698552 -1.030417 -0.723180 -1.027433 -0.405889   \n",
            "13210  -2.178515 -3.260148 -0.698552 -1.030417 -0.723180 -1.027433 -0.405889   \n",
            "13211  -2.178515 -3.260148 -0.698552 -1.030417 -0.723180 -1.027433 -0.405889   \n",
            "13212  -2.178515 -3.260148 -0.698552 -1.030417 -0.723180 -1.027433 -0.405889   \n",
            "13213  27.606119  6.905609  0.154864  0.191890  0.097248  0.114301  0.021144   \n",
            "\n",
            "              7         8         9  ...          1         2         3  \\\n",
            "0     -0.059185 -0.526790 -0.190040  ...   0.452139 -1.203407 -0.183899   \n",
            "1     -0.059185 -0.526790 -0.190040  ...   0.452139 -1.203407 -0.183899   \n",
            "2     -0.059185 -0.526790 -0.190040  ...   0.452139 -1.203407 -0.183899   \n",
            "3     -0.059185 -0.526790 -0.190040  ...   0.452139 -1.203407 -0.183899   \n",
            "4     -0.059394 -0.528048 -0.191038  ...  -7.508892  7.994602  0.226101   \n",
            "...         ...       ...       ...  ...        ...       ...       ...   \n",
            "13209 -0.059185 -0.526790 -0.190040  ...   1.554089 -4.346298  9.404540   \n",
            "13210 -0.059185 -0.526790 -0.190040  ...   0.599942 -1.505019 -0.218230   \n",
            "13211 -0.059185 -0.526790 -0.190040  ...  -8.533632  9.178701  0.278730   \n",
            "13212 -0.059185 -0.526790 -0.190040  ...  -8.533631  9.178698  0.278730   \n",
            "13213  0.002302  0.020160  0.004991  ... -11.890588  4.271539  0.100003   \n",
            "\n",
            "              4         5         6         7         8         9  label  \n",
            "0     -0.438911 -0.266164 -0.544673 -0.224884 -0.068575 -0.230930      1  \n",
            "1     -0.438911 -0.266164 -0.544673 -0.224884 -0.068575 -0.230930      1  \n",
            "2     -0.438911 -0.266164 -0.544673 -0.224884 -0.068575 -0.230930      1  \n",
            "3     -0.438911 -0.266164 -0.544673 -0.224884 -0.068575 -0.230930      1  \n",
            "4      0.991238  0.482262  0.829106  0.246306  0.048557  0.160622      1  \n",
            "...         ...       ...       ...       ...       ...       ...    ...  \n",
            "13209  4.676083  1.038614  1.272721  0.249463  0.046943  0.150109      0  \n",
            "13210 -0.586787 -0.370000 -0.787776 -0.380601 -0.129873 -0.451315      0  \n",
            "13211  1.177091  0.579516  1.007372  0.308708  0.063843  0.211098      0  \n",
            "13212  1.177090  0.579515  1.007370  0.308707  0.063843  0.211097      0  \n",
            "13213  0.324583  0.150424  0.249943  0.068055  0.013998  0.046459      0  \n",
            "\n",
            "[13214 rows x 101 columns]\n"
          ]
        }
      ],
      "source": [
        "print(result)"
      ]
    },
    {
      "cell_type": "code",
      "execution_count": 6,
      "metadata": {
        "id": "RUo61kNcnb2_"
      },
      "outputs": [],
      "source": [
        "#divide data in to data_label and non_data label\n",
        "\n",
        "y=result.label\n",
        "pd.options.mode.chained_assignment = None  # default='warn'\n",
        "for i in range(len(y)):\n",
        "  if y[i]==1:\n",
        "    y[i]=0\n",
        "  else:\n",
        "    y[i]=1"
      ]
    },
    {
      "cell_type": "code",
      "source": [
        "result_nonlabel=copy.deepcopy(result)\n",
        "del result_nonlabel['label']\n",
        "X=result_nonlabel"
      ],
      "metadata": {
        "id": "85DjgpO1pi6N"
      },
      "execution_count": 7,
      "outputs": []
    },
    {
      "cell_type": "code",
      "execution_count": 8,
      "metadata": {
        "id": "gmkUKZXcnhFA"
      },
      "outputs": [],
      "source": [
        "#splitting data in to test and train...\n",
        "\n",
        "x_train, x_test, y_train, y_test = train_test_split(X, y, test_size=0.3,shuffle=True)#"
      ]
    },
    {
      "cell_type": "code",
      "execution_count": 9,
      "metadata": {
        "id": "GKxFtxvss57f",
        "colab": {
          "base_uri": "https://localhost:8080/"
        },
        "outputId": "fb43fc2e-6c1b-4aab-d79f-dd5b0dad2d35"
      },
      "outputs": [
        {
          "output_type": "stream",
          "name": "stdout",
          "text": [
            "0.9283732660781842\n"
          ]
        }
      ],
      "source": [
        "#train the data\n",
        "import warnings\n",
        "warnings.filterwarnings('ignore')\n",
        "\n",
        "svclassifier=svm.LinearSVC(C=0.005,max_iter=10000)#,random_state=42\n",
        "svclassifier.fit(x_train, y_train)\n",
        "y_pred = svclassifier.predict(x_test)\n",
        "score = svclassifier.score(x_test, y_test)\n",
        "print(score)"
      ]
    },
    {
      "cell_type": "code",
      "execution_count": 10,
      "metadata": {
        "id": "P3VYgXzNvOsb",
        "colab": {
          "base_uri": "https://localhost:8080/",
          "height": 352
        },
        "outputId": "db04d859-f87c-427c-f923-6af72be32f0f"
      },
      "outputs": [
        {
          "output_type": "stream",
          "name": "stdout",
          "text": [
            "Accuracy:  0.9283732660781842\n",
            "\n",
            "\n"
          ]
        },
        {
          "output_type": "execute_result",
          "data": {
            "text/plain": [
              "<matplotlib.axes._subplots.AxesSubplot at 0x7efc16a95610>"
            ]
          },
          "metadata": {},
          "execution_count": 10
        },
        {
          "output_type": "display_data",
          "data": {
            "text/plain": [
              "<Figure size 432x288 with 2 Axes>"
            ],
            "image/png": "[encoded data removed]"
          },
          "metadata": {
            "needs_background": "light"
          }
        }
      ],
      "source": [
        "#Accuracy\n",
        "\n",
        "print('Accuracy: ',metrics.accuracy_score(y_test, y_pred))\n",
        "print('\\n')\n",
        "#plotting confusion_matrix\n",
        "\n",
        "confusion_matrix = pd.crosstab(y_test, y_pred, rownames=['Actual'], colnames=['Predicted'])\n",
        "sns.heatmap(confusion_matrix, annot=True)"
      ]
    },
    {
      "cell_type": "code",
      "execution_count": 11,
      "metadata": {
        "id": "31NNCWJmva_a",
        "colab": {
          "base_uri": "https://localhost:8080/"
        },
        "outputId": "1bb41b11-6358-4f31-de65-150b7dc01fdf"
      },
      "outputs": [
        {
          "output_type": "stream",
          "name": "stdout",
          "text": [
            "Accuracy: 0.939 (0.009)\n"
          ]
        }
      ],
      "source": [
        "#cross_validation and accracy\n",
        "\n",
        "cv = KFold(n_splits=10, shuffle=True)#, random_state=42\n",
        "scores = cross_val_score(svclassifier, X, y, scoring='accuracy', cv=cv)\n",
        "\n",
        "print('Accuracy: %.3f (%.3f)' % (mean(scores), std(scores)))"
      ]
    },
    {
      "cell_type": "code",
      "execution_count": 12,
      "metadata": {
        "id": "ONkqM93f2MMH",
        "colab": {
          "base_uri": "https://localhost:8080/"
        },
        "outputId": "e5335dfe-f69b-4086-d824-7073bfa2d5a4"
      },
      "outputs": [
        {
          "output_type": "stream",
          "name": "stdout",
          "text": [
            "scores_recall: 0.768 (0.013)\n"
          ]
        }
      ],
      "source": [
        "#recall/TPR\n",
        "\n",
        "cv = KFold(n_splits=10, shuffle=True)#, shuffle=True, random_state=42\n",
        "scores_recall = cross_val_score(svclassifier,X, y, scoring='recall', cv=cv)\n",
        "\n",
        "print('scores_recall: %.3f (%.3f)' % (mean(scores_recall), std(scores_recall)))"
      ]
    },
    {
      "cell_type": "code",
      "execution_count": 13,
      "metadata": {
        "id": "jYO2NfPS2TV8",
        "colab": {
          "base_uri": "https://localhost:8080/"
        },
        "outputId": "46729a3a-bd5b-4d6a-8aa9-17379c00aa6f"
      },
      "outputs": [
        {
          "output_type": "stream",
          "name": "stdout",
          "text": [
            "scores_precision: 0.986 (0.009)\n"
          ]
        }
      ],
      "source": [
        "#precision\n",
        "\n",
        "cv = KFold(n_splits=10, shuffle=True)#, random_state=42\n",
        "scores_precision = cross_val_score(svclassifier, X, y, scoring='precision', cv=cv)\n",
        "\n",
        "print('scores_precision: %.3f (%.3f)' % (mean(scores_precision), std(scores_precision)))"
      ]
    },
    {
      "cell_type": "code",
      "source": [
        "import numpy as np\n",
        "import matplotlib.pyplot as plt\n",
        "\n",
        "from sklearn import svm, datasets\n",
        "from sklearn.metrics import auc\n",
        "from sklearn.metrics import RocCurveDisplay\n",
        "from sklearn.model_selection import StratifiedKFold\n",
        "#from scipy import interp\n",
        "tprs = []\n",
        "aucs = []\n",
        "mean_fpr = np.linspace(0, 1, 100)\n",
        "plt.figure(figsize=(6,5))\n",
        "i = 0\n",
        "for train, test in cv.split(X, y):\n",
        "    probas_ = svclassifier.fit(x_train, y_train)._predict_proba_lr(x_test)\n",
        "    # Compute ROC curve and area the curve\n",
        "    fpr, tpr, thresholds = roc_curve(y_test, probas_[:, 1])\n",
        "    tprs.append(np.interp(mean_fpr, fpr, tpr))\n",
        "    tprs[-1][0] = 0.0\n",
        "    roc_auc = auc(fpr, tpr)\n",
        "    aucs.append(roc_auc)\n",
        "    plt.plot(fpr, tpr, lw=1, alpha=0.3,\n",
        "             label='ROC fold %d (AUC = %0.2f)' % (i, roc_auc))\n",
        "\n",
        "    i += 1\n",
        "plt.plot([0, 1], [0, 1], linestyle='--', lw=2, color='r',\n",
        "         label='Chance', alpha=.8)\n",
        "\n",
        "mean_tpr = np.mean(tprs, axis=0)\n",
        "mean_tpr[-1] = 1.0\n",
        "mean_auc = auc(mean_fpr, mean_tpr)\n",
        "std_auc = np.std(aucs)\n",
        "plt.plot(mean_fpr, mean_tpr, color='b',\n",
        "         label=r'Mean ROC (AUC = %0.2f $\\pm$ %0.2f)' % (mean_auc, std_auc),\n",
        "         lw=2, alpha=.8)\n",
        "\n",
        "std_tpr = np.std(tprs, axis=0)\n",
        "tprs_upper = np.minimum(mean_tpr + std_tpr, 1)\n",
        "tprs_lower = np.maximum(mean_tpr - std_tpr, 0)\n",
        "plt.fill_between(mean_fpr, tprs_lower, tprs_upper, color='grey', alpha=.2,\n",
        "                 label=r'$\\pm$ 1 std. dev.')\n",
        "\n",
        "plt.xlim([-0.01, 1.01])\n",
        "plt.ylim([-0.01, 1.01])\n",
        "plt.xlabel('False Positive Rate',fontsize=18)\n",
        "plt.ylabel('True Positive Rate',fontsize=18)\n",
        "plt.title('Cross-Validation ROC of logistic regression',fontsize=8)\n",
        "plt.legend(loc=\"lower right\", prop={'size': 8})\n",
        "plt.show()"
      ],
      "metadata": {
        "id": "pwn5AM1_qAr8",
        "colab": {
          "base_uri": "https://localhost:8080/",
          "height": 355
        },
        "outputId": "94d8f837-06f9-4ac2-f96e-9a1b93612848"
      },
      "execution_count": 14,
      "outputs": [
        {
          "output_type": "display_data",
          "data": {
            "text/plain": [
              "<Figure size 432x360 with 1 Axes>"
            ],
            "image/png": "[encoded data removed]"
          },
          "metadata": {
            "needs_background": "light"
          }
        }
      ]
    },
    {
      "cell_type": "code",
      "source": [
        "#FPR\n",
        "from sklearn.metrics import confusion_matrix\n",
        "kf = KFold(n_splits=10)\n",
        "res_fpr = list()\n",
        "for train_index , test_index in kf.split(X):\n",
        "    X_train, X_test, y_train, y_test = train_test_split(X, y, test_size=0.3,shuffle=True)\n",
        "    svclassifier.fit(X_train,y_train)\n",
        "    pred_values = svclassifier.predict(X_test)\n",
        "    tn, fp, fn, tp = confusion_matrix(y_test, pred_values, labels=[0, 1]).ravel()\n",
        "    print(f'True Positives: {tp}')\n",
        "    print(f'False Positives: {fp}')\n",
        "    print(f'True Negatives: {tn}')\n",
        "    print(f'False Negatives: {fn}')\n",
        "    fpr=(np.divide(fp,(fp+tn)))\n",
        "    if fp==0:\n",
        "      fpr=0\n",
        "\n",
        "    print('fpr=%.3f' % ( mean(fpr)))\n",
        "    res_fpr.append(mean(fpr))\n",
        "    print('---------------------')\n",
        "\n",
        "total_fpr=np.sum(res_fpr)/10\n",
        "print('\\n\\n','total_fpr=%.3f' % (total_fpr))# total_tpr=%.4f total_tpr,"
      ],
      "metadata": {
        "id": "X1PxeP-gC5Jb",
        "colab": {
          "base_uri": "https://localhost:8080/"
        },
        "outputId": "435474ad-f12a-44b3-87e6-acfa3db01d32"
      },
      "execution_count": 15,
      "outputs": [
        {
          "output_type": "stream",
          "name": "stdout",
          "text": [
            "True Positives: 705\n",
            "False Positives: 18\n",
            "True Negatives: 2971\n",
            "False Negatives: 271\n",
            "fpr=0.006\n",
            "---------------------\n",
            "True Positives: 728\n",
            "False Positives: 20\n",
            "True Negatives: 2948\n",
            "False Negatives: 269\n",
            "fpr=0.007\n",
            "---------------------\n",
            "True Positives: 715\n",
            "False Positives: 16\n",
            "True Negatives: 2989\n",
            "False Negatives: 245\n",
            "fpr=0.005\n",
            "---------------------\n",
            "True Positives: 696\n",
            "False Positives: 11\n",
            "True Negatives: 2977\n",
            "False Negatives: 281\n",
            "fpr=0.004\n",
            "---------------------\n",
            "True Positives: 739\n",
            "False Positives: 18\n",
            "True Negatives: 2932\n",
            "False Negatives: 276\n",
            "fpr=0.006\n",
            "---------------------\n",
            "True Positives: 752\n",
            "False Positives: 15\n",
            "True Negatives: 2936\n",
            "False Negatives: 262\n",
            "fpr=0.005\n",
            "---------------------\n",
            "True Positives: 753\n",
            "False Positives: 10\n",
            "True Negatives: 2950\n",
            "False Negatives: 252\n",
            "fpr=0.003\n",
            "---------------------\n",
            "True Positives: 722\n",
            "False Positives: 12\n",
            "True Negatives: 2949\n",
            "False Negatives: 282\n",
            "fpr=0.004\n",
            "---------------------\n",
            "True Positives: 702\n",
            "False Positives: 14\n",
            "True Negatives: 2967\n",
            "False Negatives: 282\n",
            "fpr=0.005\n",
            "---------------------\n",
            "True Positives: 770\n",
            "False Positives: 14\n",
            "True Negatives: 2915\n",
            "False Negatives: 266\n",
            "fpr=0.005\n",
            "---------------------\n",
            "\n",
            "\n",
            " total_fpr=0.005\n"
          ]
        }
      ]
    }
  ],
  "metadata": {
    "accelerator": "GPU",
    "colab": {
      "collapsed_sections": [],
      "name": "9.5_Tsvm_linear/prediction.ipynb",
      "provenance": [],
      "authorship_tag": "ABX9TyNxAK74497YvZkP/66Atc7f",
      "include_colab_link": true
    },
    "kernelspec": {
      "display_name": "Python 3",
      "name": "python3"
    },
    "language_info": {
      "name": "python"
    }
  },
  "nbformat": 4,
  "nbformat_minor": 0
}