{
  "nbformat": 4,
  "nbformat_minor": 0,
  "metadata": {
    "colab": {
      "name": "9.6_Gaussian Svm/prediction.ipynb",
      "provenance": [],
      "collapsed_sections": [],
      "authorship_tag": "ABX9TyPOjEKHl0uRS51pviEM0qNy",
      "include_colab_link": true
    },
    "kernelspec": {
      "name": "python3",
      "display_name": "Python 3"
    },
    "language_info": {
      "name": "python"
    }
  },
  "cells": [
    {
      "cell_type": "markdown",
      "metadata": {
        "id": "view-in-github",
        "colab_type": "text"
      },
      "source": [
        "<a href=\"https://colab.research.google.com/github/jnsbrdbr/new_thesiis/blob/main/9.6_Gaussian_Svm_prediction.ipynb\" target=\"_parent\"><img src=\"https://colab.research.google.com/assets/colab-badge.svg\" alt=\"Open In Colab\"/></a>"
      ]
    },
    {
      "cell_type": "code",
      "execution_count": 1,
      "metadata": {
        "id": "izqrRel7V9Yg"
      },
      "outputs": [],
      "source": [
        "import numpy as np\n",
        "import pandas as pd\n",
        "import seaborn as sns\n",
        "import matplotlib.pyplot as plt\n",
        "import copy\n",
        "from sklearn.model_selection import train_test_split\n",
        "from sklearn.svm import SVC\n",
        "from sklearn import svm\n",
        "from sklearn.gaussian_process.kernels import RBF\n",
        "from sklearn import metrics\n",
        "from sklearn.metrics import confusion_matrix\n",
        "from numpy import mean\n",
        "from numpy import std\n",
        "from sklearn.model_selection import KFold\n",
        "from sklearn.model_selection import cross_val_score,cross_val_predict\n",
        "from sklearn.metrics import auc\n",
        "from sklearn.metrics import RocCurveDisplay\n",
        "from sklearn.model_selection import StratifiedKFold\n",
        "from sklearn.metrics import roc_auc_score\n",
        "from sklearn.metrics import roc_curve\n",
        "from matplotlib import pyplot\n",
        "from sklearn.metrics import accuracy_score"
      ]
    },
    {
      "cell_type": "code",
      "source": [
        "from google.colab import drive\n",
        "drive.mount('/content/drive') "
      ],
      "metadata": {
        "colab": {
          "base_uri": "https://localhost:8080/"
        },
        "id": "Cn7BAmK3WIle",
        "outputId": "4bf6b99a-75a4-49d0-e004-5229f21fb39e"
      },
      "execution_count": 2,
      "outputs": [
        {
          "output_type": "stream",
          "name": "stdout",
          "text": [
            "Mounted at /content/drive\n"
          ]
        }
      ]
    },
    {
      "cell_type": "code",
      "source": [
        "!pip3 install pickle5\n",
        "import pickle5 as pickle"
      ],
      "metadata": {
        "colab": {
          "base_uri": "https://localhost:8080/"
        },
        "id": "qALYdrM1GhfD",
        "outputId": "230f6f14-14d3-41d8-ded1-7511165fcfff"
      },
      "execution_count": 3,
      "outputs": [
        {
          "output_type": "stream",
          "name": "stdout",
          "text": [
            "Collecting pickle5\n",
            "  Downloading pickle5-0.0.12-cp37-cp37m-manylinux_2_5_x86_64.manylinux1_x86_64.whl (256 kB)\n",
            "\u001b[?25l\r\u001b[K     |█▎                              | 10 kB 10.2 MB/s eta 0:00:01\r\u001b[K     |██▋                             | 20 kB 15.8 MB/s eta 0:00:01\r\u001b[K     |███▉                            | 30 kB 19.5 MB/s eta 0:00:01\r\u001b[K     |█████▏                          | 40 kB 23.3 MB/s eta 0:00:01\r\u001b[K     |██████▍                         | 51 kB 21.4 MB/s eta 0:00:01\r\u001b[K     |███████▊                        | 61 kB 23.5 MB/s eta 0:00:01\r\u001b[K     |█████████                       | 71 kB 23.9 MB/s eta 0:00:01\r\u001b[K     |██████████▎                     | 81 kB 20.9 MB/s eta 0:00:01\r\u001b[K     |███████████▌                    | 92 kB 22.5 MB/s eta 0:00:01\r\u001b[K     |████████████▉                   | 102 kB 24.2 MB/s eta 0:00:01\r\u001b[K     |██████████████                  | 112 kB 24.2 MB/s eta 0:00:01\r\u001b[K     |███████████████▍                | 122 kB 24.2 MB/s eta 0:00:01\r\u001b[K     |████████████████▋               | 133 kB 24.2 MB/s eta 0:00:01\r\u001b[K     |██████████████████              | 143 kB 24.2 MB/s eta 0:00:01\r\u001b[K     |███████████████████▏            | 153 kB 24.2 MB/s eta 0:00:01\r\u001b[K     |████████████████████▌           | 163 kB 24.2 MB/s eta 0:00:01\r\u001b[K     |█████████████████████▊          | 174 kB 24.2 MB/s eta 0:00:01\r\u001b[K     |███████████████████████         | 184 kB 24.2 MB/s eta 0:00:01\r\u001b[K     |████████████████████████▎       | 194 kB 24.2 MB/s eta 0:00:01\r\u001b[K     |█████████████████████████▋      | 204 kB 24.2 MB/s eta 0:00:01\r\u001b[K     |██████████████████████████▉     | 215 kB 24.2 MB/s eta 0:00:01\r\u001b[K     |████████████████████████████▏   | 225 kB 24.2 MB/s eta 0:00:01\r\u001b[K     |█████████████████████████████▍  | 235 kB 24.2 MB/s eta 0:00:01\r\u001b[K     |██████████████████████████████▊ | 245 kB 24.2 MB/s eta 0:00:01\r\u001b[K     |████████████████████████████████| 256 kB 24.2 MB/s eta 0:00:01\r\u001b[K     |████████████████████████████████| 256 kB 24.2 MB/s \n",
            "\u001b[?25hInstalling collected packages: pickle5\n",
            "Successfully installed pickle5-0.0.12\n"
          ]
        }
      ]
    },
    {
      "cell_type": "code",
      "source": [
        "with open('/content/drive/MyDrive/10000/Tresult.pkl', \"rb\") as fh:\n",
        "  result = pickle.load(fh)"
      ],
      "metadata": {
        "id": "iOj-zRxCWKvx"
      },
      "execution_count": 4,
      "outputs": []
    },
    {
      "cell_type": "code",
      "source": [
        "print(result)"
      ],
      "metadata": {
        "colab": {
          "base_uri": "https://localhost:8080/"
        },
        "id": "m6zC3v3cWMMH",
        "outputId": "31bb6465-963e-4dab-e872-364e91fc096e"
      },
      "execution_count": 5,
      "outputs": [
        {
          "output_type": "stream",
          "name": "stdout",
          "text": [
            "               0         1         2         3         4         5         6  \\\n",
            "0      -2.178515 -3.260148 -0.698552 -1.030417 -0.723180 -1.027433 -0.405889   \n",
            "1      -2.178515 -3.260148 -0.698552 -1.030417 -0.723180 -1.027433 -0.405889   \n",
            "2      -2.178515 -3.260148 -0.698552 -1.030417 -0.723180 -1.027433 -0.405889   \n",
            "3      -2.178515 -3.260148 -0.698552 -1.030417 -0.723180 -1.027433 -0.405889   \n",
            "4      -2.178710 -3.260547 -0.698874 -1.030967 -0.723695 -1.028303 -0.406622   \n",
            "...          ...       ...       ...       ...       ...       ...       ...   \n",
            "13209  -2.178515 -3.260148 -0.698552 -1.030417 -0.723180 -1.027433 -0.405889   \n",
            "13210  -2.178515 -3.260148 -0.698552 -1.030417 -0.723180 -1.027433 -0.405889   \n",
            "13211  -2.178515 -3.260148 -0.698552 -1.030417 -0.723180 -1.027433 -0.405889   \n",
            "13212  -2.178515 -3.260148 -0.698552 -1.030417 -0.723180 -1.027433 -0.405889   \n",
            "13213  27.606119  6.905609  0.154864  0.191890  0.097248  0.114301  0.021144   \n",
            "\n",
            "              7         8         9  ...          1         2         3  \\\n",
            "0     -0.059185 -0.526790 -0.190040  ...   0.452139 -1.203407 -0.183899   \n",
            "1     -0.059185 -0.526790 -0.190040  ...   0.452139 -1.203407 -0.183899   \n",
            "2     -0.059185 -0.526790 -0.190040  ...   0.452139 -1.203407 -0.183899   \n",
            "3     -0.059185 -0.526790 -0.190040  ...   0.452139 -1.203407 -0.183899   \n",
            "4     -0.059394 -0.528048 -0.191038  ...  -7.508892  7.994602  0.226101   \n",
            "...         ...       ...       ...  ...        ...       ...       ...   \n",
            "13209 -0.059185 -0.526790 -0.190040  ...   1.554089 -4.346298  9.404540   \n",
            "13210 -0.059185 -0.526790 -0.190040  ...   0.599942 -1.505019 -0.218230   \n",
            "13211 -0.059185 -0.526790 -0.190040  ...  -8.533632  9.178701  0.278730   \n",
            "13212 -0.059185 -0.526790 -0.190040  ...  -8.533631  9.178698  0.278730   \n",
            "13213  0.002302  0.020160  0.004991  ... -11.890588  4.271539  0.100003   \n",
            "\n",
            "              4         5         6         7         8         9  label  \n",
            "0     -0.438911 -0.266164 -0.544673 -0.224884 -0.068575 -0.230930      1  \n",
            "1     -0.438911 -0.266164 -0.544673 -0.224884 -0.068575 -0.230930      1  \n",
            "2     -0.438911 -0.266164 -0.544673 -0.224884 -0.068575 -0.230930      1  \n",
            "3     -0.438911 -0.266164 -0.544673 -0.224884 -0.068575 -0.230930      1  \n",
            "4      0.991238  0.482262  0.829106  0.246306  0.048557  0.160622      1  \n",
            "...         ...       ...       ...       ...       ...       ...    ...  \n",
            "13209  4.676083  1.038614  1.272721  0.249463  0.046943  0.150109      0  \n",
            "13210 -0.586787 -0.370000 -0.787776 -0.380601 -0.129873 -0.451315      0  \n",
            "13211  1.177091  0.579516  1.007372  0.308708  0.063843  0.211098      0  \n",
            "13212  1.177090  0.579515  1.007370  0.308707  0.063843  0.211097      0  \n",
            "13213  0.324583  0.150424  0.249943  0.068055  0.013998  0.046459      0  \n",
            "\n",
            "[13214 rows x 101 columns]\n"
          ]
        }
      ]
    },
    {
      "cell_type": "code",
      "source": [
        "#divide data in to data_label and non_data label\n",
        "\n",
        "y=result.label\n",
        "pd.options.mode.chained_assignment = None  # default='warn'\n",
        "for i in range(len(y)):\n",
        "  if y[i]==1:\n",
        "    y[i]=0\n",
        "  else:\n",
        "    y[i]=1"
      ],
      "metadata": {
        "id": "5H_99vIpWZjm"
      },
      "execution_count": 6,
      "outputs": []
    },
    {
      "cell_type": "code",
      "source": [
        "result_nonlabel=copy.deepcopy(result)\n",
        "del result_nonlabel['label']\n",
        "X=result_nonlabel"
      ],
      "metadata": {
        "id": "U7t-4hZL_1Az"
      },
      "execution_count": 7,
      "outputs": []
    },
    {
      "cell_type": "code",
      "source": [
        "#splitting data in to test and train...\n",
        "\n",
        "x_train, x_test, y_train, y_test = train_test_split(X, y, test_size=0.3,shuffle=True)"
      ],
      "metadata": {
        "id": "38-4t4XiWdGb"
      },
      "execution_count": 8,
      "outputs": []
    },
    {
      "cell_type": "code",
      "source": [
        "len(y_test)"
      ],
      "metadata": {
        "colab": {
          "base_uri": "https://localhost:8080/"
        },
        "id": "6wLt8ZMHFeVS",
        "outputId": "717fbf57-4c4f-46bf-b64a-ce9587e38593"
      },
      "execution_count": 9,
      "outputs": [
        {
          "output_type": "execute_result",
          "data": {
            "text/plain": [
              "3965"
            ]
          },
          "metadata": {},
          "execution_count": 9
        }
      ]
    },
    {
      "cell_type": "code",
      "source": [
        "y_test_arr=np.array(y_test)"
      ],
      "metadata": {
        "id": "-VbeCfETFDZI"
      },
      "execution_count": 10,
      "outputs": []
    },
    {
      "cell_type": "code",
      "source": [
        "count=0\n",
        "for i in range(0,len(y_test_arr)):\n",
        "  if y_test_arr[i]==0:\n",
        "    count+=1\n",
        "print(count)"
      ],
      "metadata": {
        "colab": {
          "base_uri": "https://localhost:8080/"
        },
        "id": "Sti79NdVFApi",
        "outputId": "7baef438-6d72-4f1e-84ef-1ad73c542874"
      },
      "execution_count": 11,
      "outputs": [
        {
          "output_type": "stream",
          "name": "stdout",
          "text": [
            "2986\n"
          ]
        }
      ]
    },
    {
      "cell_type": "code",
      "source": [
        "#train the data\n",
        "\n",
        "k=svm.SVC(kernel=\"rbf\",gamma=50, C=0.01, probability=True)#gamma=0.0001, C=10#gamma=0.1, C=10,\n",
        "gpc = k.fit(x_train, y_train)\n",
        "predictions = gpc.predict(x_test)\n",
        "score = gpc.score(x_test, y_test)\n",
        "print(score)"
      ],
      "metadata": {
        "id": "vL-wevfzWgK3",
        "colab": {
          "base_uri": "https://localhost:8080/"
        },
        "outputId": "850f67c8-f389-4f8d-b3fb-d502325eec22"
      },
      "execution_count": 12,
      "outputs": [
        {
          "output_type": "stream",
          "name": "stdout",
          "text": [
            "0.7530895334174023\n"
          ]
        }
      ]
    },
    {
      "cell_type": "code",
      "source": [
        "#Accuracy\n",
        "\n",
        "print('Accuracy: ',metrics.accuracy_score(y_test, predictions))\n",
        "print('\\n')\n",
        "#plotting confusion_matrix\n",
        "\n",
        "confusion_matrix = pd.crosstab(y_test, predictions, rownames=['Actual'], colnames=['Predicted'])\n",
        "sns.heatmap(confusion_matrix, annot=True)"
      ],
      "metadata": {
        "colab": {
          "base_uri": "https://localhost:8080/",
          "height": 352
        },
        "id": "_NeVgTe0X1tc",
        "outputId": "42c24ea3-b57c-4e6e-e944-8732dad83e37"
      },
      "execution_count": 13,
      "outputs": [
        {
          "output_type": "stream",
          "name": "stdout",
          "text": [
            "Accuracy:  0.7530895334174023\n",
            "\n",
            "\n"
          ]
        },
        {
          "output_type": "execute_result",
          "data": {
            "text/plain": [
              "<matplotlib.axes._subplots.AxesSubplot at 0x7f11d0f602d0>"
            ]
          },
          "metadata": {},
          "execution_count": 13
        },
        {
          "output_type": "display_data",
          "data": {
            "text/plain": [
              "<Figure size 432x288 with 2 Axes>"
            ],
            "image/png": "[encoded data removed]"
          },
          "metadata": {
            "needs_background": "light"
          }
        }
      ]
    },
    {
      "cell_type": "code",
      "source": [
        "#cross_validation and accracy\n",
        "\n",
        "cv = KFold(n_splits=10, shuffle=True)# x_train, y_train, random_state=42\n",
        "scores = cross_val_score(k,X, y, scoring='accuracy', cv=cv)\n",
        "\n",
        "print('Accuracy: %.3f (%.3f)' % (mean(scores), std(scores)))"
      ],
      "metadata": {
        "colab": {
          "base_uri": "https://localhost:8080/"
        },
        "id": "N1nSCclzAvMj",
        "outputId": "cb0027e8-e1f8-417c-c776-332451cb93c7"
      },
      "execution_count": 14,
      "outputs": [
        {
          "output_type": "stream",
          "name": "stdout",
          "text": [
            "Accuracy: 0.750 (0.015)\n"
          ]
        }
      ]
    },
    {
      "cell_type": "code",
      "source": [
        "#recall/TPR\n",
        "\n",
        "cv = KFold(n_splits=10, shuffle=True)#, random_state=42\n",
        "scores_recall = cross_val_score(k,X, y, scoring='recall', cv=cv)\n",
        "\n",
        "print('scores_recall: %.3f (%.3f)' % (mean(scores_recall), std(scores_recall)))"
      ],
      "metadata": {
        "colab": {
          "base_uri": "https://localhost:8080/"
        },
        "id": "YY9qChEEA2k5",
        "outputId": "45da5cfb-c9ca-4456-8dfb-bd61c5b3aaf7"
      },
      "execution_count": 15,
      "outputs": [
        {
          "output_type": "stream",
          "name": "stdout",
          "text": [
            "scores_recall: 0.000 (0.000)\n"
          ]
        }
      ]
    },
    {
      "cell_type": "code",
      "source": [
        "#precision\n",
        "import warnings\n",
        "warnings.filterwarnings('ignore') \n",
        "\n",
        "cv = KFold(n_splits=10, shuffle=True)#, random_state=42\n",
        "scores_precision = cross_val_score(k, X, y, scoring='precision', cv=cv)\n",
        "\n",
        "print('scores_precision: %.3f (%.3f)' % (mean(scores_precision), std(scores_precision)))"
      ],
      "metadata": {
        "id": "U6O2ZIvPA5Zh",
        "colab": {
          "base_uri": "https://localhost:8080/"
        },
        "outputId": "75b89804-a020-4cb5-943d-23e0dc7c74c8"
      },
      "execution_count": 16,
      "outputs": [
        {
          "output_type": "stream",
          "name": "stdout",
          "text": [
            "scores_precision: 0.000 (0.000)\n"
          ]
        }
      ]
    },
    {
      "cell_type": "code",
      "source": [
        "x=np.array(X)\n",
        "y_beta=np.array(y)"
      ],
      "metadata": {
        "id": "jEHGqnwGvxkO"
      },
      "execution_count": 17,
      "outputs": []
    },
    {
      "cell_type": "code",
      "source": [
        "#ROC_AUC\n",
        "\n",
        "tprs = []\n",
        "aucs = []\n",
        "mean_fpr = np.linspace(0, 1, 100)\n",
        "plt.figure(figsize=(6,5))\n",
        "i = 0\n",
        "for train, test in cv.split(x, y_beta):\n",
        "    probas_ = k.fit(x[train], y_beta[train]).predict_proba(x[test])\n",
        "    # Compute ROC curve and area the curve\n",
        "    fpr, tpr, thresholds = roc_curve(y_beta[test], probas_[:, 1])\n",
        "    tprs.append(np.interp(mean_fpr, fpr, tpr))\n",
        "    tprs[-1][0] = 0.0\n",
        "    roc_auc = auc(fpr, tpr)\n",
        "    aucs.append(roc_auc)\n",
        "    plt.plot(fpr, tpr, lw=1, alpha=0.3,\n",
        "             label='ROC fold %d (AUC = %0.2f)' % (i, roc_auc))\n",
        "\n",
        "    i += 1\n",
        "plt.plot([0, 1], [0, 1], linestyle='--', lw=2, color='r',\n",
        "         label='Chance', alpha=.8)\n",
        "\n",
        "mean_tpr = np.mean(tprs, axis=0)\n",
        "mean_tpr[-1] = 1.0\n",
        "mean_auc = auc(mean_fpr, mean_tpr)\n",
        "std_auc = np.std(aucs)\n",
        "plt.plot(mean_fpr, mean_tpr, color='b',\n",
        "         label=r'Mean ROC (AUC = %0.2f $\\pm$ %0.2f)' % (mean_auc, std_auc),\n",
        "         lw=2, alpha=.8)\n",
        "\n",
        "std_tpr = np.std(tprs, axis=0)\n",
        "tprs_upper = np.minimum(mean_tpr + std_tpr, 1)\n",
        "tprs_lower = np.maximum(mean_tpr - std_tpr, 0)\n",
        "plt.fill_between(mean_fpr, tprs_lower, tprs_upper, color='grey', alpha=.2,\n",
        "                 label=r'$\\pm$ 1 std. dev.')\n",
        "\n",
        "plt.xlim([-0.01, 1.01])\n",
        "plt.ylim([-0.01, 1.01])\n",
        "plt.xlabel('False Positive Rate',fontsize=18)\n",
        "plt.ylabel('True Positive Rate',fontsize=18)\n",
        "plt.title('Cross-Validation ROC of logistic regression',fontsize=8)\n",
        "plt.legend(loc=\"lower right\", prop={'size': 8})\n",
        "plt.show()"
      ],
      "metadata": {
        "id": "RmPNJMhtAs7T",
        "colab": {
          "base_uri": "https://localhost:8080/",
          "height": 355
        },
        "outputId": "6aa197f7-b542-4cea-dff0-4e0de62a6c84"
      },
      "execution_count": 18,
      "outputs": [
        {
          "output_type": "display_data",
          "data": {
            "text/plain": [
              "<Figure size 432x360 with 1 Axes>"
            ],
            "image/png": "[encoded data removed]"
          },
          "metadata": {
            "needs_background": "light"
          }
        }
      ]
    },
    {
      "cell_type": "code",
      "source": [
        "#FPR\n",
        "from sklearn.metrics import confusion_matrix\n",
        "\n",
        "kf = KFold(n_splits=10)#, random_state=None\n",
        "res_fpr = list()\n",
        "for train_index , test_index in kf.split(X):\n",
        "    X_train, X_test, Y_train, Y_test = train_test_split(X, y, test_size=0.3)\n",
        "    k.fit(X_train,Y_train)\n",
        "    pred_values = k.predict(X_test)\n",
        "    tn, fp, fn, tp = confusion_matrix(Y_test, pred_values, labels=[0, 1]).ravel()\n",
        "    print(f'True Positives: {tp}')\n",
        "    print(f'False Positives: {fp}')\n",
        "    print(f'True Negatives: {tn}')\n",
        "    print(f'False Negatives: {fn}')\n",
        "    fpr=(np.divide(fp,(fp+tn)))\n",
        "    if fp==0:\n",
        "      fpr=0\n",
        "\n",
        "    print('length of y_test:',len(Y_test))\n",
        "    y_test_arr=np.array(Y_test)\n",
        "    count=0\n",
        "    con=0\n",
        "    for i in range(0,len(y_test_arr)):\n",
        "       if y_test_arr[i]==1:\n",
        "          count+=1\n",
        "       else:\n",
        "         con+=1\n",
        "    print(\"number of fake:\",count)\n",
        "    print(\"number of real:\",con)\n",
        "\n",
        "    print('fpr=%.3f' % (mean(fpr)))#tpr=%.4f : mean(tpr), \n",
        "    res_fpr.append(mean(fpr))\n",
        "    print('---------------------')\n",
        "\n",
        "total_fpr=np.sum(res_fpr)/10\n",
        "print('\\n\\n','total_fpr=%.3f' % (total_fpr))# total_tpr=%.4f :total_tpr,"
      ],
      "metadata": {
        "id": "u_-Vh_UgJztI",
        "colab": {
          "base_uri": "https://localhost:8080/"
        },
        "outputId": "30c64c32-2799-4bb5-dbdb-5e6fc9a6fe77"
      },
      "execution_count": 19,
      "outputs": [
        {
          "output_type": "stream",
          "name": "stdout",
          "text": [
            "True Positives: 0\n",
            "False Positives: 0\n",
            "True Negatives: 2958\n",
            "False Negatives: 1007\n",
            "length of y_test: 3965\n",
            "number of fake: 1007\n",
            "number of real: 2958\n",
            "fpr=0.000\n",
            "---------------------\n",
            "True Positives: 0\n",
            "False Positives: 0\n",
            "True Negatives: 2984\n",
            "False Negatives: 981\n",
            "length of y_test: 3965\n",
            "number of fake: 981\n",
            "number of real: 2984\n",
            "fpr=0.000\n",
            "---------------------\n",
            "True Positives: 0\n",
            "False Positives: 0\n",
            "True Negatives: 2941\n",
            "False Negatives: 1024\n",
            "length of y_test: 3965\n",
            "number of fake: 1024\n",
            "number of real: 2941\n",
            "fpr=0.000\n",
            "---------------------\n",
            "True Positives: 0\n",
            "False Positives: 0\n",
            "True Negatives: 2941\n",
            "False Negatives: 1024\n",
            "length of y_test: 3965\n",
            "number of fake: 1024\n",
            "number of real: 2941\n",
            "fpr=0.000\n",
            "---------------------\n",
            "True Positives: 0\n",
            "False Positives: 0\n",
            "True Negatives: 2976\n",
            "False Negatives: 989\n",
            "length of y_test: 3965\n",
            "number of fake: 989\n",
            "number of real: 2976\n",
            "fpr=0.000\n",
            "---------------------\n",
            "True Positives: 0\n",
            "False Positives: 0\n",
            "True Negatives: 2949\n",
            "False Negatives: 1016\n",
            "length of y_test: 3965\n",
            "number of fake: 1016\n",
            "number of real: 2949\n",
            "fpr=0.000\n",
            "---------------------\n",
            "True Positives: 0\n",
            "False Positives: 0\n",
            "True Negatives: 2931\n",
            "False Negatives: 1034\n",
            "length of y_test: 3965\n",
            "number of fake: 1034\n",
            "number of real: 2931\n",
            "fpr=0.000\n",
            "---------------------\n",
            "True Positives: 0\n",
            "False Positives: 0\n",
            "True Negatives: 2986\n",
            "False Negatives: 979\n",
            "length of y_test: 3965\n",
            "number of fake: 979\n",
            "number of real: 2986\n",
            "fpr=0.000\n",
            "---------------------\n",
            "True Positives: 0\n",
            "False Positives: 0\n",
            "True Negatives: 2943\n",
            "False Negatives: 1022\n",
            "length of y_test: 3965\n",
            "number of fake: 1022\n",
            "number of real: 2943\n",
            "fpr=0.000\n",
            "---------------------\n",
            "True Positives: 0\n",
            "False Positives: 0\n",
            "True Negatives: 2970\n",
            "False Negatives: 995\n",
            "length of y_test: 3965\n",
            "number of fake: 995\n",
            "number of real: 2970\n",
            "fpr=0.000\n",
            "---------------------\n",
            "\n",
            "\n",
            " total_fpr=0.000\n"
          ]
        }
      ]
    }
  ]
}