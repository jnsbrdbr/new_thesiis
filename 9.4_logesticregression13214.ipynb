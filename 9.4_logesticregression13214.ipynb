{
  "cells": [
    {
      "cell_type": "markdown",
      "metadata": {
        "id": "view-in-github",
        "colab_type": "text"
      },
      "source": [
        "<a href=\"https://colab.research.google.com/github/jnsbrdbr/new_thesiis/blob/main/9.4_logesticregression13214.ipynb\" target=\"_parent\"><img src=\"https://colab.research.google.com/assets/colab-badge.svg\" alt=\"Open In Colab\"/></a>"
      ]
    },
    {
      "cell_type": "code",
      "execution_count": 1,
      "metadata": {
        "id": "ow-ojNMP9r-W"
      },
      "outputs": [],
      "source": [
        "import numpy as np\n",
        "import pandas as pd\n",
        "import seaborn as sns\n",
        "import matplotlib.pyplot as plt\n",
        "import copy\n",
        "from sklearn.model_selection import train_test_split\n",
        "from sklearn.linear_model import LogisticRegression\n",
        "from sklearn import metrics\n",
        "from sklearn.metrics import confusion_matrix\n",
        "from numpy import mean\n",
        "from numpy import std\n",
        "from sklearn.model_selection import KFold\n",
        "from sklearn.model_selection import cross_val_score,cross_val_predict\n",
        "from sklearn.datasets import make_classification\n",
        "from sklearn.metrics import roc_auc_score\n",
        "from sklearn.metrics import roc_curve\n",
        "from matplotlib import pyplot\n",
        "from sklearn.metrics import accuracy_score"
      ]
    },
    {
      "cell_type": "code",
      "execution_count": 2,
      "metadata": {
        "colab": {
          "base_uri": "https://localhost:8080/"
        },
        "id": "HHnC-lHa9rvk",
        "outputId": "894c3884-7445-4866-c86e-52a68beb068a"
      },
      "outputs": [
        {
          "output_type": "stream",
          "name": "stdout",
          "text": [
            "Mounted at /content/drive\n"
          ]
        }
      ],
      "source": [
        "from google.colab import drive\n",
        "drive.mount('/content/drive') "
      ]
    },
    {
      "cell_type": "code",
      "source": [
        "!pip3 install pickle5\n",
        "import pickle5 as pickle"
      ],
      "metadata": {
        "colab": {
          "base_uri": "https://localhost:8080/"
        },
        "id": "iHZ6901W0O0l",
        "outputId": "d3599f32-c32a-437b-9d96-ffb8e04ed8d6"
      },
      "execution_count": 3,
      "outputs": [
        {
          "output_type": "stream",
          "name": "stdout",
          "text": [
            "Collecting pickle5\n",
            "  Downloading pickle5-0.0.12-cp37-cp37m-manylinux_2_5_x86_64.manylinux1_x86_64.whl (256 kB)\n",
            "\u001b[?25l\r\u001b[K     |█▎                              | 10 kB 26.1 MB/s eta 0:00:01\r\u001b[K     |██▋                             | 20 kB 11.5 MB/s eta 0:00:01\r\u001b[K     |███▉                            | 30 kB 8.7 MB/s eta 0:00:01\r\u001b[K     |█████▏                          | 40 kB 7.6 MB/s eta 0:00:01\r\u001b[K     |██████▍                         | 51 kB 3.5 MB/s eta 0:00:01\r\u001b[K     |███████▊                        | 61 kB 4.1 MB/s eta 0:00:01\r\u001b[K     |█████████                       | 71 kB 4.3 MB/s eta 0:00:01\r\u001b[K     |██████████▎                     | 81 kB 4.7 MB/s eta 0:00:01\r\u001b[K     |███████████▌                    | 92 kB 5.2 MB/s eta 0:00:01\r\u001b[K     |████████████▉                   | 102 kB 4.0 MB/s eta 0:00:01\r\u001b[K     |██████████████                  | 112 kB 4.0 MB/s eta 0:00:01\r\u001b[K     |███████████████▍                | 122 kB 4.0 MB/s eta 0:00:01\r\u001b[K     |████████████████▋               | 133 kB 4.0 MB/s eta 0:00:01\r\u001b[K     |██████████████████              | 143 kB 4.0 MB/s eta 0:00:01\r\u001b[K     |███████████████████▏            | 153 kB 4.0 MB/s eta 0:00:01\r\u001b[K     |████████████████████▌           | 163 kB 4.0 MB/s eta 0:00:01\r\u001b[K     |█████████████████████▊          | 174 kB 4.0 MB/s eta 0:00:01\r\u001b[K     |███████████████████████         | 184 kB 4.0 MB/s eta 0:00:01\r\u001b[K     |████████████████████████▎       | 194 kB 4.0 MB/s eta 0:00:01\r\u001b[K     |█████████████████████████▋      | 204 kB 4.0 MB/s eta 0:00:01\r\u001b[K     |██████████████████████████▉     | 215 kB 4.0 MB/s eta 0:00:01\r\u001b[K     |████████████████████████████▏   | 225 kB 4.0 MB/s eta 0:00:01\r\u001b[K     |█████████████████████████████▍  | 235 kB 4.0 MB/s eta 0:00:01\r\u001b[K     |██████████████████████████████▊ | 245 kB 4.0 MB/s eta 0:00:01\r\u001b[K     |████████████████████████████████| 256 kB 4.0 MB/s eta 0:00:01\r\u001b[K     |████████████████████████████████| 256 kB 4.0 MB/s \n",
            "\u001b[?25hInstalling collected packages: pickle5\n",
            "Successfully installed pickle5-0.0.12\n"
          ]
        }
      ]
    },
    {
      "cell_type": "code",
      "execution_count": 4,
      "metadata": {
        "id": "sBeI3CEZ9Lgx"
      },
      "outputs": [],
      "source": [
        "with open('/content/drive/MyDrive/10000/Tresult.pkl', \"rb\") as fh:\n",
        "  result = pickle.load(fh)"
      ]
    },
    {
      "cell_type": "code",
      "execution_count": 5,
      "metadata": {
        "colab": {
          "base_uri": "https://localhost:8080/"
        },
        "id": "7ek_16OE-SE5",
        "outputId": "21981095-f16b-401d-963f-01bac5f4120a"
      },
      "outputs": [
        {
          "output_type": "stream",
          "name": "stdout",
          "text": [
            "               0         1         2         3         4         5         6  \\\n",
            "0      -2.178515 -3.260148 -0.698552 -1.030417 -0.723180 -1.027433 -0.405889   \n",
            "1      -2.178515 -3.260148 -0.698552 -1.030417 -0.723180 -1.027433 -0.405889   \n",
            "2      -2.178515 -3.260148 -0.698552 -1.030417 -0.723180 -1.027433 -0.405889   \n",
            "3      -2.178515 -3.260148 -0.698552 -1.030417 -0.723180 -1.027433 -0.405889   \n",
            "4      -2.178710 -3.260547 -0.698874 -1.030967 -0.723695 -1.028303 -0.406622   \n",
            "...          ...       ...       ...       ...       ...       ...       ...   \n",
            "13209  -2.178515 -3.260148 -0.698552 -1.030417 -0.723180 -1.027433 -0.405889   \n",
            "13210  -2.178515 -3.260148 -0.698552 -1.030417 -0.723180 -1.027433 -0.405889   \n",
            "13211  -2.178515 -3.260148 -0.698552 -1.030417 -0.723180 -1.027433 -0.405889   \n",
            "13212  -2.178515 -3.260148 -0.698552 -1.030417 -0.723180 -1.027433 -0.405889   \n",
            "13213  27.606119  6.905609  0.154864  0.191890  0.097248  0.114301  0.021144   \n",
            "\n",
            "              7         8         9  ...          1         2         3  \\\n",
            "0     -0.059185 -0.526790 -0.190040  ...   0.452139 -1.203407 -0.183899   \n",
            "1     -0.059185 -0.526790 -0.190040  ...   0.452139 -1.203407 -0.183899   \n",
            "2     -0.059185 -0.526790 -0.190040  ...   0.452139 -1.203407 -0.183899   \n",
            "3     -0.059185 -0.526790 -0.190040  ...   0.452139 -1.203407 -0.183899   \n",
            "4     -0.059394 -0.528048 -0.191038  ...  -7.508892  7.994602  0.226101   \n",
            "...         ...       ...       ...  ...        ...       ...       ...   \n",
            "13209 -0.059185 -0.526790 -0.190040  ...   1.554089 -4.346298  9.404540   \n",
            "13210 -0.059185 -0.526790 -0.190040  ...   0.599942 -1.505019 -0.218230   \n",
            "13211 -0.059185 -0.526790 -0.190040  ...  -8.533632  9.178701  0.278730   \n",
            "13212 -0.059185 -0.526790 -0.190040  ...  -8.533631  9.178698  0.278730   \n",
            "13213  0.002302  0.020160  0.004991  ... -11.890588  4.271539  0.100003   \n",
            "\n",
            "              4         5         6         7         8         9  label  \n",
            "0     -0.438911 -0.266164 -0.544673 -0.224884 -0.068575 -0.230930      1  \n",
            "1     -0.438911 -0.266164 -0.544673 -0.224884 -0.068575 -0.230930      1  \n",
            "2     -0.438911 -0.266164 -0.544673 -0.224884 -0.068575 -0.230930      1  \n",
            "3     -0.438911 -0.266164 -0.544673 -0.224884 -0.068575 -0.230930      1  \n",
            "4      0.991238  0.482262  0.829106  0.246306  0.048557  0.160622      1  \n",
            "...         ...       ...       ...       ...       ...       ...    ...  \n",
            "13209  4.676083  1.038614  1.272721  0.249463  0.046943  0.150109      0  \n",
            "13210 -0.586787 -0.370000 -0.787776 -0.380601 -0.129873 -0.451315      0  \n",
            "13211  1.177091  0.579516  1.007372  0.308708  0.063843  0.211098      0  \n",
            "13212  1.177090  0.579515  1.007370  0.308707  0.063843  0.211097      0  \n",
            "13213  0.324583  0.150424  0.249943  0.068055  0.013998  0.046459      0  \n",
            "\n",
            "[13214 rows x 101 columns]\n"
          ]
        }
      ],
      "source": [
        "#final data\n",
        "print(result)"
      ]
    },
    {
      "cell_type": "markdown",
      "metadata": {
        "id": "pHFAv3mYWkfy"
      },
      "source": [
        "# **logestic** **regression**"
      ]
    },
    {
      "cell_type": "code",
      "source": [
        "#divide data in to data_label and non_data label\n",
        "\n",
        "y=result.label\n",
        "pd.options.mode.chained_assignment = None  # default='warn'\n",
        "for i in range(len(y)):\n",
        "  if y[i]==1:\n",
        "    y[i]=0\n",
        "  else:\n",
        "    y[i]=1"
      ],
      "metadata": {
        "id": "5TSb2jtRQXu-"
      },
      "execution_count": 6,
      "outputs": []
    },
    {
      "cell_type": "code",
      "source": [
        "result_nonlabel=copy.deepcopy(result)\n",
        "del result_nonlabel['label']\n",
        "X=result_nonlabel"
      ],
      "metadata": {
        "id": "DFEMiohvueQV"
      },
      "execution_count": 7,
      "outputs": []
    },
    {
      "cell_type": "code",
      "execution_count": 8,
      "metadata": {
        "id": "MT1dmoumDAhr"
      },
      "outputs": [],
      "source": [
        "#splitting data in to test and train...\n",
        "\n",
        "x_train, x_test, y_train, y_test = train_test_split(X, y, test_size=0.3,shuffle=True)"
      ]
    },
    {
      "cell_type": "code",
      "execution_count": 9,
      "metadata": {
        "colab": {
          "base_uri": "https://localhost:8080/"
        },
        "id": "2Z3TwqtN0GOr",
        "outputId": "e2ff6a4d-7891-478b-b47e-481a62ba438d"
      },
      "outputs": [
        {
          "output_type": "execute_result",
          "data": {
            "text/plain": [
              "LogisticRegression(C=0.1, max_iter=1000, solver='newton-cg')"
            ]
          },
          "metadata": {},
          "execution_count": 9
        }
      ],
      "source": [
        "#train the data\n",
        "\n",
        "logisticRegr = LogisticRegression(penalty='l2', C=0.1,solver='newton-cg',max_iter=1000)\n",
        "logisticRegr.fit(x_train, y_train)"
      ]
    },
    {
      "cell_type": "code",
      "execution_count": 10,
      "metadata": {
        "colab": {
          "base_uri": "https://localhost:8080/"
        },
        "id": "cPfSV0_llevY",
        "outputId": "a6509a63-7183-4757-e061-bf037cca1a10"
      },
      "outputs": [
        {
          "output_type": "stream",
          "name": "stdout",
          "text": [
            "0.9475409836065574\n"
          ]
        }
      ],
      "source": [
        "#score of data by prediction at once\n",
        "\n",
        "predictions = logisticRegr.predict(x_test)\n",
        "score = logisticRegr.score(x_test, y_test)\n",
        "print(score)"
      ]
    },
    {
      "cell_type": "code",
      "execution_count": 11,
      "metadata": {
        "colab": {
          "base_uri": "https://localhost:8080/",
          "height": 352
        },
        "id": "34NgzA3RnUTu",
        "outputId": "677cae74-ae53-4fbd-9d8d-d602abdab9c8"
      },
      "outputs": [
        {
          "output_type": "stream",
          "name": "stdout",
          "text": [
            "Accuracy:  0.9475409836065574\n",
            "\n",
            "\n"
          ]
        },
        {
          "output_type": "execute_result",
          "data": {
            "text/plain": [
              "<matplotlib.axes._subplots.AxesSubplot at 0x7f106b89d6d0>"
            ]
          },
          "metadata": {},
          "execution_count": 11
        },
        {
          "output_type": "display_data",
          "data": {
            "text/plain": [
              "<Figure size 432x288 with 2 Axes>"
            ],
            "image/png": "[encoded data removed]"
          },
          "metadata": {
            "needs_background": "light"
          }
        }
      ],
      "source": [
        "#Accuracy\n",
        "\n",
        "print('Accuracy: ',metrics.accuracy_score(y_test, predictions))\n",
        "print('\\n')\n",
        "#plotting confusion_matrix\n",
        "\n",
        "confusion_matrix = pd.crosstab(y_test, predictions, rownames=['Actual'], colnames=['Predicted'])\n",
        "sns.heatmap(confusion_matrix, annot=True)"
      ]
    },
    {
      "cell_type": "code",
      "execution_count": 12,
      "metadata": {
        "colab": {
          "base_uri": "https://localhost:8080/"
        },
        "id": "xwpn5lEn0Ltr",
        "outputId": "24b84ad0-b343-4f16-b6ae-b0b1497f0472"
      },
      "outputs": [
        {
          "output_type": "stream",
          "name": "stdout",
          "text": [
            "Accuracy: 0.953 (0.005)\n"
          ]
        }
      ],
      "source": [
        "#cross_validation and accracy\n",
        "\n",
        "cv = KFold(n_splits=10, shuffle=True)#, random_state=42\n",
        "scores = cross_val_score(logisticRegr, X, y, scoring='accuracy', cv=cv)\n",
        "\n",
        "print('Accuracy: %.3f (%.3f)' % (mean(scores), std(scores)))"
      ]
    },
    {
      "cell_type": "code",
      "execution_count": 13,
      "metadata": {
        "colab": {
          "base_uri": "https://localhost:8080/"
        },
        "id": "1j-60Q7mFSlT",
        "outputId": "90fa2b0d-0baa-4df5-f5bb-f0526f6b2e4b"
      },
      "outputs": [
        {
          "output_type": "stream",
          "name": "stdout",
          "text": [
            "scores_recall: 0.819 (0.029)\n"
          ]
        }
      ],
      "source": [
        "#recall/TPR\n",
        "\n",
        "cv = KFold(n_splits=10, shuffle=True)#, shuffle=True, random_state=42\n",
        "scores_recall = cross_val_score(logisticRegr,X, y, scoring='recall', cv=cv)\n",
        "\n",
        "print('scores_recall: %.3f (%.3f)' % (mean(scores_recall), std(scores_recall)))"
      ]
    },
    {
      "cell_type": "code",
      "execution_count": 14,
      "metadata": {
        "id": "d_R5SCwRLE2J",
        "colab": {
          "base_uri": "https://localhost:8080/"
        },
        "outputId": "7e87c83b-6a2d-43e2-8c5e-7e4b549c738e"
      },
      "outputs": [
        {
          "output_type": "stream",
          "name": "stdout",
          "text": [
            "scores_precision: 0.995 (0.004)\n"
          ]
        }
      ],
      "source": [
        "#precision\n",
        "\n",
        "cv = KFold(n_splits=10, shuffle=True)#, shuffle=True, random_state=42\n",
        "scores_precision = cross_val_score(logisticRegr, X, y, scoring='precision', cv=cv)\n",
        "\n",
        "print('scores_precision: %.3f (%.3f)' % (mean(scores_precision), std(scores_precision)))"
      ]
    },
    {
      "cell_type": "code",
      "source": [
        "#FPR\n",
        "from sklearn.metrics import confusion_matrix\n",
        "kf = KFold(n_splits=10)\n",
        "res_fpr = list()\n",
        "\n",
        "for train_index , test_index in kf.split(X):\n",
        "\n",
        "    X_train, X_test, Y_train, Y_test = train_test_split(X, y, test_size=0.3)\n",
        "    logisticRegr.fit(X_train,Y_train)\n",
        "    pred_values = logisticRegr.predict(X_test)\n",
        "    tn, fp, fn, tp = confusion_matrix(Y_test, pred_values, labels=[0, 1]).ravel()\n",
        "    print(f'True Positives: {tp}')\n",
        "    print(f'False Positives: {fp}')\n",
        "    print(f'True Negatives: {tn}')\n",
        "    print(f'False Negatives: {fn}')\n",
        "    print('\\n')\n",
        "    fpr=(np.divide(fp,(fp+tn)))\n",
        "    if fp==0:\n",
        "      fpr=0\n",
        "\n",
        "    \n",
        "    print(' fpr=%.3f' % (  mean(fpr)))\n",
        "    res_fpr.append(mean(fpr))\n",
        "    print('---------------------')\n",
        "     \n",
        "total_fpr=np.sum(res_fpr)/10\n",
        "print('\\n\\n','total_fpr=%.3f' % (total_fpr))"
      ],
      "metadata": {
        "id": "boR6aVribuHU",
        "colab": {
          "base_uri": "https://localhost:8080/"
        },
        "outputId": "5552cc0e-7feb-4cac-8bb5-306c93234a0a"
      },
      "execution_count": 15,
      "outputs": [
        {
          "output_type": "stream",
          "name": "stdout",
          "text": [
            "True Positives: 754\n",
            "False Positives: 6\n",
            "True Negatives: 2994\n",
            "False Negatives: 211\n",
            "\n",
            "\n",
            " fpr=0.002\n",
            "---------------------\n",
            "True Positives: 762\n",
            "False Positives: 9\n",
            "True Negatives: 3001\n",
            "False Negatives: 193\n",
            "\n",
            "\n",
            " fpr=0.003\n",
            "---------------------\n",
            "True Positives: 758\n",
            "False Positives: 3\n",
            "True Negatives: 2992\n",
            "False Negatives: 212\n",
            "\n",
            "\n",
            " fpr=0.001\n",
            "---------------------\n",
            "True Positives: 807\n",
            "False Positives: 2\n",
            "True Negatives: 2969\n",
            "False Negatives: 187\n",
            "\n",
            "\n",
            " fpr=0.001\n",
            "---------------------\n",
            "True Positives: 769\n",
            "False Positives: 4\n",
            "True Negatives: 2970\n",
            "False Negatives: 222\n",
            "\n",
            "\n",
            " fpr=0.001\n",
            "---------------------\n",
            "True Positives: 795\n",
            "False Positives: 9\n",
            "True Negatives: 2928\n",
            "False Negatives: 233\n",
            "\n",
            "\n",
            " fpr=0.003\n",
            "---------------------\n",
            "True Positives: 797\n",
            "False Positives: 6\n",
            "True Negatives: 2971\n",
            "False Negatives: 191\n",
            "\n",
            "\n",
            " fpr=0.002\n",
            "---------------------\n",
            "True Positives: 787\n",
            "False Positives: 3\n",
            "True Negatives: 2978\n",
            "False Negatives: 197\n",
            "\n",
            "\n",
            " fpr=0.001\n",
            "---------------------\n",
            "True Positives: 763\n",
            "False Positives: 6\n",
            "True Negatives: 2993\n",
            "False Negatives: 203\n",
            "\n",
            "\n",
            " fpr=0.002\n",
            "---------------------\n",
            "True Positives: 788\n",
            "False Positives: 12\n",
            "True Negatives: 3002\n",
            "False Negatives: 163\n",
            "\n",
            "\n",
            " fpr=0.004\n",
            "---------------------\n",
            "\n",
            "\n",
            " total_fpr=0.002\n"
          ]
        }
      ]
    },
    {
      "cell_type": "code",
      "source": [
        "x=np.array(X)\n",
        "y_beta=np.array(y)"
      ],
      "metadata": {
        "id": "M_49dBG4sZGc"
      },
      "execution_count": 16,
      "outputs": []
    },
    {
      "cell_type": "code",
      "source": [
        "import numpy as np\n",
        "import matplotlib.pyplot as plt\n",
        "\n",
        "from sklearn import svm, datasets\n",
        "from sklearn.metrics import auc\n",
        "from sklearn.metrics import RocCurveDisplay\n",
        "from sklearn.model_selection import StratifiedKFold\n",
        "#from scipy import interp\n",
        "tprs = []\n",
        "aucs = []\n",
        "mean_fpr = np.linspace(0, 1, 100)\n",
        "plt.figure(figsize=(6,5))\n",
        "i = 0\n",
        "for train, test in cv.split(X, y):\n",
        "    probas_ = logisticRegr.fit(x[train], y_beta[train]).predict_proba(x[test])\n",
        "    # Compute ROC curve and area the curve\n",
        "    fpr, tpr, thresholds = roc_curve(y_beta[test], probas_[:, 1])\n",
        "    tprs.append(np.interp(mean_fpr, fpr, tpr))\n",
        "    tprs[-1][0] = 0.0\n",
        "    roc_auc = auc(fpr, tpr)\n",
        "    aucs.append(roc_auc)\n",
        "    plt.plot(fpr, tpr, lw=1, alpha=0.3,\n",
        "             label='ROC fold %d (AUC = %0.2f)' % (i, roc_auc))\n",
        "\n",
        "    i += 1\n",
        "plt.plot([0, 1], [0, 1], linestyle='--', lw=2, color='r',\n",
        "         label='Chance', alpha=.8)\n",
        "\n",
        "mean_tpr = np.mean(tprs, axis=0)\n",
        "mean_tpr[-1] = 1.0\n",
        "mean_auc = auc(mean_fpr, mean_tpr)\n",
        "std_auc = np.std(aucs)\n",
        "plt.plot(mean_fpr, mean_tpr, color='b',\n",
        "         label=r'Mean ROC (AUC = %0.2f $\\pm$ %0.2f)' % (mean_auc, std_auc),\n",
        "         lw=2, alpha=.8)\n",
        "\n",
        "std_tpr = np.std(tprs, axis=0)\n",
        "tprs_upper = np.minimum(mean_tpr + std_tpr, 1)\n",
        "tprs_lower = np.maximum(mean_tpr - std_tpr, 0)\n",
        "plt.fill_between(mean_fpr, tprs_lower, tprs_upper, color='grey', alpha=.2,\n",
        "                 label=r'$\\pm$ 1 std. dev.')\n",
        "\n",
        "plt.xlim([-0.01, 1.01])\n",
        "plt.ylim([-0.01, 1.01])\n",
        "plt.xlabel('False Positive Rate',fontsize=18)\n",
        "plt.ylabel('True Positive Rate',fontsize=18)\n",
        "plt.title('Cross-Validation ROC of logistic regression',fontsize=8)\n",
        "plt.legend(loc=\"lower right\", prop={'size': 8})\n",
        "plt.show()"
      ],
      "metadata": {
        "id": "eZjjuX75xCBn",
        "colab": {
          "base_uri": "https://localhost:8080/",
          "height": 355
        },
        "outputId": "797604e5-e68e-4f67-80a1-8a22972e2b3d"
      },
      "execution_count": 17,
      "outputs": [
        {
          "output_type": "display_data",
          "data": {
            "text/plain": [
              "<Figure size 432x360 with 1 Axes>"
            ],
            "image/png": "[encoded data removed]"
          },
          "metadata": {
            "needs_background": "light"
          }
        }
      ]
    }
  ],
  "metadata": {
    "colab": {
      "collapsed_sections": [],
      "name": "9.4_logesticregression13214.ipynb",
      "provenance": [],
      "include_colab_link": true
    },
    "kernelspec": {
      "display_name": "Python 3",
      "name": "python3"
    },
    "language_info": {
      "name": "python"
    }
  },
  "nbformat": 4,
  "nbformat_minor": 0
}